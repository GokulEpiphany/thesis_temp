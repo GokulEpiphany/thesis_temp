{
  "nbformat": 4,
  "nbformat_minor": 0,
  "metadata": {
    "colab": {
      "name": "Thesis",
      "provenance": [],
      "authorship_tag": "ABX9TyN8gUElktWDkUgkoKQOWBC+",
      "include_colab_link": true
    },
    "kernelspec": {
      "name": "python3",
      "display_name": "Python 3"
    },
    "language_info": {
      "name": "python"
    }
  },
  "cells": [
    {
      "cell_type": "markdown",
      "metadata": {
        "id": "view-in-github",
        "colab_type": "text"
      },
      "source": [
        "<a href=\"https://colab.research.google.com/github/GokulEpiphany/thesis_temp/blob/main/Thesis_final.ipynb\" target=\"_parent\"><img src=\"https://colab.research.google.com/assets/colab-badge.svg\" alt=\"Open In Colab\"/></a>"
      ]
    },
    {
      "cell_type": "code",
      "execution_count": 53,
      "metadata": {
        "id": "9XZhYTqDatiW"
      },
      "outputs": [],
      "source": [
        "import fastai\n"
      ]
    },
    {
      "cell_type": "code",
      "source": [
        "from pandas.api.types import is_string_dtype, is_numeric_dtype, is_categorical_dtype\n",
        "from sklearn.ensemble import RandomForestClassifier\n",
        "from sklearn.tree import DecisionTreeClassifier\n"
      ],
      "metadata": {
        "id": "9X292hw6auuH"
      },
      "execution_count": 54,
      "outputs": []
    },
    {
      "cell_type": "code",
      "source": [
        "!pip install fastai --upgrade"
      ],
      "metadata": {
        "id": "aFiPCsK1efYd"
      },
      "execution_count": 23,
      "outputs": []
    },
    {
      "cell_type": "code",
      "source": [
        "from fastai.tabular.all import *\n"
      ],
      "metadata": {
        "id": "UpfEBxk7eQTA"
      },
      "execution_count": 55,
      "outputs": []
    },
    {
      "cell_type": "code",
      "source": [
        "# Goal of the below models is to build a classifier that can accurately predict the \"Group the patient belongs to given the features\"\n",
        "# The following reads the CSV file, classifier has to find the group to which the patient data belongs to\n",
        "# \"GROUP\" is the column to be predicted, also called dependent variable\n",
        "# We will also be doing ablation study ( Keeping model and training procedure as same but change features) and report various metrics for 7 models"
      ],
      "metadata": {
        "id": "SBWcCDkJe6pg"
      },
      "execution_count": 56,
      "outputs": []
    },
    {
      "cell_type": "code",
      "source": [
        "import pandas as pd"
      ],
      "metadata": {
        "id": "tf-r4fSmfMRo"
      },
      "execution_count": 57,
      "outputs": []
    },
    {
      "cell_type": "code",
      "source": [
        "df = pd.read_csv('final_data_thesis.csv',header=0)"
      ],
      "metadata": {
        "id": "t-Ly4GUVgm1P"
      },
      "execution_count": 58,
      "outputs": []
    },
    {
      "cell_type": "code",
      "source": [
        "df.head()"
      ],
      "metadata": {
        "colab": {
          "base_uri": "https://localhost:8080/",
          "height": 409
        },
        "id": "HOySkuTKgrRP",
        "outputId": "26c60f17-6da0-4fc3-e92e-096dbb7c5ed9"
      },
      "execution_count": 59,
      "outputs": [
        {
          "output_type": "execute_result",
          "data": {
            "text/html": [
              "\n",
              "  <div id=\"df-7ee1f670-a5e0-47bc-9f98-635ce2ef3cd0\">\n",
              "    <div class=\"colab-df-container\">\n",
              "      <div>\n",
              "<style scoped>\n",
              "    .dataframe tbody tr th:only-of-type {\n",
              "        vertical-align: middle;\n",
              "    }\n",
              "\n",
              "    .dataframe tbody tr th {\n",
              "        vertical-align: top;\n",
              "    }\n",
              "\n",
              "    .dataframe thead th {\n",
              "        text-align: right;\n",
              "    }\n",
              "</style>\n",
              "<table border=\"1\" class=\"dataframe\">\n",
              "  <thead>\n",
              "    <tr style=\"text-align: right;\">\n",
              "      <th></th>\n",
              "      <th>AGE</th>\n",
              "      <th>GENDER</th>\n",
              "      <th>LA</th>\n",
              "      <th>AO</th>\n",
              "      <th>LVIDd</th>\n",
              "      <th>LVIDs</th>\n",
              "      <th>LVPWd</th>\n",
              "      <th>LVPWs</th>\n",
              "      <th>IVSDd</th>\n",
              "      <th>IVSDs</th>\n",
              "      <th>EF</th>\n",
              "      <th>FS</th>\n",
              "      <th>SV</th>\n",
              "      <th>EDV</th>\n",
              "      <th>ESV</th>\n",
              "      <th>RWT</th>\n",
              "      <th>PASP</th>\n",
              "      <th>PAH</th>\n",
              "      <th>CONC</th>\n",
              "      <th>MR</th>\n",
              "      <th>AR</th>\n",
              "      <th>TR</th>\n",
              "      <th>PR</th>\n",
              "      <th>PE</th>\n",
              "      <th>ASO</th>\n",
              "      <th>ESR</th>\n",
              "      <th>CRP</th>\n",
              "      <th>HEMOGLOBIN</th>\n",
              "      <th>RED BLOOD CELL DISTRIBUTION WIDTH</th>\n",
              "      <th>PLATELETS</th>\n",
              "      <th>NEUTROPHIL</th>\n",
              "      <th>EOSINOPHIL</th>\n",
              "      <th>BASOPHIL</th>\n",
              "      <th>LYMPHOCYTE</th>\n",
              "      <th>MONOCYTE</th>\n",
              "      <th>SODIUM</th>\n",
              "      <th>POTASSIUM</th>\n",
              "      <th>SYSTOLE</th>\n",
              "      <th>DIASTOLE</th>\n",
              "      <th>HR</th>\n",
              "      <th>DOE I - II</th>\n",
              "      <th>DOE III - IV</th>\n",
              "      <th>FEVER</th>\n",
              "      <th>COLD &amp; COUGH</th>\n",
              "      <th>SORETHROAT</th>\n",
              "      <th>CHEST PAIN</th>\n",
              "      <th>JOINT PAIN</th>\n",
              "      <th>PALPITATION</th>\n",
              "      <th>GIDDINESS</th>\n",
              "      <th>PEDAL EDMA</th>\n",
              "      <th>sST2</th>\n",
              "      <th>GROUP</th>\n",
              "    </tr>\n",
              "  </thead>\n",
              "  <tbody>\n",
              "    <tr>\n",
              "      <th>0</th>\n",
              "      <td>1</td>\n",
              "      <td>M</td>\n",
              "      <td>3.2</td>\n",
              "      <td>2.5</td>\n",
              "      <td>4.6</td>\n",
              "      <td>3.0</td>\n",
              "      <td>1.1</td>\n",
              "      <td>1.2</td>\n",
              "      <td>0.8</td>\n",
              "      <td>1.0</td>\n",
              "      <td>65</td>\n",
              "      <td>35</td>\n",
              "      <td>44</td>\n",
              "      <td>62</td>\n",
              "      <td>18</td>\n",
              "      <td>0.59</td>\n",
              "      <td>36</td>\n",
              "      <td>MILD</td>\n",
              "      <td>NO</td>\n",
              "      <td>MILD</td>\n",
              "      <td>NIL</td>\n",
              "      <td>MILD</td>\n",
              "      <td>NIL</td>\n",
              "      <td>NIL</td>\n",
              "      <td>400</td>\n",
              "      <td>13</td>\n",
              "      <td>0.0</td>\n",
              "      <td>12.3</td>\n",
              "      <td>12.5</td>\n",
              "      <td>256000</td>\n",
              "      <td>53.6</td>\n",
              "      <td>4.3</td>\n",
              "      <td>0.0</td>\n",
              "      <td>23.6</td>\n",
              "      <td>7.1</td>\n",
              "      <td>141</td>\n",
              "      <td>4.1</td>\n",
              "      <td>120</td>\n",
              "      <td>70</td>\n",
              "      <td>112</td>\n",
              "      <td>NO</td>\n",
              "      <td>YES</td>\n",
              "      <td>YES</td>\n",
              "      <td>YES</td>\n",
              "      <td>YES</td>\n",
              "      <td>NO</td>\n",
              "      <td>NO</td>\n",
              "      <td>YES</td>\n",
              "      <td>NO</td>\n",
              "      <td>NO</td>\n",
              "      <td>14.0</td>\n",
              "      <td>GROUP I (PHARYNGITIS)</td>\n",
              "    </tr>\n",
              "    <tr>\n",
              "      <th>1</th>\n",
              "      <td>10</td>\n",
              "      <td>M</td>\n",
              "      <td>3.0</td>\n",
              "      <td>2.5</td>\n",
              "      <td>4.4</td>\n",
              "      <td>2.4</td>\n",
              "      <td>1.0</td>\n",
              "      <td>1.3</td>\n",
              "      <td>1.0</td>\n",
              "      <td>1.5</td>\n",
              "      <td>63</td>\n",
              "      <td>33</td>\n",
              "      <td>67</td>\n",
              "      <td>89</td>\n",
              "      <td>21</td>\n",
              "      <td>0.45</td>\n",
              "      <td>34</td>\n",
              "      <td>NIL</td>\n",
              "      <td>NO</td>\n",
              "      <td>NIL</td>\n",
              "      <td>TRIVIAL</td>\n",
              "      <td>TRIVIAL</td>\n",
              "      <td>NIL</td>\n",
              "      <td>NIL</td>\n",
              "      <td>400</td>\n",
              "      <td>19</td>\n",
              "      <td>0.0</td>\n",
              "      <td>12.7</td>\n",
              "      <td>12.9</td>\n",
              "      <td>265000</td>\n",
              "      <td>43.5</td>\n",
              "      <td>1.3</td>\n",
              "      <td>0.9</td>\n",
              "      <td>26.0</td>\n",
              "      <td>2.5</td>\n",
              "      <td>139</td>\n",
              "      <td>3.5</td>\n",
              "      <td>120</td>\n",
              "      <td>60</td>\n",
              "      <td>65</td>\n",
              "      <td>NO</td>\n",
              "      <td>NO</td>\n",
              "      <td>NO</td>\n",
              "      <td>NO</td>\n",
              "      <td>YES</td>\n",
              "      <td>NO</td>\n",
              "      <td>NO</td>\n",
              "      <td>NO</td>\n",
              "      <td>NO</td>\n",
              "      <td>NO</td>\n",
              "      <td>6.5</td>\n",
              "      <td>GROUP I (PHARYNGITIS)</td>\n",
              "    </tr>\n",
              "    <tr>\n",
              "      <th>2</th>\n",
              "      <td>4</td>\n",
              "      <td>M</td>\n",
              "      <td>3.4</td>\n",
              "      <td>2.7</td>\n",
              "      <td>4.3</td>\n",
              "      <td>2.8</td>\n",
              "      <td>1.0</td>\n",
              "      <td>1.1</td>\n",
              "      <td>1.1</td>\n",
              "      <td>1.2</td>\n",
              "      <td>63</td>\n",
              "      <td>33</td>\n",
              "      <td>54</td>\n",
              "      <td>52</td>\n",
              "      <td>19</td>\n",
              "      <td>0.47</td>\n",
              "      <td>34</td>\n",
              "      <td>NIL</td>\n",
              "      <td>NO</td>\n",
              "      <td>TRIVIAL</td>\n",
              "      <td>NIL</td>\n",
              "      <td>NIL</td>\n",
              "      <td>NIL</td>\n",
              "      <td>NIL</td>\n",
              "      <td>0</td>\n",
              "      <td>55</td>\n",
              "      <td>11.0</td>\n",
              "      <td>13.5</td>\n",
              "      <td>12.0</td>\n",
              "      <td>365000</td>\n",
              "      <td>58.9</td>\n",
              "      <td>1.0</td>\n",
              "      <td>0.3</td>\n",
              "      <td>21.0</td>\n",
              "      <td>5.0</td>\n",
              "      <td>140</td>\n",
              "      <td>3.5</td>\n",
              "      <td>130</td>\n",
              "      <td>70</td>\n",
              "      <td>61</td>\n",
              "      <td>NO</td>\n",
              "      <td>NO</td>\n",
              "      <td>NO</td>\n",
              "      <td>NO</td>\n",
              "      <td>YES</td>\n",
              "      <td>NO</td>\n",
              "      <td>NO</td>\n",
              "      <td>NO</td>\n",
              "      <td>NO</td>\n",
              "      <td>NO</td>\n",
              "      <td>3.6</td>\n",
              "      <td>GROUP I (PHARYNGITIS)</td>\n",
              "    </tr>\n",
              "    <tr>\n",
              "      <th>3</th>\n",
              "      <td>11</td>\n",
              "      <td>M</td>\n",
              "      <td>3.1</td>\n",
              "      <td>2.4</td>\n",
              "      <td>3.5</td>\n",
              "      <td>2.4</td>\n",
              "      <td>1.0</td>\n",
              "      <td>1.2</td>\n",
              "      <td>1.0</td>\n",
              "      <td>1.2</td>\n",
              "      <td>60</td>\n",
              "      <td>30</td>\n",
              "      <td>33</td>\n",
              "      <td>52</td>\n",
              "      <td>19</td>\n",
              "      <td>0.57</td>\n",
              "      <td>42</td>\n",
              "      <td>MILD</td>\n",
              "      <td>NO</td>\n",
              "      <td>NIL</td>\n",
              "      <td>NIL</td>\n",
              "      <td>TRIVIAL</td>\n",
              "      <td>NIL</td>\n",
              "      <td>NIL</td>\n",
              "      <td>800</td>\n",
              "      <td>33</td>\n",
              "      <td>0.0</td>\n",
              "      <td>13.2</td>\n",
              "      <td>13.0</td>\n",
              "      <td>345000</td>\n",
              "      <td>52.6</td>\n",
              "      <td>2.8</td>\n",
              "      <td>1.0</td>\n",
              "      <td>20.0</td>\n",
              "      <td>6.3</td>\n",
              "      <td>136</td>\n",
              "      <td>4.0</td>\n",
              "      <td>120</td>\n",
              "      <td>80</td>\n",
              "      <td>58</td>\n",
              "      <td>NO</td>\n",
              "      <td>YES</td>\n",
              "      <td>YES</td>\n",
              "      <td>NO</td>\n",
              "      <td>YES</td>\n",
              "      <td>NO</td>\n",
              "      <td>NO</td>\n",
              "      <td>YES</td>\n",
              "      <td>NO</td>\n",
              "      <td>NO</td>\n",
              "      <td>15.2</td>\n",
              "      <td>GROUP I (PHARYNGITIS)</td>\n",
              "    </tr>\n",
              "    <tr>\n",
              "      <th>4</th>\n",
              "      <td>27</td>\n",
              "      <td>M</td>\n",
              "      <td>3.6</td>\n",
              "      <td>2.9</td>\n",
              "      <td>4.2</td>\n",
              "      <td>3.4</td>\n",
              "      <td>1.1</td>\n",
              "      <td>1.3</td>\n",
              "      <td>1.0</td>\n",
              "      <td>1.1</td>\n",
              "      <td>58</td>\n",
              "      <td>29</td>\n",
              "      <td>60</td>\n",
              "      <td>106</td>\n",
              "      <td>46</td>\n",
              "      <td>0.52</td>\n",
              "      <td>37</td>\n",
              "      <td>MILD</td>\n",
              "      <td>NO</td>\n",
              "      <td>MILD</td>\n",
              "      <td>NIL</td>\n",
              "      <td>MILD</td>\n",
              "      <td>NIL</td>\n",
              "      <td>NIL</td>\n",
              "      <td>400</td>\n",
              "      <td>20</td>\n",
              "      <td>0.0</td>\n",
              "      <td>12.9</td>\n",
              "      <td>13.4</td>\n",
              "      <td>296000</td>\n",
              "      <td>60.0</td>\n",
              "      <td>1.0</td>\n",
              "      <td>0.6</td>\n",
              "      <td>41.6</td>\n",
              "      <td>4.3</td>\n",
              "      <td>140</td>\n",
              "      <td>3.5</td>\n",
              "      <td>120</td>\n",
              "      <td>70</td>\n",
              "      <td>109</td>\n",
              "      <td>NO</td>\n",
              "      <td>YES</td>\n",
              "      <td>YES</td>\n",
              "      <td>NO</td>\n",
              "      <td>YES</td>\n",
              "      <td>NO</td>\n",
              "      <td>NO</td>\n",
              "      <td>YES</td>\n",
              "      <td>NO</td>\n",
              "      <td>NO</td>\n",
              "      <td>14.6</td>\n",
              "      <td>GROUP I (PHARYNGITIS)</td>\n",
              "    </tr>\n",
              "  </tbody>\n",
              "</table>\n",
              "</div>\n",
              "      <button class=\"colab-df-convert\" onclick=\"convertToInteractive('df-7ee1f670-a5e0-47bc-9f98-635ce2ef3cd0')\"\n",
              "              title=\"Convert this dataframe to an interactive table.\"\n",
              "              style=\"display:none;\">\n",
              "        \n",
              "  <svg xmlns=\"http://www.w3.org/2000/svg\" height=\"24px\"viewBox=\"0 0 24 24\"\n",
              "       width=\"24px\">\n",
              "    <path d=\"M0 0h24v24H0V0z\" fill=\"none\"/>\n",
              "    <path d=\"M18.56 5.44l.94 2.06.94-2.06 2.06-.94-2.06-.94-.94-2.06-.94 2.06-2.06.94zm-11 1L8.5 8.5l.94-2.06 2.06-.94-2.06-.94L8.5 2.5l-.94 2.06-2.06.94zm10 10l.94 2.06.94-2.06 2.06-.94-2.06-.94-.94-2.06-.94 2.06-2.06.94z\"/><path d=\"M17.41 7.96l-1.37-1.37c-.4-.4-.92-.59-1.43-.59-.52 0-1.04.2-1.43.59L10.3 9.45l-7.72 7.72c-.78.78-.78 2.05 0 2.83L4 21.41c.39.39.9.59 1.41.59.51 0 1.02-.2 1.41-.59l7.78-7.78 2.81-2.81c.8-.78.8-2.07 0-2.86zM5.41 20L4 18.59l7.72-7.72 1.47 1.35L5.41 20z\"/>\n",
              "  </svg>\n",
              "      </button>\n",
              "      \n",
              "  <style>\n",
              "    .colab-df-container {\n",
              "      display:flex;\n",
              "      flex-wrap:wrap;\n",
              "      gap: 12px;\n",
              "    }\n",
              "\n",
              "    .colab-df-convert {\n",
              "      background-color: #E8F0FE;\n",
              "      border: none;\n",
              "      border-radius: 50%;\n",
              "      cursor: pointer;\n",
              "      display: none;\n",
              "      fill: #1967D2;\n",
              "      height: 32px;\n",
              "      padding: 0 0 0 0;\n",
              "      width: 32px;\n",
              "    }\n",
              "\n",
              "    .colab-df-convert:hover {\n",
              "      background-color: #E2EBFA;\n",
              "      box-shadow: 0px 1px 2px rgba(60, 64, 67, 0.3), 0px 1px 3px 1px rgba(60, 64, 67, 0.15);\n",
              "      fill: #174EA6;\n",
              "    }\n",
              "\n",
              "    [theme=dark] .colab-df-convert {\n",
              "      background-color: #3B4455;\n",
              "      fill: #D2E3FC;\n",
              "    }\n",
              "\n",
              "    [theme=dark] .colab-df-convert:hover {\n",
              "      background-color: #434B5C;\n",
              "      box-shadow: 0px 1px 3px 1px rgba(0, 0, 0, 0.15);\n",
              "      filter: drop-shadow(0px 1px 2px rgba(0, 0, 0, 0.3));\n",
              "      fill: #FFFFFF;\n",
              "    }\n",
              "  </style>\n",
              "\n",
              "      <script>\n",
              "        const buttonEl =\n",
              "          document.querySelector('#df-7ee1f670-a5e0-47bc-9f98-635ce2ef3cd0 button.colab-df-convert');\n",
              "        buttonEl.style.display =\n",
              "          google.colab.kernel.accessAllowed ? 'block' : 'none';\n",
              "\n",
              "        async function convertToInteractive(key) {\n",
              "          const element = document.querySelector('#df-7ee1f670-a5e0-47bc-9f98-635ce2ef3cd0');\n",
              "          const dataTable =\n",
              "            await google.colab.kernel.invokeFunction('convertToInteractive',\n",
              "                                                     [key], {});\n",
              "          if (!dataTable) return;\n",
              "\n",
              "          const docLinkHtml = 'Like what you see? Visit the ' +\n",
              "            '<a target=\"_blank\" href=https://colab.research.google.com/notebooks/data_table.ipynb>data table notebook</a>'\n",
              "            + ' to learn more about interactive tables.';\n",
              "          element.innerHTML = '';\n",
              "          dataTable['output_type'] = 'display_data';\n",
              "          await google.colab.output.renderOutput(dataTable, element);\n",
              "          const docLink = document.createElement('div');\n",
              "          docLink.innerHTML = docLinkHtml;\n",
              "          element.appendChild(docLink);\n",
              "        }\n",
              "      </script>\n",
              "    </div>\n",
              "  </div>\n",
              "  "
            ],
            "text/plain": [
              "   AGE GENDER   LA   AO  LVIDd  LVIDs  LVPWd  LVPWs  IVSDd  IVSDs  EF  FS  SV  \\\n",
              "0    1      M  3.2  2.5    4.6    3.0    1.1    1.2    0.8    1.0  65  35  44   \n",
              "1   10      M  3.0  2.5    4.4    2.4    1.0    1.3    1.0    1.5  63  33  67   \n",
              "2    4      M  3.4  2.7    4.3    2.8    1.0    1.1    1.1    1.2  63  33  54   \n",
              "3   11      M  3.1  2.4    3.5    2.4    1.0    1.2    1.0    1.2  60  30  33   \n",
              "4   27      M  3.6  2.9    4.2    3.4    1.1    1.3    1.0    1.1  58  29  60   \n",
              "\n",
              "   EDV  ESV   RWT  PASP   PAH CONC       MR       AR       TR   PR   PE  ASO  \\\n",
              "0   62   18  0.59    36  MILD   NO     MILD      NIL     MILD  NIL  NIL  400   \n",
              "1   89   21  0.45    34   NIL   NO      NIL  TRIVIAL  TRIVIAL  NIL  NIL  400   \n",
              "2   52   19  0.47    34   NIL   NO  TRIVIAL      NIL      NIL  NIL  NIL    0   \n",
              "3   52   19  0.57    42  MILD   NO      NIL      NIL  TRIVIAL  NIL  NIL  800   \n",
              "4  106   46  0.52    37  MILD   NO     MILD      NIL     MILD  NIL  NIL  400   \n",
              "\n",
              "   ESR   CRP  HEMOGLOBIN  RED BLOOD CELL DISTRIBUTION WIDTH  PLATELETS  \\\n",
              "0   13   0.0        12.3                               12.5     256000   \n",
              "1   19   0.0        12.7                               12.9     265000   \n",
              "2   55  11.0        13.5                               12.0     365000   \n",
              "3   33   0.0        13.2                               13.0     345000   \n",
              "4   20   0.0        12.9                               13.4     296000   \n",
              "\n",
              "   NEUTROPHIL  EOSINOPHIL  BASOPHIL  LYMPHOCYTE  MONOCYTE  SODIUM  POTASSIUM  \\\n",
              "0        53.6         4.3       0.0        23.6       7.1     141        4.1   \n",
              "1        43.5         1.3       0.9        26.0       2.5     139        3.5   \n",
              "2        58.9         1.0       0.3        21.0       5.0     140        3.5   \n",
              "3        52.6         2.8       1.0        20.0       6.3     136        4.0   \n",
              "4        60.0         1.0       0.6        41.6       4.3     140        3.5   \n",
              "\n",
              "   SYSTOLE  DIASTOLE   HR DOE I - II DOE III - IV FEVER COLD & COUGH  \\\n",
              "0      120        70  112         NO          YES   YES          YES   \n",
              "1      120        60   65         NO           NO    NO           NO   \n",
              "2      130        70   61         NO           NO    NO           NO   \n",
              "3      120        80   58         NO          YES   YES           NO   \n",
              "4      120        70  109         NO          YES   YES           NO   \n",
              "\n",
              "  SORETHROAT CHEST PAIN JOINT PAIN PALPITATION GIDDINESS PEDAL EDMA  sST2  \\\n",
              "0        YES         NO         NO         YES        NO         NO  14.0   \n",
              "1        YES         NO         NO          NO        NO         NO   6.5   \n",
              "2        YES         NO         NO          NO        NO         NO   3.6   \n",
              "3        YES         NO         NO         YES        NO         NO  15.2   \n",
              "4        YES         NO         NO         YES        NO         NO  14.6   \n",
              "\n",
              "                   GROUP  \n",
              "0  GROUP I (PHARYNGITIS)  \n",
              "1  GROUP I (PHARYNGITIS)  \n",
              "2  GROUP I (PHARYNGITIS)  \n",
              "3  GROUP I (PHARYNGITIS)  \n",
              "4  GROUP I (PHARYNGITIS)  "
            ]
          },
          "metadata": {},
          "execution_count": 59
        }
      ]
    },
    {
      "cell_type": "code",
      "source": [
        "df.columns"
      ],
      "metadata": {
        "colab": {
          "base_uri": "https://localhost:8080/"
        },
        "id": "_OeKLPi2gsPQ",
        "outputId": "acf3a708-57e8-4665-c178-d0d09d43099b"
      },
      "execution_count": 60,
      "outputs": [
        {
          "output_type": "execute_result",
          "data": {
            "text/plain": [
              "Index(['AGE', 'GENDER', 'LA', 'AO', 'LVIDd', 'LVIDs', 'LVPWd', 'LVPWs',\n",
              "       'IVSDd', 'IVSDs', 'EF', 'FS', 'SV', 'EDV', 'ESV', 'RWT', 'PASP', 'PAH',\n",
              "       'CONC', 'MR', 'AR', 'TR', 'PR', 'PE', 'ASO', 'ESR', 'CRP', 'HEMOGLOBIN',\n",
              "       'RED BLOOD CELL DISTRIBUTION WIDTH', 'PLATELETS', 'NEUTROPHIL',\n",
              "       'EOSINOPHIL', 'BASOPHIL', 'LYMPHOCYTE', 'MONOCYTE', 'SODIUM',\n",
              "       'POTASSIUM', 'SYSTOLE', 'DIASTOLE', 'HR', 'DOE I - II', 'DOE III - IV',\n",
              "       'FEVER', 'COLD & COUGH', 'SORETHROAT', 'CHEST PAIN', 'JOINT PAIN',\n",
              "       'PALPITATION', 'GIDDINESS', 'PEDAL EDMA', 'sST2', 'GROUP'],\n",
              "      dtype='object')"
            ]
          },
          "metadata": {},
          "execution_count": 60
        }
      ]
    },
    {
      "cell_type": "code",
      "source": [
        "len(df.columns)"
      ],
      "metadata": {
        "colab": {
          "base_uri": "https://localhost:8080/"
        },
        "id": "Dmt1VWguceMv",
        "outputId": "5bb3fef0-1213-42ee-cf06-084a50f481fb"
      },
      "execution_count": 61,
      "outputs": [
        {
          "output_type": "execute_result",
          "data": {
            "text/plain": [
              "52"
            ]
          },
          "metadata": {},
          "execution_count": 61
        }
      ]
    },
    {
      "cell_type": "code",
      "source": [
        "dependant_variable = 'GROUP'"
      ],
      "metadata": {
        "id": "R4V6K2fSg5cg"
      },
      "execution_count": 62,
      "outputs": []
    },
    {
      "cell_type": "code",
      "source": [
        "#We have to shuffle rows to generate train and test data\n",
        "df = df.reindex(np.random.permutation(df.index))"
      ],
      "metadata": {
        "id": "WIE6O1RbhsZv"
      },
      "execution_count": 63,
      "outputs": []
    },
    {
      "cell_type": "code",
      "source": [
        "df.head()"
      ],
      "metadata": {
        "colab": {
          "base_uri": "https://localhost:8080/",
          "height": 409
        },
        "id": "3ClUxrWtiClw",
        "outputId": "91f2a11c-a8f2-4984-de48-3defa32847be"
      },
      "execution_count": 64,
      "outputs": [
        {
          "output_type": "execute_result",
          "data": {
            "text/html": [
              "\n",
              "  <div id=\"df-b45792fe-a6c0-4ae6-bb0a-3b57dd188bea\">\n",
              "    <div class=\"colab-df-container\">\n",
              "      <div>\n",
              "<style scoped>\n",
              "    .dataframe tbody tr th:only-of-type {\n",
              "        vertical-align: middle;\n",
              "    }\n",
              "\n",
              "    .dataframe tbody tr th {\n",
              "        vertical-align: top;\n",
              "    }\n",
              "\n",
              "    .dataframe thead th {\n",
              "        text-align: right;\n",
              "    }\n",
              "</style>\n",
              "<table border=\"1\" class=\"dataframe\">\n",
              "  <thead>\n",
              "    <tr style=\"text-align: right;\">\n",
              "      <th></th>\n",
              "      <th>AGE</th>\n",
              "      <th>GENDER</th>\n",
              "      <th>LA</th>\n",
              "      <th>AO</th>\n",
              "      <th>LVIDd</th>\n",
              "      <th>LVIDs</th>\n",
              "      <th>LVPWd</th>\n",
              "      <th>LVPWs</th>\n",
              "      <th>IVSDd</th>\n",
              "      <th>IVSDs</th>\n",
              "      <th>EF</th>\n",
              "      <th>FS</th>\n",
              "      <th>SV</th>\n",
              "      <th>EDV</th>\n",
              "      <th>ESV</th>\n",
              "      <th>RWT</th>\n",
              "      <th>PASP</th>\n",
              "      <th>PAH</th>\n",
              "      <th>CONC</th>\n",
              "      <th>MR</th>\n",
              "      <th>AR</th>\n",
              "      <th>TR</th>\n",
              "      <th>PR</th>\n",
              "      <th>PE</th>\n",
              "      <th>ASO</th>\n",
              "      <th>ESR</th>\n",
              "      <th>CRP</th>\n",
              "      <th>HEMOGLOBIN</th>\n",
              "      <th>RED BLOOD CELL DISTRIBUTION WIDTH</th>\n",
              "      <th>PLATELETS</th>\n",
              "      <th>NEUTROPHIL</th>\n",
              "      <th>EOSINOPHIL</th>\n",
              "      <th>BASOPHIL</th>\n",
              "      <th>LYMPHOCYTE</th>\n",
              "      <th>MONOCYTE</th>\n",
              "      <th>SODIUM</th>\n",
              "      <th>POTASSIUM</th>\n",
              "      <th>SYSTOLE</th>\n",
              "      <th>DIASTOLE</th>\n",
              "      <th>HR</th>\n",
              "      <th>DOE I - II</th>\n",
              "      <th>DOE III - IV</th>\n",
              "      <th>FEVER</th>\n",
              "      <th>COLD &amp; COUGH</th>\n",
              "      <th>SORETHROAT</th>\n",
              "      <th>CHEST PAIN</th>\n",
              "      <th>JOINT PAIN</th>\n",
              "      <th>PALPITATION</th>\n",
              "      <th>GIDDINESS</th>\n",
              "      <th>PEDAL EDMA</th>\n",
              "      <th>sST2</th>\n",
              "      <th>GROUP</th>\n",
              "    </tr>\n",
              "  </thead>\n",
              "  <tbody>\n",
              "    <tr>\n",
              "      <th>271</th>\n",
              "      <td>63</td>\n",
              "      <td>M</td>\n",
              "      <td>3.0</td>\n",
              "      <td>2.5</td>\n",
              "      <td>4.5</td>\n",
              "      <td>3.2</td>\n",
              "      <td>1.1</td>\n",
              "      <td>1.4</td>\n",
              "      <td>1.0</td>\n",
              "      <td>1.4</td>\n",
              "      <td>56</td>\n",
              "      <td>29</td>\n",
              "      <td>59</td>\n",
              "      <td>92</td>\n",
              "      <td>41</td>\n",
              "      <td>0.49</td>\n",
              "      <td>30</td>\n",
              "      <td>NIL</td>\n",
              "      <td>NO</td>\n",
              "      <td>NIL</td>\n",
              "      <td>NIL</td>\n",
              "      <td>TRIVIAL</td>\n",
              "      <td>NIL</td>\n",
              "      <td>NIL</td>\n",
              "      <td>0</td>\n",
              "      <td>0</td>\n",
              "      <td>0.0</td>\n",
              "      <td>14.1</td>\n",
              "      <td>10.9</td>\n",
              "      <td>251000</td>\n",
              "      <td>55.0</td>\n",
              "      <td>5.0</td>\n",
              "      <td>0.2</td>\n",
              "      <td>21.0</td>\n",
              "      <td>9.0</td>\n",
              "      <td>139</td>\n",
              "      <td>3.9</td>\n",
              "      <td>120</td>\n",
              "      <td>70</td>\n",
              "      <td>68</td>\n",
              "      <td>NO</td>\n",
              "      <td>NO</td>\n",
              "      <td>NO</td>\n",
              "      <td>NO</td>\n",
              "      <td>NO</td>\n",
              "      <td>NO</td>\n",
              "      <td>YES</td>\n",
              "      <td>NO</td>\n",
              "      <td>NO</td>\n",
              "      <td>NO</td>\n",
              "      <td>7.5</td>\n",
              "      <td>GROUP IV (CONTROL)</td>\n",
              "    </tr>\n",
              "    <tr>\n",
              "      <th>46</th>\n",
              "      <td>13</td>\n",
              "      <td>M</td>\n",
              "      <td>3.0</td>\n",
              "      <td>2.8</td>\n",
              "      <td>4.1</td>\n",
              "      <td>3.1</td>\n",
              "      <td>1.1</td>\n",
              "      <td>1.3</td>\n",
              "      <td>1.1</td>\n",
              "      <td>1.3</td>\n",
              "      <td>60</td>\n",
              "      <td>30</td>\n",
              "      <td>34</td>\n",
              "      <td>72</td>\n",
              "      <td>39</td>\n",
              "      <td>0.54</td>\n",
              "      <td>29</td>\n",
              "      <td>NIL</td>\n",
              "      <td>NO</td>\n",
              "      <td>NIL</td>\n",
              "      <td>NIL</td>\n",
              "      <td>NIL</td>\n",
              "      <td>NIL</td>\n",
              "      <td>NIL</td>\n",
              "      <td>800</td>\n",
              "      <td>40</td>\n",
              "      <td>23.4</td>\n",
              "      <td>12.5</td>\n",
              "      <td>12.0</td>\n",
              "      <td>372000</td>\n",
              "      <td>69.0</td>\n",
              "      <td>15.3</td>\n",
              "      <td>0.6</td>\n",
              "      <td>38.0</td>\n",
              "      <td>3.1</td>\n",
              "      <td>136</td>\n",
              "      <td>4.0</td>\n",
              "      <td>100</td>\n",
              "      <td>60</td>\n",
              "      <td>68</td>\n",
              "      <td>NO</td>\n",
              "      <td>YES</td>\n",
              "      <td>YES</td>\n",
              "      <td>NO</td>\n",
              "      <td>YES</td>\n",
              "      <td>YES</td>\n",
              "      <td>NO</td>\n",
              "      <td>NO</td>\n",
              "      <td>NO</td>\n",
              "      <td>NO</td>\n",
              "      <td>15.3</td>\n",
              "      <td>GROUP I (PHARYNGITIS)</td>\n",
              "    </tr>\n",
              "    <tr>\n",
              "      <th>167</th>\n",
              "      <td>62</td>\n",
              "      <td>M</td>\n",
              "      <td>3.4</td>\n",
              "      <td>2.9</td>\n",
              "      <td>4.7</td>\n",
              "      <td>3.3</td>\n",
              "      <td>1.2</td>\n",
              "      <td>1.3</td>\n",
              "      <td>1.2</td>\n",
              "      <td>1.5</td>\n",
              "      <td>56</td>\n",
              "      <td>29</td>\n",
              "      <td>56</td>\n",
              "      <td>101</td>\n",
              "      <td>50</td>\n",
              "      <td>0.51</td>\n",
              "      <td>48</td>\n",
              "      <td>MILD</td>\n",
              "      <td>YES</td>\n",
              "      <td>MILD</td>\n",
              "      <td>MODERATE</td>\n",
              "      <td>MILD</td>\n",
              "      <td>NIL</td>\n",
              "      <td>NIL</td>\n",
              "      <td>0</td>\n",
              "      <td>0</td>\n",
              "      <td>0.0</td>\n",
              "      <td>12.6</td>\n",
              "      <td>16.4</td>\n",
              "      <td>499000</td>\n",
              "      <td>93.2</td>\n",
              "      <td>10.4</td>\n",
              "      <td>0.5</td>\n",
              "      <td>23.6</td>\n",
              "      <td>6.2</td>\n",
              "      <td>142</td>\n",
              "      <td>4.0</td>\n",
              "      <td>110</td>\n",
              "      <td>60</td>\n",
              "      <td>66</td>\n",
              "      <td>NO</td>\n",
              "      <td>NO</td>\n",
              "      <td>NO</td>\n",
              "      <td>NO</td>\n",
              "      <td>NO</td>\n",
              "      <td>NO</td>\n",
              "      <td>NO</td>\n",
              "      <td>NO</td>\n",
              "      <td>NO</td>\n",
              "      <td>NO</td>\n",
              "      <td>23.5</td>\n",
              "      <td>GROUP III (RHD)</td>\n",
              "    </tr>\n",
              "    <tr>\n",
              "      <th>42</th>\n",
              "      <td>36</td>\n",
              "      <td>F</td>\n",
              "      <td>3.0</td>\n",
              "      <td>2.6</td>\n",
              "      <td>4.4</td>\n",
              "      <td>3.0</td>\n",
              "      <td>1.1</td>\n",
              "      <td>1.3</td>\n",
              "      <td>1.0</td>\n",
              "      <td>1.2</td>\n",
              "      <td>58</td>\n",
              "      <td>31</td>\n",
              "      <td>51</td>\n",
              "      <td>87</td>\n",
              "      <td>36</td>\n",
              "      <td>0.50</td>\n",
              "      <td>22</td>\n",
              "      <td>NIL</td>\n",
              "      <td>NO</td>\n",
              "      <td>NIL</td>\n",
              "      <td>NIL</td>\n",
              "      <td>TRIVIAL</td>\n",
              "      <td>NIL</td>\n",
              "      <td>NIL</td>\n",
              "      <td>0</td>\n",
              "      <td>39</td>\n",
              "      <td>0.0</td>\n",
              "      <td>12.5</td>\n",
              "      <td>12.1</td>\n",
              "      <td>468000</td>\n",
              "      <td>79.3</td>\n",
              "      <td>1.8</td>\n",
              "      <td>0.1</td>\n",
              "      <td>28.0</td>\n",
              "      <td>8.0</td>\n",
              "      <td>140</td>\n",
              "      <td>3.9</td>\n",
              "      <td>110</td>\n",
              "      <td>70</td>\n",
              "      <td>65</td>\n",
              "      <td>NO</td>\n",
              "      <td>YES</td>\n",
              "      <td>YES</td>\n",
              "      <td>YES</td>\n",
              "      <td>YES</td>\n",
              "      <td>YES</td>\n",
              "      <td>YES</td>\n",
              "      <td>NO</td>\n",
              "      <td>NO</td>\n",
              "      <td>NO</td>\n",
              "      <td>15.1</td>\n",
              "      <td>GROUP I (PHARYNGITIS)</td>\n",
              "    </tr>\n",
              "    <tr>\n",
              "      <th>350</th>\n",
              "      <td>41</td>\n",
              "      <td>M</td>\n",
              "      <td>3.3</td>\n",
              "      <td>3.1</td>\n",
              "      <td>4.7</td>\n",
              "      <td>2.9</td>\n",
              "      <td>1.1</td>\n",
              "      <td>1.3</td>\n",
              "      <td>1.1</td>\n",
              "      <td>1.3</td>\n",
              "      <td>65</td>\n",
              "      <td>35</td>\n",
              "      <td>69</td>\n",
              "      <td>101</td>\n",
              "      <td>32</td>\n",
              "      <td>0.47</td>\n",
              "      <td>30</td>\n",
              "      <td>NIL</td>\n",
              "      <td>NO</td>\n",
              "      <td>NIL</td>\n",
              "      <td>NIL</td>\n",
              "      <td>TRIVIAL</td>\n",
              "      <td>NIL</td>\n",
              "      <td>NIL</td>\n",
              "      <td>0</td>\n",
              "      <td>0</td>\n",
              "      <td>0.0</td>\n",
              "      <td>13.0</td>\n",
              "      <td>13.5</td>\n",
              "      <td>316000</td>\n",
              "      <td>46.8</td>\n",
              "      <td>4.6</td>\n",
              "      <td>0.8</td>\n",
              "      <td>26.1</td>\n",
              "      <td>7.1</td>\n",
              "      <td>143</td>\n",
              "      <td>3.8</td>\n",
              "      <td>100</td>\n",
              "      <td>60</td>\n",
              "      <td>70</td>\n",
              "      <td>NO</td>\n",
              "      <td>NO</td>\n",
              "      <td>NO</td>\n",
              "      <td>NO</td>\n",
              "      <td>NO</td>\n",
              "      <td>NO</td>\n",
              "      <td>NO</td>\n",
              "      <td>NO</td>\n",
              "      <td>NO</td>\n",
              "      <td>NO</td>\n",
              "      <td>10.2</td>\n",
              "      <td>GROUP IV (CONTROL)</td>\n",
              "    </tr>\n",
              "  </tbody>\n",
              "</table>\n",
              "</div>\n",
              "      <button class=\"colab-df-convert\" onclick=\"convertToInteractive('df-b45792fe-a6c0-4ae6-bb0a-3b57dd188bea')\"\n",
              "              title=\"Convert this dataframe to an interactive table.\"\n",
              "              style=\"display:none;\">\n",
              "        \n",
              "  <svg xmlns=\"http://www.w3.org/2000/svg\" height=\"24px\"viewBox=\"0 0 24 24\"\n",
              "       width=\"24px\">\n",
              "    <path d=\"M0 0h24v24H0V0z\" fill=\"none\"/>\n",
              "    <path d=\"M18.56 5.44l.94 2.06.94-2.06 2.06-.94-2.06-.94-.94-2.06-.94 2.06-2.06.94zm-11 1L8.5 8.5l.94-2.06 2.06-.94-2.06-.94L8.5 2.5l-.94 2.06-2.06.94zm10 10l.94 2.06.94-2.06 2.06-.94-2.06-.94-.94-2.06-.94 2.06-2.06.94z\"/><path d=\"M17.41 7.96l-1.37-1.37c-.4-.4-.92-.59-1.43-.59-.52 0-1.04.2-1.43.59L10.3 9.45l-7.72 7.72c-.78.78-.78 2.05 0 2.83L4 21.41c.39.39.9.59 1.41.59.51 0 1.02-.2 1.41-.59l7.78-7.78 2.81-2.81c.8-.78.8-2.07 0-2.86zM5.41 20L4 18.59l7.72-7.72 1.47 1.35L5.41 20z\"/>\n",
              "  </svg>\n",
              "      </button>\n",
              "      \n",
              "  <style>\n",
              "    .colab-df-container {\n",
              "      display:flex;\n",
              "      flex-wrap:wrap;\n",
              "      gap: 12px;\n",
              "    }\n",
              "\n",
              "    .colab-df-convert {\n",
              "      background-color: #E8F0FE;\n",
              "      border: none;\n",
              "      border-radius: 50%;\n",
              "      cursor: pointer;\n",
              "      display: none;\n",
              "      fill: #1967D2;\n",
              "      height: 32px;\n",
              "      padding: 0 0 0 0;\n",
              "      width: 32px;\n",
              "    }\n",
              "\n",
              "    .colab-df-convert:hover {\n",
              "      background-color: #E2EBFA;\n",
              "      box-shadow: 0px 1px 2px rgba(60, 64, 67, 0.3), 0px 1px 3px 1px rgba(60, 64, 67, 0.15);\n",
              "      fill: #174EA6;\n",
              "    }\n",
              "\n",
              "    [theme=dark] .colab-df-convert {\n",
              "      background-color: #3B4455;\n",
              "      fill: #D2E3FC;\n",
              "    }\n",
              "\n",
              "    [theme=dark] .colab-df-convert:hover {\n",
              "      background-color: #434B5C;\n",
              "      box-shadow: 0px 1px 3px 1px rgba(0, 0, 0, 0.15);\n",
              "      filter: drop-shadow(0px 1px 2px rgba(0, 0, 0, 0.3));\n",
              "      fill: #FFFFFF;\n",
              "    }\n",
              "  </style>\n",
              "\n",
              "      <script>\n",
              "        const buttonEl =\n",
              "          document.querySelector('#df-b45792fe-a6c0-4ae6-bb0a-3b57dd188bea button.colab-df-convert');\n",
              "        buttonEl.style.display =\n",
              "          google.colab.kernel.accessAllowed ? 'block' : 'none';\n",
              "\n",
              "        async function convertToInteractive(key) {\n",
              "          const element = document.querySelector('#df-b45792fe-a6c0-4ae6-bb0a-3b57dd188bea');\n",
              "          const dataTable =\n",
              "            await google.colab.kernel.invokeFunction('convertToInteractive',\n",
              "                                                     [key], {});\n",
              "          if (!dataTable) return;\n",
              "\n",
              "          const docLinkHtml = 'Like what you see? Visit the ' +\n",
              "            '<a target=\"_blank\" href=https://colab.research.google.com/notebooks/data_table.ipynb>data table notebook</a>'\n",
              "            + ' to learn more about interactive tables.';\n",
              "          element.innerHTML = '';\n",
              "          dataTable['output_type'] = 'display_data';\n",
              "          await google.colab.output.renderOutput(dataTable, element);\n",
              "          const docLink = document.createElement('div');\n",
              "          docLink.innerHTML = docLinkHtml;\n",
              "          element.appendChild(docLink);\n",
              "        }\n",
              "      </script>\n",
              "    </div>\n",
              "  </div>\n",
              "  "
            ],
            "text/plain": [
              "     AGE GENDER   LA   AO  LVIDd  LVIDs  LVPWd  LVPWs  IVSDd  IVSDs  EF  FS  \\\n",
              "271   63      M  3.0  2.5    4.5    3.2    1.1    1.4    1.0    1.4  56  29   \n",
              "46    13      M  3.0  2.8    4.1    3.1    1.1    1.3    1.1    1.3  60  30   \n",
              "167   62      M  3.4  2.9    4.7    3.3    1.2    1.3    1.2    1.5  56  29   \n",
              "42    36      F  3.0  2.6    4.4    3.0    1.1    1.3    1.0    1.2  58  31   \n",
              "350   41      M  3.3  3.1    4.7    2.9    1.1    1.3    1.1    1.3  65  35   \n",
              "\n",
              "     SV  EDV  ESV   RWT  PASP   PAH CONC    MR        AR       TR   PR   PE  \\\n",
              "271  59   92   41  0.49    30   NIL   NO   NIL       NIL  TRIVIAL  NIL  NIL   \n",
              "46   34   72   39  0.54    29   NIL   NO   NIL       NIL      NIL  NIL  NIL   \n",
              "167  56  101   50  0.51    48  MILD  YES  MILD  MODERATE     MILD  NIL  NIL   \n",
              "42   51   87   36  0.50    22   NIL   NO   NIL       NIL  TRIVIAL  NIL  NIL   \n",
              "350  69  101   32  0.47    30   NIL   NO   NIL       NIL  TRIVIAL  NIL  NIL   \n",
              "\n",
              "     ASO  ESR   CRP  HEMOGLOBIN  RED BLOOD CELL DISTRIBUTION WIDTH  PLATELETS  \\\n",
              "271    0    0   0.0        14.1                               10.9     251000   \n",
              "46   800   40  23.4        12.5                               12.0     372000   \n",
              "167    0    0   0.0        12.6                               16.4     499000   \n",
              "42     0   39   0.0        12.5                               12.1     468000   \n",
              "350    0    0   0.0        13.0                               13.5     316000   \n",
              "\n",
              "     NEUTROPHIL  EOSINOPHIL  BASOPHIL  LYMPHOCYTE  MONOCYTE  SODIUM  \\\n",
              "271        55.0         5.0       0.2        21.0       9.0     139   \n",
              "46         69.0        15.3       0.6        38.0       3.1     136   \n",
              "167        93.2        10.4       0.5        23.6       6.2     142   \n",
              "42         79.3         1.8       0.1        28.0       8.0     140   \n",
              "350        46.8         4.6       0.8        26.1       7.1     143   \n",
              "\n",
              "     POTASSIUM  SYSTOLE  DIASTOLE  HR DOE I - II DOE III - IV FEVER  \\\n",
              "271        3.9      120        70  68         NO           NO    NO   \n",
              "46         4.0      100        60  68         NO          YES   YES   \n",
              "167        4.0      110        60  66         NO           NO    NO   \n",
              "42         3.9      110        70  65         NO          YES   YES   \n",
              "350        3.8      100        60  70         NO           NO    NO   \n",
              "\n",
              "    COLD & COUGH SORETHROAT CHEST PAIN JOINT PAIN PALPITATION GIDDINESS  \\\n",
              "271           NO         NO         NO        YES          NO        NO   \n",
              "46            NO        YES        YES         NO          NO        NO   \n",
              "167           NO         NO         NO         NO          NO        NO   \n",
              "42           YES        YES        YES        YES          NO        NO   \n",
              "350           NO         NO         NO         NO          NO        NO   \n",
              "\n",
              "    PEDAL EDMA  sST2                  GROUP  \n",
              "271         NO   7.5     GROUP IV (CONTROL)  \n",
              "46          NO  15.3  GROUP I (PHARYNGITIS)  \n",
              "167         NO  23.5        GROUP III (RHD)  \n",
              "42          NO  15.1  GROUP I (PHARYNGITIS)  \n",
              "350         NO  10.2     GROUP IV (CONTROL)  "
            ]
          },
          "metadata": {},
          "execution_count": 64
        }
      ]
    },
    {
      "cell_type": "code",
      "source": [
        "df.to_csv('shuffled.csv',index=False)"
      ],
      "metadata": {
        "id": "69FMBfCRckIf"
      },
      "execution_count": 65,
      "outputs": []
    },
    {
      "cell_type": "code",
      "source": [
        "procs = [Categorify, FillMissing]"
      ],
      "metadata": {
        "id": "QQl36pM7iDu3"
      },
      "execution_count": 66,
      "outputs": []
    },
    {
      "cell_type": "code",
      "source": [
        "#Lets do a 70-30 split (357 rows, 249 will be used for training, 108 for testing)\n",
        "N = len(df)\n",
        "train_n = int( 0.70 * N )\n",
        "test_n = N - train_n"
      ],
      "metadata": {
        "id": "IAxod0p-iTwH"
      },
      "execution_count": 67,
      "outputs": []
    },
    {
      "cell_type": "code",
      "source": [
        "train_n,test_n"
      ],
      "metadata": {
        "colab": {
          "base_uri": "https://localhost:8080/"
        },
        "id": "Cpm4wH9oihFv",
        "outputId": "3ea57d6e-0b2b-46a7-882f-da7fdfb61374"
      },
      "execution_count": 68,
      "outputs": [
        {
          "output_type": "execute_result",
          "data": {
            "text/plain": [
              "(249, 108)"
            ]
          },
          "metadata": {},
          "execution_count": 68
        }
      ]
    },
    {
      "cell_type": "code",
      "source": [
        "splits= (list(range(train_n)),list(range(train_n,N)))"
      ],
      "metadata": {
        "id": "1hZ40AIqisyn"
      },
      "execution_count": 69,
      "outputs": []
    },
    {
      "cell_type": "code",
      "source": [
        "cont,cat = cont_cat_split(df, 1, dep_var=dependant_variable) # this preprocess the dataframe to find category/continous variables\n"
      ],
      "metadata": {
        "id": "x0FnnBJJjeMX"
      },
      "execution_count": 70,
      "outputs": []
    },
    {
      "cell_type": "code",
      "source": [
        "cont"
      ],
      "metadata": {
        "id": "PvfjkZ5Ojmi_"
      },
      "execution_count": null,
      "outputs": []
    },
    {
      "cell_type": "code",
      "source": [
        "cat"
      ],
      "metadata": {
        "id": "FmN6p3hNjpSX"
      },
      "execution_count": null,
      "outputs": []
    },
    {
      "cell_type": "code",
      "source": [
        "# On manual examination, platelets are not categorical variables, they must be continuous variable. "
      ],
      "metadata": {
        "id": "Hy-GrgZzdsP3"
      },
      "execution_count": null,
      "outputs": []
    },
    {
      "cell_type": "code",
      "source": [
        "df.dtypes"
      ],
      "metadata": {
        "id": "tTsx37DIdzbn"
      },
      "execution_count": null,
      "outputs": []
    },
    {
      "cell_type": "code",
      "source": [
        "df[\"PLATELETS\"] = df[\"PLATELETS\"].astype(str).astype(int)"
      ],
      "metadata": {
        "id": "Ft77-YInd9NP"
      },
      "execution_count": null,
      "outputs": []
    },
    {
      "cell_type": "code",
      "source": [
        "# seems to be an error : ValueError: invalid literal for int() with base 10: '4.12,000'\n",
        "# there was an error 4.12,000 in one of the cell causing this.\n"
      ],
      "metadata": {
        "id": "3ySfGI5reUXO"
      },
      "execution_count": 44,
      "outputs": []
    },
    {
      "cell_type": "code",
      "source": [
        "#checking now\n",
        "cont"
      ],
      "metadata": {
        "colab": {
          "base_uri": "https://localhost:8080/"
        },
        "id": "5pesiSB_gGA3",
        "outputId": "fecc089f-70f7-4d4c-b56b-19291ea60416"
      },
      "execution_count": 71,
      "outputs": [
        {
          "output_type": "execute_result",
          "data": {
            "text/plain": [
              "['AGE',\n",
              " 'LA',\n",
              " 'AO',\n",
              " 'LVIDd',\n",
              " 'LVIDs',\n",
              " 'LVPWd',\n",
              " 'LVPWs',\n",
              " 'IVSDd',\n",
              " 'IVSDs',\n",
              " 'EF',\n",
              " 'FS',\n",
              " 'SV',\n",
              " 'EDV',\n",
              " 'ESV',\n",
              " 'RWT',\n",
              " 'PASP',\n",
              " 'ASO',\n",
              " 'ESR',\n",
              " 'CRP',\n",
              " 'HEMOGLOBIN',\n",
              " 'RED BLOOD CELL DISTRIBUTION WIDTH',\n",
              " 'PLATELETS',\n",
              " 'NEUTROPHIL',\n",
              " 'EOSINOPHIL',\n",
              " 'BASOPHIL',\n",
              " 'LYMPHOCYTE',\n",
              " 'MONOCYTE',\n",
              " 'SODIUM',\n",
              " 'POTASSIUM',\n",
              " 'SYSTOLE',\n",
              " 'DIASTOLE',\n",
              " 'HR',\n",
              " 'sST2']"
            ]
          },
          "metadata": {},
          "execution_count": 71
        }
      ]
    },
    {
      "cell_type": "code",
      "source": [
        "cat"
      ],
      "metadata": {
        "colab": {
          "base_uri": "https://localhost:8080/"
        },
        "id": "kPry_ifugJWH",
        "outputId": "51172231-e251-42ef-f94f-9eeb35c97ee6"
      },
      "execution_count": 72,
      "outputs": [
        {
          "output_type": "execute_result",
          "data": {
            "text/plain": [
              "['GENDER',\n",
              " 'PAH',\n",
              " 'CONC',\n",
              " 'MR',\n",
              " 'AR',\n",
              " 'TR',\n",
              " 'PR',\n",
              " 'PE',\n",
              " 'DOE I - II',\n",
              " 'DOE III - IV',\n",
              " 'FEVER',\n",
              " 'COLD & COUGH',\n",
              " 'SORETHROAT',\n",
              " 'CHEST PAIN',\n",
              " 'JOINT PAIN',\n",
              " 'PALPITATION',\n",
              " 'GIDDINESS',\n",
              " 'PEDAL EDMA']"
            ]
          },
          "metadata": {},
          "execution_count": 72
        }
      ]
    },
    {
      "cell_type": "code",
      "source": [
        "df = df.fillna(0)"
      ],
      "metadata": {
        "id": "mV2foE-YkMI3"
      },
      "execution_count": 73,
      "outputs": []
    },
    {
      "cell_type": "code",
      "source": [
        "to = TabularPandas(df, procs, cat, cont, y_names=dependant_variable,y_block=CategoryBlock(), splits=splits)\n"
      ],
      "metadata": {
        "id": "Ut_mq3cajqmn"
      },
      "execution_count": 74,
      "outputs": []
    },
    {
      "cell_type": "code",
      "source": [
        "len(to.train),len(to.valid)\n"
      ],
      "metadata": {
        "colab": {
          "base_uri": "https://localhost:8080/"
        },
        "id": "hM9TdT0Wj2uH",
        "outputId": "59613f3b-07ab-4954-ad90-091942591af9"
      },
      "execution_count": 75,
      "outputs": [
        {
          "output_type": "execute_result",
          "data": {
            "text/plain": [
              "(249, 108)"
            ]
          },
          "metadata": {},
          "execution_count": 75
        }
      ]
    },
    {
      "cell_type": "code",
      "source": [
        "to.show(3)\n"
      ],
      "metadata": {
        "colab": {
          "base_uri": "https://localhost:8080/",
          "height": 268
        },
        "id": "C2E6F8-3kPp3",
        "outputId": "339f7fae-b7f6-43ae-9959-657fb5a9a931"
      },
      "execution_count": 76,
      "outputs": [
        {
          "output_type": "display_data",
          "data": {
            "text/html": [
              "<table border=\"1\" class=\"dataframe\">\n",
              "  <thead>\n",
              "    <tr style=\"text-align: right;\">\n",
              "      <th></th>\n",
              "      <th>GENDER</th>\n",
              "      <th>PAH</th>\n",
              "      <th>CONC</th>\n",
              "      <th>MR</th>\n",
              "      <th>AR</th>\n",
              "      <th>TR</th>\n",
              "      <th>PR</th>\n",
              "      <th>PE</th>\n",
              "      <th>DOE I - II</th>\n",
              "      <th>DOE III - IV</th>\n",
              "      <th>FEVER</th>\n",
              "      <th>COLD &amp; COUGH</th>\n",
              "      <th>SORETHROAT</th>\n",
              "      <th>CHEST PAIN</th>\n",
              "      <th>JOINT PAIN</th>\n",
              "      <th>PALPITATION</th>\n",
              "      <th>GIDDINESS</th>\n",
              "      <th>PEDAL EDMA</th>\n",
              "      <th>AGE</th>\n",
              "      <th>LA</th>\n",
              "      <th>AO</th>\n",
              "      <th>LVIDd</th>\n",
              "      <th>LVIDs</th>\n",
              "      <th>LVPWd</th>\n",
              "      <th>LVPWs</th>\n",
              "      <th>IVSDd</th>\n",
              "      <th>IVSDs</th>\n",
              "      <th>EF</th>\n",
              "      <th>FS</th>\n",
              "      <th>SV</th>\n",
              "      <th>EDV</th>\n",
              "      <th>ESV</th>\n",
              "      <th>RWT</th>\n",
              "      <th>PASP</th>\n",
              "      <th>ASO</th>\n",
              "      <th>ESR</th>\n",
              "      <th>CRP</th>\n",
              "      <th>HEMOGLOBIN</th>\n",
              "      <th>RED BLOOD CELL DISTRIBUTION WIDTH</th>\n",
              "      <th>PLATELETS</th>\n",
              "      <th>NEUTROPHIL</th>\n",
              "      <th>EOSINOPHIL</th>\n",
              "      <th>BASOPHIL</th>\n",
              "      <th>LYMPHOCYTE</th>\n",
              "      <th>MONOCYTE</th>\n",
              "      <th>SODIUM</th>\n",
              "      <th>POTASSIUM</th>\n",
              "      <th>SYSTOLE</th>\n",
              "      <th>DIASTOLE</th>\n",
              "      <th>HR</th>\n",
              "      <th>sST2</th>\n",
              "      <th>GROUP</th>\n",
              "    </tr>\n",
              "  </thead>\n",
              "  <tbody>\n",
              "    <tr>\n",
              "      <th>271</th>\n",
              "      <td>M</td>\n",
              "      <td>NIL</td>\n",
              "      <td>NO</td>\n",
              "      <td>NIL</td>\n",
              "      <td>NIL</td>\n",
              "      <td>TRIVIAL</td>\n",
              "      <td>NIL</td>\n",
              "      <td>NIL</td>\n",
              "      <td>NO</td>\n",
              "      <td>NO</td>\n",
              "      <td>NO</td>\n",
              "      <td>NO</td>\n",
              "      <td>NO</td>\n",
              "      <td>NO</td>\n",
              "      <td>YES</td>\n",
              "      <td>NO</td>\n",
              "      <td>NO</td>\n",
              "      <td>NO</td>\n",
              "      <td>63</td>\n",
              "      <td>3.0</td>\n",
              "      <td>2.5</td>\n",
              "      <td>4.5</td>\n",
              "      <td>3.2</td>\n",
              "      <td>1.1</td>\n",
              "      <td>1.4</td>\n",
              "      <td>1.0</td>\n",
              "      <td>1.4</td>\n",
              "      <td>56</td>\n",
              "      <td>29</td>\n",
              "      <td>59</td>\n",
              "      <td>92</td>\n",
              "      <td>41</td>\n",
              "      <td>0.49</td>\n",
              "      <td>30</td>\n",
              "      <td>0</td>\n",
              "      <td>0</td>\n",
              "      <td>0.0</td>\n",
              "      <td>14.1</td>\n",
              "      <td>10.9</td>\n",
              "      <td>251000</td>\n",
              "      <td>55.000000</td>\n",
              "      <td>5.0</td>\n",
              "      <td>0.2</td>\n",
              "      <td>21.0</td>\n",
              "      <td>9.0</td>\n",
              "      <td>139</td>\n",
              "      <td>3.9</td>\n",
              "      <td>120</td>\n",
              "      <td>70</td>\n",
              "      <td>68</td>\n",
              "      <td>7.5</td>\n",
              "      <td>GROUP IV (CONTROL)</td>\n",
              "    </tr>\n",
              "    <tr>\n",
              "      <th>46</th>\n",
              "      <td>M</td>\n",
              "      <td>NIL</td>\n",
              "      <td>NO</td>\n",
              "      <td>NIL</td>\n",
              "      <td>NIL</td>\n",
              "      <td>NIL</td>\n",
              "      <td>NIL</td>\n",
              "      <td>NIL</td>\n",
              "      <td>NO</td>\n",
              "      <td>YES</td>\n",
              "      <td>YES</td>\n",
              "      <td>NO</td>\n",
              "      <td>YES</td>\n",
              "      <td>YES</td>\n",
              "      <td>NO</td>\n",
              "      <td>NO</td>\n",
              "      <td>NO</td>\n",
              "      <td>NO</td>\n",
              "      <td>13</td>\n",
              "      <td>3.0</td>\n",
              "      <td>2.8</td>\n",
              "      <td>4.1</td>\n",
              "      <td>3.1</td>\n",
              "      <td>1.1</td>\n",
              "      <td>1.3</td>\n",
              "      <td>1.1</td>\n",
              "      <td>1.3</td>\n",
              "      <td>60</td>\n",
              "      <td>30</td>\n",
              "      <td>34</td>\n",
              "      <td>72</td>\n",
              "      <td>39</td>\n",
              "      <td>0.54</td>\n",
              "      <td>29</td>\n",
              "      <td>800</td>\n",
              "      <td>40</td>\n",
              "      <td>23.4</td>\n",
              "      <td>12.5</td>\n",
              "      <td>12.0</td>\n",
              "      <td>372000</td>\n",
              "      <td>69.000000</td>\n",
              "      <td>15.3</td>\n",
              "      <td>0.6</td>\n",
              "      <td>38.0</td>\n",
              "      <td>3.1</td>\n",
              "      <td>136</td>\n",
              "      <td>4.0</td>\n",
              "      <td>100</td>\n",
              "      <td>60</td>\n",
              "      <td>68</td>\n",
              "      <td>15.3</td>\n",
              "      <td>GROUP I (PHARYNGITIS)</td>\n",
              "    </tr>\n",
              "    <tr>\n",
              "      <th>167</th>\n",
              "      <td>M</td>\n",
              "      <td>MILD</td>\n",
              "      <td>YES</td>\n",
              "      <td>MILD</td>\n",
              "      <td>MODERATE</td>\n",
              "      <td>MILD</td>\n",
              "      <td>NIL</td>\n",
              "      <td>NIL</td>\n",
              "      <td>NO</td>\n",
              "      <td>NO</td>\n",
              "      <td>NO</td>\n",
              "      <td>NO</td>\n",
              "      <td>NO</td>\n",
              "      <td>NO</td>\n",
              "      <td>NO</td>\n",
              "      <td>NO</td>\n",
              "      <td>NO</td>\n",
              "      <td>NO</td>\n",
              "      <td>62</td>\n",
              "      <td>3.4</td>\n",
              "      <td>2.9</td>\n",
              "      <td>4.7</td>\n",
              "      <td>3.3</td>\n",
              "      <td>1.2</td>\n",
              "      <td>1.3</td>\n",
              "      <td>1.2</td>\n",
              "      <td>1.5</td>\n",
              "      <td>56</td>\n",
              "      <td>29</td>\n",
              "      <td>56</td>\n",
              "      <td>101</td>\n",
              "      <td>50</td>\n",
              "      <td>0.51</td>\n",
              "      <td>48</td>\n",
              "      <td>0</td>\n",
              "      <td>0</td>\n",
              "      <td>0.0</td>\n",
              "      <td>12.6</td>\n",
              "      <td>16.4</td>\n",
              "      <td>499000</td>\n",
              "      <td>93.199997</td>\n",
              "      <td>10.4</td>\n",
              "      <td>0.5</td>\n",
              "      <td>23.6</td>\n",
              "      <td>6.2</td>\n",
              "      <td>142</td>\n",
              "      <td>4.0</td>\n",
              "      <td>110</td>\n",
              "      <td>60</td>\n",
              "      <td>66</td>\n",
              "      <td>23.5</td>\n",
              "      <td>GROUP III (RHD)</td>\n",
              "    </tr>\n",
              "  </tbody>\n",
              "</table>"
            ],
            "text/plain": [
              "<IPython.core.display.HTML object>"
            ]
          },
          "metadata": {}
        }
      ]
    },
    {
      "cell_type": "code",
      "source": [
        "#Lets create a decision tree\n",
        "xs,y = to.train.xs,to.train.y\n",
        "valid_xs,valid_y = to.valid.xs,to.valid.y"
      ],
      "metadata": {
        "id": "UH1OAYVEkRBH"
      },
      "execution_count": 77,
      "outputs": []
    },
    {
      "cell_type": "code",
      "source": [
        "#some evaluation metrics\n",
        "from sklearn.metrics import accuracy_score,precision_score,recall_score,f1_score,roc_auc_score\n",
        "\n",
        "def get_metrics(m,valid_ds,true_y):\n",
        "  preds = m.predict(valid_ds)\n",
        "  return (accuracy_score(true_y,preds),precision_score(true_y,preds,average='macro'),recall_score(true_y,preds,average='macro'),f1_score(true_y,preds,average='macro'))\n",
        "  "
      ],
      "metadata": {
        "id": "jnxJQKFFmsZJ"
      },
      "execution_count": 128,
      "outputs": []
    },
    {
      "cell_type": "code",
      "source": [
        "m = DecisionTreeClassifier(max_leaf_nodes=40)\n",
        "m.fit(xs, y)"
      ],
      "metadata": {
        "colab": {
          "base_uri": "https://localhost:8080/"
        },
        "id": "AD0QBiG1kfWP",
        "outputId": "53f2fdf0-ffce-438d-d859-8a0f1bc145f2"
      },
      "execution_count": 136,
      "outputs": [
        {
          "output_type": "execute_result",
          "data": {
            "text/plain": [
              "DecisionTreeClassifier(max_leaf_nodes=40)"
            ]
          },
          "metadata": {},
          "execution_count": 136
        }
      ]
    },
    {
      "cell_type": "code",
      "source": [
        "!pip install -Uqq fastbook kaggle waterfallcharts treeinterpreter dtreeviz\n",
        "import fastbook\n",
        "fastbook.setup_book()\n",
        "\n"
      ],
      "metadata": {
        "id": "wpLXQXPwklhH"
      },
      "execution_count": 137,
      "outputs": []
    },
    {
      "cell_type": "code",
      "source": [
        "from sklearn.ensemble import RandomForestClassifier\n",
        "from sklearn.tree import DecisionTreeClassifier\n",
        "from dtreeviz.trees import *\n",
        "from IPython.display import Image, display_svg, SVG"
      ],
      "metadata": {
        "id": "AzTRWfJekuB4"
      },
      "execution_count": 138,
      "outputs": []
    },
    {
      "cell_type": "code",
      "source": [
        "from fastbook import *\n",
        "\n",
        "draw_tree(m, xs, size=10, leaves_parallel=True, precision=2)\n"
      ],
      "metadata": {
        "colab": {
          "base_uri": "https://localhost:8080/",
          "height": 600
        },
        "id": "oBuz2FB5l0JH",
        "outputId": "ae00729c-2bfe-4b37-a90c-2b8a83bbe59f"
      },
      "execution_count": 139,
      "outputs": [
        {
          "output_type": "execute_result",
          "data": {
            "text/plain": [
              "<graphviz.files.Source at 0x7f67347f3350>"
            ],
            "image/svg+xml": "<?xml version=\"1.0\" encoding=\"UTF-8\" standalone=\"no\"?>\n<!DOCTYPE svg PUBLIC \"-//W3C//DTD SVG 1.1//EN\"\n \"http://www.w3.org/Graphics/SVG/1.1/DTD/svg11.dtd\">\n<!-- Generated by graphviz version 2.40.1 (20161225.0304)\n -->\n<!-- Title: Tree Pages: 1 -->\n<svg width=\"720pt\" height=\"434pt\"\n viewBox=\"0.00 0.00 720.00 433.98\" xmlns=\"http://www.w3.org/2000/svg\" xmlns:xlink=\"http://www.w3.org/1999/xlink\">\n<g id=\"graph0\" class=\"graph\" transform=\"scale(.5221 .5221) rotate(0) translate(4 827.2013)\">\n<title>Tree</title>\n<polygon fill=\"#ffffff\" stroke=\"transparent\" points=\"-4,4 -4,-827.2013 1375,-827.2013 1375,4 -4,4\"/>\n<!-- 0 -->\n<g id=\"node1\" class=\"node\">\n<title>0</title>\n<path fill=\"#f4caf8\" stroke=\"#000000\" d=\"M537.5,-816C537.5,-816 389.5,-816 389.5,-816 383.5,-816 377.5,-810 377.5,-804 377.5,-804 377.5,-760 377.5,-760 377.5,-754 383.5,-748 389.5,-748 389.5,-748 537.5,-748 537.5,-748 543.5,-748 549.5,-754 549.5,-760 549.5,-760 549.5,-804 549.5,-804 549.5,-810 543.5,-816 537.5,-816\"/>\n<text text-anchor=\"start\" x=\"424\" y=\"-800.8\" font-family=\"Helvetica,sans-Serif\" font-size=\"14.00\" fill=\"#000000\">sST2 ≤ 13.0</text>\n<text text-anchor=\"start\" x=\"430\" y=\"-785.8\" font-family=\"Helvetica,sans-Serif\" font-size=\"14.00\" fill=\"#000000\">gini = 0.69</text>\n<text text-anchor=\"start\" x=\"415.5\" y=\"-770.8\" font-family=\"Helvetica,sans-Serif\" font-size=\"14.00\" fill=\"#000000\">samples = 249</text>\n<text text-anchor=\"start\" x=\"385.5\" y=\"-755.8\" font-family=\"Helvetica,sans-Serif\" font-size=\"14.00\" fill=\"#000000\">value = [37, 40, 61, 111]</text>\n</g>\n<!-- 1 -->\n<g id=\"node2\" class=\"node\">\n<title>1</title>\n<path fill=\"#de5be9\" stroke=\"#000000\" d=\"M300,-691C300,-691 169,-691 169,-691 163,-691 157,-685 157,-679 157,-679 157,-635 157,-635 157,-629 163,-623 169,-623 169,-623 300,-623 300,-623 306,-623 312,-629 312,-635 312,-635 312,-679 312,-679 312,-685 306,-691 300,-691\"/>\n<text text-anchor=\"start\" x=\"197.5\" y=\"-675.8\" font-family=\"Helvetica,sans-Serif\" font-size=\"14.00\" fill=\"#000000\">ESR ≤ 14.0</text>\n<text text-anchor=\"start\" x=\"201\" y=\"-660.8\" font-family=\"Helvetica,sans-Serif\" font-size=\"14.00\" fill=\"#000000\">gini = 0.25</text>\n<text text-anchor=\"start\" x=\"186.5\" y=\"-645.8\" font-family=\"Helvetica,sans-Serif\" font-size=\"14.00\" fill=\"#000000\">samples = 130</text>\n<text text-anchor=\"start\" x=\"165\" y=\"-630.8\" font-family=\"Helvetica,sans-Serif\" font-size=\"14.00\" fill=\"#000000\">value = [19, 0, 0, 111]</text>\n</g>\n<!-- 0&#45;&gt;1 -->\n<g id=\"edge1\" class=\"edge\">\n<title>0&#45;&gt;1</title>\n<path fill=\"none\" stroke=\"#000000\" d=\"M400.9247,-747.8432C371.5156,-731.7902 336.3082,-712.5722 305.8654,-695.9549\"/>\n<polygon fill=\"#000000\" stroke=\"#000000\" points=\"307.454,-692.8346 296.9996,-691.1155 304.1002,-698.9789 307.454,-692.8346\"/>\n<text text-anchor=\"middle\" x=\"304.0464\" y=\"-711.4018\" font-family=\"Helvetica,sans-Serif\" font-size=\"14.00\" fill=\"#000000\">True</text>\n</g>\n<!-- 2 -->\n<g id=\"node5\" class=\"node\">\n<title>2</title>\n<path fill=\"#cae5f8\" stroke=\"#000000\" d=\"M587,-691C587,-691 456,-691 456,-691 450,-691 444,-685 444,-679 444,-679 444,-635 444,-635 444,-629 450,-623 456,-623 456,-623 587,-623 587,-623 593,-623 599,-629 599,-635 599,-635 599,-679 599,-679 599,-685 593,-691 587,-691\"/>\n<text text-anchor=\"start\" x=\"484\" y=\"-675.8\" font-family=\"Helvetica,sans-Serif\" font-size=\"14.00\" fill=\"#000000\">AGE ≤ 30.5</text>\n<text text-anchor=\"start\" x=\"492\" y=\"-660.8\" font-family=\"Helvetica,sans-Serif\" font-size=\"14.00\" fill=\"#000000\">gini = 0.6</text>\n<text text-anchor=\"start\" x=\"473.5\" y=\"-645.8\" font-family=\"Helvetica,sans-Serif\" font-size=\"14.00\" fill=\"#000000\">samples = 119</text>\n<text text-anchor=\"start\" x=\"452\" y=\"-630.8\" font-family=\"Helvetica,sans-Serif\" font-size=\"14.00\" fill=\"#000000\">value = [18, 40, 61, 0]</text>\n</g>\n<!-- 0&#45;&gt;2 -->\n<g id=\"edge4\" class=\"edge\">\n<title>0&#45;&gt;2</title>\n<path fill=\"none\" stroke=\"#000000\" d=\"M479.3488,-747.8432C486.126,-733.237 494.1191,-716.0106 501.3127,-700.5071\"/>\n<polygon fill=\"#000000\" stroke=\"#000000\" points=\"504.6363,-701.6598 505.6704,-691.1155 498.2865,-698.7134 504.6363,-701.6598\"/>\n<text text-anchor=\"middle\" x=\"514.2655\" y=\"-710.8916\" font-family=\"Helvetica,sans-Serif\" font-size=\"14.00\" fill=\"#000000\">False</text>\n</g>\n<!-- 5 -->\n<g id=\"node3\" class=\"node\">\n<title>5</title>\n<path fill=\"#d739e5\" stroke=\"#000000\" d=\"M135,-58.5C135,-58.5 12,-58.5 12,-58.5 6,-58.5 0,-52.5 0,-46.5 0,-46.5 0,-17.5 0,-17.5 0,-11.5 6,-5.5 12,-5.5 12,-5.5 135,-5.5 135,-5.5 141,-5.5 147,-11.5 147,-17.5 147,-17.5 147,-46.5 147,-46.5 147,-52.5 141,-58.5 135,-58.5\"/>\n<text text-anchor=\"start\" x=\"44\" y=\"-43.3\" font-family=\"Helvetica,sans-Serif\" font-size=\"14.00\" fill=\"#000000\">gini = 0.0</text>\n<text text-anchor=\"start\" x=\"25.5\" y=\"-28.3\" font-family=\"Helvetica,sans-Serif\" font-size=\"14.00\" fill=\"#000000\">samples = 111</text>\n<text text-anchor=\"start\" x=\"8\" y=\"-13.3\" font-family=\"Helvetica,sans-Serif\" font-size=\"14.00\" fill=\"#000000\">value = [0, 0, 0, 111]</text>\n</g>\n<!-- 1&#45;&gt;5 -->\n<g id=\"edge2\" class=\"edge\">\n<title>1&#45;&gt;5</title>\n<path fill=\"none\" stroke=\"#000000\" d=\"M212.4512,-622.7628C168.3574,-554.294 73.5,-407 73.5,-407 73.5,-407 73.5,-407 73.5,-282 73.5,-282 73.5,-138.3722 73.5,-68.8464\"/>\n<polygon fill=\"#000000\" stroke=\"#000000\" points=\"77.0001,-68.7543 73.5,-58.7544 70.0001,-68.7544 77.0001,-68.7543\"/>\n</g>\n<!-- 6 -->\n<g id=\"node4\" class=\"node\">\n<title>6</title>\n<path fill=\"#e58139\" stroke=\"#000000\" d=\"M292,-58.5C292,-58.5 177,-58.5 177,-58.5 171,-58.5 165,-52.5 165,-46.5 165,-46.5 165,-17.5 165,-17.5 165,-11.5 171,-5.5 177,-5.5 177,-5.5 292,-5.5 292,-5.5 298,-5.5 304,-11.5 304,-17.5 304,-17.5 304,-46.5 304,-46.5 304,-52.5 298,-58.5 292,-58.5\"/>\n<text text-anchor=\"start\" x=\"205\" y=\"-43.3\" font-family=\"Helvetica,sans-Serif\" font-size=\"14.00\" fill=\"#000000\">gini = 0.0</text>\n<text text-anchor=\"start\" x=\"190.5\" y=\"-28.3\" font-family=\"Helvetica,sans-Serif\" font-size=\"14.00\" fill=\"#000000\">samples = 19</text>\n<text text-anchor=\"start\" x=\"173\" y=\"-13.3\" font-family=\"Helvetica,sans-Serif\" font-size=\"14.00\" fill=\"#000000\">value = [19, 0, 0, 0]</text>\n</g>\n<!-- 1&#45;&gt;6 -->\n<g id=\"edge3\" class=\"edge\">\n<title>1&#45;&gt;6</title>\n<path fill=\"none\" stroke=\"#000000\" d=\"M234.5,-622.7628C234.5,-554.294 234.5,-407 234.5,-407 234.5,-407 234.5,-407 234.5,-282 234.5,-282 234.5,-138.3722 234.5,-68.8464\"/>\n<polygon fill=\"#000000\" stroke=\"#000000\" points=\"238.0001,-68.7543 234.5,-58.7544 231.0001,-68.7544 238.0001,-68.7543\"/>\n</g>\n<!-- 3 -->\n<g id=\"node6\" class=\"node\">\n<title>3</title>\n<path fill=\"#99f191\" stroke=\"#000000\" d=\"M583,-566C583,-566 460,-566 460,-566 454,-566 448,-560 448,-554 448,-554 448,-510 448,-510 448,-504 454,-498 460,-498 460,-498 583,-498 583,-498 589,-498 595,-504 595,-510 595,-510 595,-554 595,-554 595,-560 589,-566 583,-566\"/>\n<text text-anchor=\"start\" x=\"491\" y=\"-550.8\" font-family=\"Helvetica,sans-Serif\" font-size=\"14.00\" fill=\"#000000\">LA ≤ 3.55</text>\n<text text-anchor=\"start\" x=\"492\" y=\"-535.8\" font-family=\"Helvetica,sans-Serif\" font-size=\"14.00\" fill=\"#000000\">gini = 0.5</text>\n<text text-anchor=\"start\" x=\"477.5\" y=\"-520.8\" font-family=\"Helvetica,sans-Serif\" font-size=\"14.00\" fill=\"#000000\">samples = 61</text>\n<text text-anchor=\"start\" x=\"456\" y=\"-505.8\" font-family=\"Helvetica,sans-Serif\" font-size=\"14.00\" fill=\"#000000\">value = [14, 40, 7, 0]</text>\n</g>\n<!-- 2&#45;&gt;3 -->\n<g id=\"edge5\" class=\"edge\">\n<title>2&#45;&gt;3</title>\n<path fill=\"none\" stroke=\"#000000\" d=\"M521.5,-622.8432C521.5,-608.5126 521.5,-591.6598 521.5,-576.3865\"/>\n<polygon fill=\"#000000\" stroke=\"#000000\" points=\"525.0001,-576.1155 521.5,-566.1155 518.0001,-576.1155 525.0001,-576.1155\"/>\n</g>\n<!-- 4 -->\n<g id=\"node15\" class=\"node\">\n<title>4</title>\n<path fill=\"#48a4e7\" stroke=\"#000000\" d=\"M1206,-566C1206,-566 1091,-566 1091,-566 1085,-566 1079,-560 1079,-554 1079,-554 1079,-510 1079,-510 1079,-504 1085,-498 1091,-498 1091,-498 1206,-498 1206,-498 1212,-498 1218,-504 1218,-510 1218,-510 1218,-554 1218,-554 1218,-560 1212,-566 1206,-566\"/>\n<text text-anchor=\"start\" x=\"1105\" y=\"-550.8\" font-family=\"Helvetica,sans-Serif\" font-size=\"14.00\" fill=\"#000000\">sST2 ≤ 18.35</text>\n<text text-anchor=\"start\" x=\"1115\" y=\"-535.8\" font-family=\"Helvetica,sans-Serif\" font-size=\"14.00\" fill=\"#000000\">gini = 0.13</text>\n<text text-anchor=\"start\" x=\"1104.5\" y=\"-520.8\" font-family=\"Helvetica,sans-Serif\" font-size=\"14.00\" fill=\"#000000\">samples = 58</text>\n<text text-anchor=\"start\" x=\"1087\" y=\"-505.8\" font-family=\"Helvetica,sans-Serif\" font-size=\"14.00\" fill=\"#000000\">value = [4, 0, 54, 0]</text>\n</g>\n<!-- 2&#45;&gt;4 -->\n<g id=\"edge14\" class=\"edge\">\n<title>2&#45;&gt;4</title>\n<path fill=\"none\" stroke=\"#000000\" d=\"M599.0114,-641.5472C718.8374,-617.6584 947.8395,-572.0041 1068.9127,-547.8667\"/>\n<polygon fill=\"#000000\" stroke=\"#000000\" points=\"1069.7403,-551.2707 1078.863,-545.883 1068.3716,-544.4058 1069.7403,-551.2707\"/>\n</g>\n<!-- 7 -->\n<g id=\"node7\" class=\"node\">\n<title>7</title>\n<path fill=\"#e58139\" stroke=\"#000000\" d=\"M449,-58.5C449,-58.5 334,-58.5 334,-58.5 328,-58.5 322,-52.5 322,-46.5 322,-46.5 322,-17.5 322,-17.5 322,-11.5 328,-5.5 334,-5.5 334,-5.5 449,-5.5 449,-5.5 455,-5.5 461,-11.5 461,-17.5 461,-17.5 461,-46.5 461,-46.5 461,-52.5 455,-58.5 449,-58.5\"/>\n<text text-anchor=\"start\" x=\"362\" y=\"-43.3\" font-family=\"Helvetica,sans-Serif\" font-size=\"14.00\" fill=\"#000000\">gini = 0.0</text>\n<text text-anchor=\"start\" x=\"347.5\" y=\"-28.3\" font-family=\"Helvetica,sans-Serif\" font-size=\"14.00\" fill=\"#000000\">samples = 13</text>\n<text text-anchor=\"start\" x=\"330\" y=\"-13.3\" font-family=\"Helvetica,sans-Serif\" font-size=\"14.00\" fill=\"#000000\">value = [13, 0, 0, 0]</text>\n</g>\n<!-- 3&#45;&gt;7 -->\n<g id=\"edge6\" class=\"edge\">\n<title>3&#45;&gt;7</title>\n<path fill=\"none\" stroke=\"#000000\" d=\"M512.5646,-497.633C488.9826,-406.933 425.2232,-161.7045 401.0064,-68.563\"/>\n<polygon fill=\"#000000\" stroke=\"#000000\" points=\"404.3576,-67.5429 398.4538,-58.7454 397.5828,-69.3044 404.3576,-67.5429\"/>\n</g>\n<!-- 8 -->\n<g id=\"node8\" class=\"node\">\n<title>8</title>\n<path fill=\"#6bea60\" stroke=\"#000000\" d=\"M694,-441C694,-441 579,-441 579,-441 573,-441 567,-435 567,-429 567,-429 567,-385 567,-385 567,-379 573,-373 579,-373 579,-373 694,-373 694,-373 700,-373 706,-379 706,-385 706,-385 706,-429 706,-429 706,-435 700,-441 694,-441\"/>\n<text text-anchor=\"start\" x=\"597\" y=\"-425.8\" font-family=\"Helvetica,sans-Serif\" font-size=\"14.00\" fill=\"#000000\">sST2 ≤ 29.9</text>\n<text text-anchor=\"start\" x=\"603\" y=\"-410.8\" font-family=\"Helvetica,sans-Serif\" font-size=\"14.00\" fill=\"#000000\">gini = 0.28</text>\n<text text-anchor=\"start\" x=\"592.5\" y=\"-395.8\" font-family=\"Helvetica,sans-Serif\" font-size=\"14.00\" fill=\"#000000\">samples = 48</text>\n<text text-anchor=\"start\" x=\"575\" y=\"-380.8\" font-family=\"Helvetica,sans-Serif\" font-size=\"14.00\" fill=\"#000000\">value = [1, 40, 7, 0]</text>\n</g>\n<!-- 3&#45;&gt;8 -->\n<g id=\"edge7\" class=\"edge\">\n<title>3&#45;&gt;8</title>\n<path fill=\"none\" stroke=\"#000000\" d=\"M552.9243,-497.8432C566.869,-482.6858 583.4097,-464.7068 598.0811,-448.7596\"/>\n<polygon fill=\"#000000\" stroke=\"#000000\" points=\"600.9189,-450.8445 605.1137,-441.1155 595.7674,-446.1051 600.9189,-450.8445\"/>\n</g>\n<!-- 9 -->\n<g id=\"node9\" class=\"node\">\n<title>9</title>\n<path fill=\"#50e643\" stroke=\"#000000\" d=\"M694,-316C694,-316 579,-316 579,-316 573,-316 567,-310 567,-304 567,-304 567,-260 567,-260 567,-254 573,-248 579,-248 579,-248 694,-248 694,-248 700,-248 706,-254 706,-260 706,-260 706,-304 706,-304 706,-310 700,-316 694,-316\"/>\n<text text-anchor=\"start\" x=\"600\" y=\"-300.8\" font-family=\"Helvetica,sans-Serif\" font-size=\"14.00\" fill=\"#000000\">ESV ≤ 20.5</text>\n<text text-anchor=\"start\" x=\"603\" y=\"-285.8\" font-family=\"Helvetica,sans-Serif\" font-size=\"14.00\" fill=\"#000000\">gini = 0.09</text>\n<text text-anchor=\"start\" x=\"592.5\" y=\"-270.8\" font-family=\"Helvetica,sans-Serif\" font-size=\"14.00\" fill=\"#000000\">samples = 42</text>\n<text text-anchor=\"start\" x=\"575\" y=\"-255.8\" font-family=\"Helvetica,sans-Serif\" font-size=\"14.00\" fill=\"#000000\">value = [1, 40, 1, 0]</text>\n</g>\n<!-- 8&#45;&gt;9 -->\n<g id=\"edge8\" class=\"edge\">\n<title>8&#45;&gt;9</title>\n<path fill=\"none\" stroke=\"#000000\" d=\"M636.5,-372.8432C636.5,-358.5126 636.5,-341.6598 636.5,-326.3865\"/>\n<polygon fill=\"#000000\" stroke=\"#000000\" points=\"640.0001,-326.1155 636.5,-316.1155 633.0001,-326.1155 640.0001,-326.1155\"/>\n</g>\n<!-- 10 -->\n<g id=\"node14\" class=\"node\">\n<title>10</title>\n<path fill=\"#399de5\" stroke=\"#000000\" d=\"M1053,-58.5C1053,-58.5 946,-58.5 946,-58.5 940,-58.5 934,-52.5 934,-46.5 934,-46.5 934,-17.5 934,-17.5 934,-11.5 940,-5.5 946,-5.5 946,-5.5 1053,-5.5 1053,-5.5 1059,-5.5 1065,-11.5 1065,-17.5 1065,-17.5 1065,-46.5 1065,-46.5 1065,-52.5 1059,-58.5 1053,-58.5\"/>\n<text text-anchor=\"start\" x=\"970\" y=\"-43.3\" font-family=\"Helvetica,sans-Serif\" font-size=\"14.00\" fill=\"#000000\">gini = 0.0</text>\n<text text-anchor=\"start\" x=\"960\" y=\"-28.3\" font-family=\"Helvetica,sans-Serif\" font-size=\"14.00\" fill=\"#000000\">samples = 6</text>\n<text text-anchor=\"start\" x=\"942\" y=\"-13.3\" font-family=\"Helvetica,sans-Serif\" font-size=\"14.00\" fill=\"#000000\">value = [0, 0, 6, 0]</text>\n</g>\n<!-- 8&#45;&gt;10 -->\n<g id=\"edge13\" class=\"edge\">\n<title>8&#45;&gt;10</title>\n<path fill=\"none\" stroke=\"#000000\" d=\"M669.6761,-372.7271C738.7431,-301.377 897.2749,-137.6044 966.3336,-66.2629\"/>\n<polygon fill=\"#000000\" stroke=\"#000000\" points=\"969.077,-68.4609 973.5174,-58.8415 964.0474,-63.5923 969.077,-68.4609\"/>\n</g>\n<!-- 13 -->\n<g id=\"node10\" class=\"node\">\n<title>13</title>\n<path fill=\"#399de5\" stroke=\"#000000\" d=\"M598,-58.5C598,-58.5 491,-58.5 491,-58.5 485,-58.5 479,-52.5 479,-46.5 479,-46.5 479,-17.5 479,-17.5 479,-11.5 485,-5.5 491,-5.5 491,-5.5 598,-5.5 598,-5.5 604,-5.5 610,-11.5 610,-17.5 610,-17.5 610,-46.5 610,-46.5 610,-52.5 604,-58.5 598,-58.5\"/>\n<text text-anchor=\"start\" x=\"515\" y=\"-43.3\" font-family=\"Helvetica,sans-Serif\" font-size=\"14.00\" fill=\"#000000\">gini = 0.0</text>\n<text text-anchor=\"start\" x=\"505\" y=\"-28.3\" font-family=\"Helvetica,sans-Serif\" font-size=\"14.00\" fill=\"#000000\">samples = 1</text>\n<text text-anchor=\"start\" x=\"487\" y=\"-13.3\" font-family=\"Helvetica,sans-Serif\" font-size=\"14.00\" fill=\"#000000\">value = [0, 0, 1, 0]</text>\n</g>\n<!-- 9&#45;&gt;13 -->\n<g id=\"edge9\" class=\"edge\">\n<title>9&#45;&gt;13</title>\n<path fill=\"none\" stroke=\"#000000\" d=\"M623.9007,-247.7628C606.5436,-200.5968 575.4212,-116.0249 557.7351,-67.9649\"/>\n<polygon fill=\"#000000\" stroke=\"#000000\" points=\"561.0182,-66.7518 554.2799,-58.5759 554.4489,-69.1694 561.0182,-66.7518\"/>\n</g>\n<!-- 14 -->\n<g id=\"node11\" class=\"node\">\n<title>14</title>\n<path fill=\"#4ce63e\" stroke=\"#000000\" d=\"M751,-191C751,-191 636,-191 636,-191 630,-191 624,-185 624,-179 624,-179 624,-135 624,-135 624,-129 630,-123 636,-123 636,-123 751,-123 751,-123 757,-123 763,-129 763,-135 763,-135 763,-179 763,-179 763,-185 757,-191 751,-191\"/>\n<text text-anchor=\"start\" x=\"656\" y=\"-175.8\" font-family=\"Helvetica,sans-Serif\" font-size=\"14.00\" fill=\"#000000\">CRP ≤ 5.61</text>\n<text text-anchor=\"start\" x=\"660\" y=\"-160.8\" font-family=\"Helvetica,sans-Serif\" font-size=\"14.00\" fill=\"#000000\">gini = 0.05</text>\n<text text-anchor=\"start\" x=\"649.5\" y=\"-145.8\" font-family=\"Helvetica,sans-Serif\" font-size=\"14.00\" fill=\"#000000\">samples = 41</text>\n<text text-anchor=\"start\" x=\"632\" y=\"-130.8\" font-family=\"Helvetica,sans-Serif\" font-size=\"14.00\" fill=\"#000000\">value = [1, 40, 0, 0]</text>\n</g>\n<!-- 9&#45;&gt;14 -->\n<g id=\"edge10\" class=\"edge\">\n<title>9&#45;&gt;14</title>\n<path fill=\"none\" stroke=\"#000000\" d=\"M652.0755,-247.8432C658.7359,-233.237 666.5912,-216.0106 673.6607,-200.5071\"/>\n<polygon fill=\"#000000\" stroke=\"#000000\" points=\"676.9788,-201.6663 677.9433,-191.1155 670.6097,-198.762 676.9788,-201.6663\"/>\n</g>\n<!-- 15 -->\n<g id=\"node12\" class=\"node\">\n<title>15</title>\n<path fill=\"#e58139\" stroke=\"#000000\" d=\"M747,-58.5C747,-58.5 640,-58.5 640,-58.5 634,-58.5 628,-52.5 628,-46.5 628,-46.5 628,-17.5 628,-17.5 628,-11.5 634,-5.5 640,-5.5 640,-5.5 747,-5.5 747,-5.5 753,-5.5 759,-11.5 759,-17.5 759,-17.5 759,-46.5 759,-46.5 759,-52.5 753,-58.5 747,-58.5\"/>\n<text text-anchor=\"start\" x=\"664\" y=\"-43.3\" font-family=\"Helvetica,sans-Serif\" font-size=\"14.00\" fill=\"#000000\">gini = 0.0</text>\n<text text-anchor=\"start\" x=\"654\" y=\"-28.3\" font-family=\"Helvetica,sans-Serif\" font-size=\"14.00\" fill=\"#000000\">samples = 1</text>\n<text text-anchor=\"start\" x=\"636\" y=\"-13.3\" font-family=\"Helvetica,sans-Serif\" font-size=\"14.00\" fill=\"#000000\">value = [1, 0, 0, 0]</text>\n</g>\n<!-- 14&#45;&gt;15 -->\n<g id=\"edge11\" class=\"edge\">\n<title>14&#45;&gt;15</title>\n<path fill=\"none\" stroke=\"#000000\" d=\"M693.5,-122.8432C693.5,-106.082 693.5,-85.8704 693.5,-68.7714\"/>\n<polygon fill=\"#000000\" stroke=\"#000000\" points=\"697.0001,-68.5857 693.5,-58.5858 690.0001,-68.5858 697.0001,-68.5857\"/>\n</g>\n<!-- 16 -->\n<g id=\"node13\" class=\"node\">\n<title>16</title>\n<path fill=\"#47e539\" stroke=\"#000000\" d=\"M904,-58.5C904,-58.5 789,-58.5 789,-58.5 783,-58.5 777,-52.5 777,-46.5 777,-46.5 777,-17.5 777,-17.5 777,-11.5 783,-5.5 789,-5.5 789,-5.5 904,-5.5 904,-5.5 910,-5.5 916,-11.5 916,-17.5 916,-17.5 916,-46.5 916,-46.5 916,-52.5 910,-58.5 904,-58.5\"/>\n<text text-anchor=\"start\" x=\"817\" y=\"-43.3\" font-family=\"Helvetica,sans-Serif\" font-size=\"14.00\" fill=\"#000000\">gini = 0.0</text>\n<text text-anchor=\"start\" x=\"802.5\" y=\"-28.3\" font-family=\"Helvetica,sans-Serif\" font-size=\"14.00\" fill=\"#000000\">samples = 40</text>\n<text text-anchor=\"start\" x=\"785\" y=\"-13.3\" font-family=\"Helvetica,sans-Serif\" font-size=\"14.00\" fill=\"#000000\">value = [0, 40, 0, 0]</text>\n</g>\n<!-- 14&#45;&gt;16 -->\n<g id=\"edge12\" class=\"edge\">\n<title>14&#45;&gt;16</title>\n<path fill=\"none\" stroke=\"#000000\" d=\"M735.3079,-122.8432C757.372,-104.817 784.3209,-82.7999 806.1619,-64.9559\"/>\n<polygon fill=\"#000000\" stroke=\"#000000\" points=\"808.4293,-67.6231 813.959,-58.5858 804.0005,-62.2022 808.4293,-67.6231\"/>\n</g>\n<!-- 11 -->\n<g id=\"node16\" class=\"node\">\n<title>11</title>\n<path fill=\"#e58139\" stroke=\"#000000\" d=\"M1202,-58.5C1202,-58.5 1095,-58.5 1095,-58.5 1089,-58.5 1083,-52.5 1083,-46.5 1083,-46.5 1083,-17.5 1083,-17.5 1083,-11.5 1089,-5.5 1095,-5.5 1095,-5.5 1202,-5.5 1202,-5.5 1208,-5.5 1214,-11.5 1214,-17.5 1214,-17.5 1214,-46.5 1214,-46.5 1214,-52.5 1208,-58.5 1202,-58.5\"/>\n<text text-anchor=\"start\" x=\"1119\" y=\"-43.3\" font-family=\"Helvetica,sans-Serif\" font-size=\"14.00\" fill=\"#000000\">gini = 0.0</text>\n<text text-anchor=\"start\" x=\"1109\" y=\"-28.3\" font-family=\"Helvetica,sans-Serif\" font-size=\"14.00\" fill=\"#000000\">samples = 4</text>\n<text text-anchor=\"start\" x=\"1091\" y=\"-13.3\" font-family=\"Helvetica,sans-Serif\" font-size=\"14.00\" fill=\"#000000\">value = [4, 0, 0, 0]</text>\n</g>\n<!-- 4&#45;&gt;11 -->\n<g id=\"edge15\" class=\"edge\">\n<title>4&#45;&gt;11</title>\n<path fill=\"none\" stroke=\"#000000\" d=\"M1148.5,-497.633C1148.5,-407.0249 1148.5,-162.2012 1148.5,-68.8465\"/>\n<polygon fill=\"#000000\" stroke=\"#000000\" points=\"1152.0001,-68.7454 1148.5,-58.7454 1145.0001,-68.7454 1152.0001,-68.7454\"/>\n</g>\n<!-- 12 -->\n<g id=\"node17\" class=\"node\">\n<title>12</title>\n<path fill=\"#399de5\" stroke=\"#000000\" d=\"M1359,-58.5C1359,-58.5 1244,-58.5 1244,-58.5 1238,-58.5 1232,-52.5 1232,-46.5 1232,-46.5 1232,-17.5 1232,-17.5 1232,-11.5 1238,-5.5 1244,-5.5 1244,-5.5 1359,-5.5 1359,-5.5 1365,-5.5 1371,-11.5 1371,-17.5 1371,-17.5 1371,-46.5 1371,-46.5 1371,-52.5 1365,-58.5 1359,-58.5\"/>\n<text text-anchor=\"start\" x=\"1272\" y=\"-43.3\" font-family=\"Helvetica,sans-Serif\" font-size=\"14.00\" fill=\"#000000\">gini = 0.0</text>\n<text text-anchor=\"start\" x=\"1257.5\" y=\"-28.3\" font-family=\"Helvetica,sans-Serif\" font-size=\"14.00\" fill=\"#000000\">samples = 54</text>\n<text text-anchor=\"start\" x=\"1240\" y=\"-13.3\" font-family=\"Helvetica,sans-Serif\" font-size=\"14.00\" fill=\"#000000\">value = [0, 0, 54, 0]</text>\n</g>\n<!-- 4&#45;&gt;12 -->\n<g id=\"edge16\" class=\"edge\">\n<title>4&#45;&gt;12</title>\n<path fill=\"none\" stroke=\"#000000\" d=\"M1159.0163,-497.633C1186.7705,-406.933 1261.8104,-161.7045 1290.3117,-68.563\"/>\n<polygon fill=\"#000000\" stroke=\"#000000\" points=\"1293.7366,-69.3319 1293.3159,-58.7454 1287.0429,-67.2836 1293.7366,-69.3319\"/>\n</g>\n</g>\n</svg>\n"
          },
          "metadata": {},
          "execution_count": 139
        }
      ]
    },
    {
      "cell_type": "code",
      "source": [
        "(accuracy,precision,recall,f1) = get_metrics(m,valid_xs,valid_y)"
      ],
      "metadata": {
        "id": "UQOCSwXxnxQg"
      },
      "execution_count": 147,
      "outputs": []
    },
    {
      "cell_type": "code",
      "source": [
        "(accuracy,precision,recall,f1)"
      ],
      "metadata": {
        "colab": {
          "base_uri": "https://localhost:8080/"
        },
        "id": "L9d6bl1Bo6hJ",
        "outputId": "59b29055-03ca-48bb-bf35-8e34c89b4cae"
      },
      "execution_count": 148,
      "outputs": [
        {
          "output_type": "execute_result",
          "data": {
            "text/plain": [
              "(0.9722222222222222,\n",
              " 0.9525142731664471,\n",
              " 0.9589978734715577,\n",
              " 0.9556158934477519)"
            ]
          },
          "metadata": {},
          "execution_count": 148
        }
      ]
    },
    {
      "cell_type": "code",
      "source": [
        "preds = m.predict_proba(valid_xs)\n",
        "true_y = valid_y\n",
        "roc_auc_score(true_y,preds,multi_class='ovr')"
      ],
      "metadata": {
        "colab": {
          "base_uri": "https://localhost:8080/"
        },
        "id": "hvoj3NF8pmhQ",
        "outputId": "75ef63bf-a0b3-4915-85c3-f001c0da40d5"
      },
      "execution_count": 149,
      "outputs": [
        {
          "output_type": "execute_result",
          "data": {
            "text/plain": [
              "0.9753678996809825"
            ]
          },
          "metadata": {},
          "execution_count": 149
        }
      ]
    },
    {
      "cell_type": "code",
      "source": [
        "#Gives a good accuracy, lets try with random forest. A decision tree with 40 nodes is chosen."
      ],
      "metadata": {
        "id": "zIfIdYrJqdXB"
      },
      "execution_count": null,
      "outputs": []
    },
    {
      "cell_type": "code",
      "source": [
        "def rf(xs, y, n_estimators=40, max_samples=249,\n",
        "       max_features=0.5, min_samples_leaf=5, **kwargs):\n",
        "    return RandomForestClassifier(n_jobs=-1, n_estimators=n_estimators,\n",
        "        max_samples=max_samples, max_features=max_features,\n",
        "        min_samples_leaf=min_samples_leaf, oob_score=True).fit(xs, y)"
      ],
      "metadata": {
        "id": "CPiPhLp5l1QH"
      },
      "execution_count": 151,
      "outputs": []
    },
    {
      "cell_type": "code",
      "source": [
        "m = rf(xs, y);\n"
      ],
      "metadata": {
        "id": "jGQi9fpZmi2n"
      },
      "execution_count": 152,
      "outputs": []
    },
    {
      "cell_type": "code",
      "source": [
        "def rf_feat_importance(m, df):\n",
        "    return pd.DataFrame({'cols':df.columns, 'imp':m.feature_importances_}\n",
        "                       ).sort_values('imp', ascending=False)"
      ],
      "metadata": {
        "id": "IpZKz-DimkKv"
      },
      "execution_count": 153,
      "outputs": []
    },
    {
      "cell_type": "code",
      "source": [
        "fi = rf_feat_importance(m, xs)\n",
        "fi[:10]"
      ],
      "metadata": {
        "id": "zmgTI4ydm3s_",
        "outputId": "002f3ec4-967a-49b0-aa8b-7f12dcbdd837",
        "colab": {
          "base_uri": "https://localhost:8080/",
          "height": 363
        }
      },
      "execution_count": 154,
      "outputs": [
        {
          "output_type": "execute_result",
          "data": {
            "text/html": [
              "\n",
              "  <div id=\"df-b89ed7f6-a54f-46e6-a40b-7f04282c3d99\">\n",
              "    <div class=\"colab-df-container\">\n",
              "      <div>\n",
              "<style scoped>\n",
              "    .dataframe tbody tr th:only-of-type {\n",
              "        vertical-align: middle;\n",
              "    }\n",
              "\n",
              "    .dataframe tbody tr th {\n",
              "        vertical-align: top;\n",
              "    }\n",
              "\n",
              "    .dataframe thead th {\n",
              "        text-align: right;\n",
              "    }\n",
              "</style>\n",
              "<table border=\"1\" class=\"dataframe\">\n",
              "  <thead>\n",
              "    <tr style=\"text-align: right;\">\n",
              "      <th></th>\n",
              "      <th>cols</th>\n",
              "      <th>imp</th>\n",
              "    </tr>\n",
              "  </thead>\n",
              "  <tbody>\n",
              "    <tr>\n",
              "      <th>50</th>\n",
              "      <td>sST2</td>\n",
              "      <td>0.365313</td>\n",
              "    </tr>\n",
              "    <tr>\n",
              "      <th>35</th>\n",
              "      <td>ESR</td>\n",
              "      <td>0.143576</td>\n",
              "    </tr>\n",
              "    <tr>\n",
              "      <th>19</th>\n",
              "      <td>LA</td>\n",
              "      <td>0.093582</td>\n",
              "    </tr>\n",
              "    <tr>\n",
              "      <th>18</th>\n",
              "      <td>AGE</td>\n",
              "      <td>0.074595</td>\n",
              "    </tr>\n",
              "    <tr>\n",
              "      <th>36</th>\n",
              "      <td>CRP</td>\n",
              "      <td>0.060739</td>\n",
              "    </tr>\n",
              "    <tr>\n",
              "      <th>40</th>\n",
              "      <td>NEUTROPHIL</td>\n",
              "      <td>0.059717</td>\n",
              "    </tr>\n",
              "    <tr>\n",
              "      <th>12</th>\n",
              "      <td>SORETHROAT</td>\n",
              "      <td>0.055326</td>\n",
              "    </tr>\n",
              "    <tr>\n",
              "      <th>34</th>\n",
              "      <td>ASO</td>\n",
              "      <td>0.052795</td>\n",
              "    </tr>\n",
              "    <tr>\n",
              "      <th>27</th>\n",
              "      <td>EF</td>\n",
              "      <td>0.020762</td>\n",
              "    </tr>\n",
              "    <tr>\n",
              "      <th>41</th>\n",
              "      <td>EOSINOPHIL</td>\n",
              "      <td>0.018633</td>\n",
              "    </tr>\n",
              "  </tbody>\n",
              "</table>\n",
              "</div>\n",
              "      <button class=\"colab-df-convert\" onclick=\"convertToInteractive('df-b89ed7f6-a54f-46e6-a40b-7f04282c3d99')\"\n",
              "              title=\"Convert this dataframe to an interactive table.\"\n",
              "              style=\"display:none;\">\n",
              "        \n",
              "  <svg xmlns=\"http://www.w3.org/2000/svg\" height=\"24px\"viewBox=\"0 0 24 24\"\n",
              "       width=\"24px\">\n",
              "    <path d=\"M0 0h24v24H0V0z\" fill=\"none\"/>\n",
              "    <path d=\"M18.56 5.44l.94 2.06.94-2.06 2.06-.94-2.06-.94-.94-2.06-.94 2.06-2.06.94zm-11 1L8.5 8.5l.94-2.06 2.06-.94-2.06-.94L8.5 2.5l-.94 2.06-2.06.94zm10 10l.94 2.06.94-2.06 2.06-.94-2.06-.94-.94-2.06-.94 2.06-2.06.94z\"/><path d=\"M17.41 7.96l-1.37-1.37c-.4-.4-.92-.59-1.43-.59-.52 0-1.04.2-1.43.59L10.3 9.45l-7.72 7.72c-.78.78-.78 2.05 0 2.83L4 21.41c.39.39.9.59 1.41.59.51 0 1.02-.2 1.41-.59l7.78-7.78 2.81-2.81c.8-.78.8-2.07 0-2.86zM5.41 20L4 18.59l7.72-7.72 1.47 1.35L5.41 20z\"/>\n",
              "  </svg>\n",
              "      </button>\n",
              "      \n",
              "  <style>\n",
              "    .colab-df-container {\n",
              "      display:flex;\n",
              "      flex-wrap:wrap;\n",
              "      gap: 12px;\n",
              "    }\n",
              "\n",
              "    .colab-df-convert {\n",
              "      background-color: #E8F0FE;\n",
              "      border: none;\n",
              "      border-radius: 50%;\n",
              "      cursor: pointer;\n",
              "      display: none;\n",
              "      fill: #1967D2;\n",
              "      height: 32px;\n",
              "      padding: 0 0 0 0;\n",
              "      width: 32px;\n",
              "    }\n",
              "\n",
              "    .colab-df-convert:hover {\n",
              "      background-color: #E2EBFA;\n",
              "      box-shadow: 0px 1px 2px rgba(60, 64, 67, 0.3), 0px 1px 3px 1px rgba(60, 64, 67, 0.15);\n",
              "      fill: #174EA6;\n",
              "    }\n",
              "\n",
              "    [theme=dark] .colab-df-convert {\n",
              "      background-color: #3B4455;\n",
              "      fill: #D2E3FC;\n",
              "    }\n",
              "\n",
              "    [theme=dark] .colab-df-convert:hover {\n",
              "      background-color: #434B5C;\n",
              "      box-shadow: 0px 1px 3px 1px rgba(0, 0, 0, 0.15);\n",
              "      filter: drop-shadow(0px 1px 2px rgba(0, 0, 0, 0.3));\n",
              "      fill: #FFFFFF;\n",
              "    }\n",
              "  </style>\n",
              "\n",
              "      <script>\n",
              "        const buttonEl =\n",
              "          document.querySelector('#df-b89ed7f6-a54f-46e6-a40b-7f04282c3d99 button.colab-df-convert');\n",
              "        buttonEl.style.display =\n",
              "          google.colab.kernel.accessAllowed ? 'block' : 'none';\n",
              "\n",
              "        async function convertToInteractive(key) {\n",
              "          const element = document.querySelector('#df-b89ed7f6-a54f-46e6-a40b-7f04282c3d99');\n",
              "          const dataTable =\n",
              "            await google.colab.kernel.invokeFunction('convertToInteractive',\n",
              "                                                     [key], {});\n",
              "          if (!dataTable) return;\n",
              "\n",
              "          const docLinkHtml = 'Like what you see? Visit the ' +\n",
              "            '<a target=\"_blank\" href=https://colab.research.google.com/notebooks/data_table.ipynb>data table notebook</a>'\n",
              "            + ' to learn more about interactive tables.';\n",
              "          element.innerHTML = '';\n",
              "          dataTable['output_type'] = 'display_data';\n",
              "          await google.colab.output.renderOutput(dataTable, element);\n",
              "          const docLink = document.createElement('div');\n",
              "          docLink.innerHTML = docLinkHtml;\n",
              "          element.appendChild(docLink);\n",
              "        }\n",
              "      </script>\n",
              "    </div>\n",
              "  </div>\n",
              "  "
            ],
            "text/plain": [
              "          cols       imp\n",
              "50        sST2  0.365313\n",
              "35         ESR  0.143576\n",
              "19          LA  0.093582\n",
              "18         AGE  0.074595\n",
              "36         CRP  0.060739\n",
              "40  NEUTROPHIL  0.059717\n",
              "12  SORETHROAT  0.055326\n",
              "34         ASO  0.052795\n",
              "27          EF  0.020762\n",
              "41  EOSINOPHIL  0.018633"
            ]
          },
          "metadata": {},
          "execution_count": 154
        }
      ]
    },
    {
      "cell_type": "code",
      "source": [
        "def plot_fi(fi):\n",
        "    return fi.plot('cols', 'imp', 'barh', figsize=(12,7), legend=False)\n",
        "\n",
        "plot_fi(fi[:30]);"
      ],
      "metadata": {
        "id": "J-QwprX4m5Cf",
        "outputId": "91545ddc-b8ea-4d56-cc5b-039d5c17a69b",
        "colab": {
          "base_uri": "https://localhost:8080/",
          "height": 431
        }
      },
      "execution_count": 155,
      "outputs": [
        {
          "output_type": "display_data",
          "data": {
            "image/png": "[encoded data removed]",
            "text/plain": [
              "<Figure size 864x504 with 1 Axes>"
            ]
          },
          "metadata": {
            "needs_background": "light"
          }
        }
      ]
    },
    {
      "cell_type": "code",
      "source": [
        "(accuracy,precision,recall,f1) = get_metrics(m,valid_xs,valid_y)"
      ],
      "metadata": {
        "id": "mTJuTy6tiLEo"
      },
      "execution_count": 157,
      "outputs": []
    },
    {
      "cell_type": "code",
      "source": [
        "(accuracy,precision,recall,f1)"
      ],
      "metadata": {
        "colab": {
          "base_uri": "https://localhost:8080/"
        },
        "id": "eUTPB4yOmZYI",
        "outputId": "41f0ada2-75ec-4b09-e648-27a279903e17"
      },
      "execution_count": 158,
      "outputs": [
        {
          "output_type": "execute_result",
          "data": {
            "text/plain": [
              "(0.9907407407407407,\n",
              " 0.9891304347826086,\n",
              " 0.9956140350877193,\n",
              " 0.9922320550639134)"
            ]
          },
          "metadata": {},
          "execution_count": 158
        }
      ]
    },
    {
      "cell_type": "code",
      "source": [
        "#Random forest is better and accuracy is almost perfect."
      ],
      "metadata": {
        "id": "HMauonDhqxAi"
      },
      "execution_count": null,
      "outputs": []
    },
    {
      "cell_type": "code",
      "source": [
        "preds = m.predict_proba(valid_xs)\n",
        "true_y = valid_y\n",
        "roc_auc_score(true_y,preds,multi_class='ovr')"
      ],
      "metadata": {
        "colab": {
          "base_uri": "https://localhost:8080/"
        },
        "id": "knmmHjBeq6TR",
        "outputId": "58d696c8-4cb0-4a96-884f-1227078a0199"
      },
      "execution_count": 159,
      "outputs": [
        {
          "output_type": "execute_result",
          "data": {
            "text/plain": [
              "1.0"
            ]
          },
          "metadata": {},
          "execution_count": 159
        }
      ]
    },
    {
      "cell_type": "code",
      "source": [
        "# Lets build 6 more models with different features\n",
        "\n"
      ],
      "metadata": {
        "id": "_oHyH6WUq6op"
      },
      "execution_count": 160,
      "outputs": []
    },
    {
      "cell_type": "code",
      "source": [
        "#Model 1 - Blood parameters"
      ],
      "metadata": {
        "id": "Vmu-5RgvrHkp"
      },
      "execution_count": 161,
      "outputs": []
    },
    {
      "cell_type": "code",
      "source": [
        "cat = []\n",
        "cont = ['ASO','ESR','CRP','HEMOGLOBIN','RED BLOOD CELL DISTRIBUTION WIDTH',\n",
        "        'PLATELETS',\n",
        " 'NEUTROPHIL',\n",
        " 'EOSINOPHIL',\n",
        " 'BASOPHIL',\n",
        " 'LYMPHOCYTE',\n",
        " 'MONOCYTE',\n",
        " 'SODIUM',\n",
        " 'POTASSIUM']"
      ],
      "metadata": {
        "id": "KGA4Fe9Gr5XK"
      },
      "execution_count": 178,
      "outputs": []
    },
    {
      "cell_type": "code",
      "source": [
        "to = TabularPandas(df, procs, cat, cont, y_names=dependant_variable,y_block=CategoryBlock(), splits=splits)\n"
      ],
      "metadata": {
        "id": "3Ap2qs7xrLYJ"
      },
      "execution_count": 179,
      "outputs": []
    },
    {
      "cell_type": "code",
      "source": [
        "len(to.train),len(to.valid)\n"
      ],
      "metadata": {
        "colab": {
          "base_uri": "https://localhost:8080/"
        },
        "id": "juCTL-hdriGB",
        "outputId": "d54c6a8b-7801-4390-ebf7-2dbd11f070ec"
      },
      "execution_count": 180,
      "outputs": [
        {
          "output_type": "execute_result",
          "data": {
            "text/plain": [
              "(249, 108)"
            ]
          },
          "metadata": {},
          "execution_count": 180
        }
      ]
    },
    {
      "cell_type": "code",
      "source": [
        "to.show(3)\n"
      ],
      "metadata": {
        "colab": {
          "base_uri": "https://localhost:8080/",
          "height": 143
        },
        "id": "hACraJgork-4",
        "outputId": "5a293ec7-ee50-4365-a0fc-f91287047f05"
      },
      "execution_count": 181,
      "outputs": [
        {
          "output_type": "display_data",
          "data": {
            "text/html": [
              "<table border=\"1\" class=\"dataframe\">\n",
              "  <thead>\n",
              "    <tr style=\"text-align: right;\">\n",
              "      <th></th>\n",
              "      <th>ASO</th>\n",
              "      <th>ESR</th>\n",
              "      <th>CRP</th>\n",
              "      <th>HEMOGLOBIN</th>\n",
              "      <th>RED BLOOD CELL DISTRIBUTION WIDTH</th>\n",
              "      <th>PLATELETS</th>\n",
              "      <th>NEUTROPHIL</th>\n",
              "      <th>EOSINOPHIL</th>\n",
              "      <th>BASOPHIL</th>\n",
              "      <th>LYMPHOCYTE</th>\n",
              "      <th>MONOCYTE</th>\n",
              "      <th>SODIUM</th>\n",
              "      <th>POTASSIUM</th>\n",
              "      <th>GROUP</th>\n",
              "    </tr>\n",
              "  </thead>\n",
              "  <tbody>\n",
              "    <tr>\n",
              "      <th>271</th>\n",
              "      <td>0</td>\n",
              "      <td>0</td>\n",
              "      <td>0.0</td>\n",
              "      <td>14.1</td>\n",
              "      <td>10.9</td>\n",
              "      <td>251000</td>\n",
              "      <td>55.000000</td>\n",
              "      <td>5.0</td>\n",
              "      <td>0.2</td>\n",
              "      <td>21.0</td>\n",
              "      <td>9.0</td>\n",
              "      <td>139</td>\n",
              "      <td>3.9</td>\n",
              "      <td>GROUP IV (CONTROL)</td>\n",
              "    </tr>\n",
              "    <tr>\n",
              "      <th>46</th>\n",
              "      <td>800</td>\n",
              "      <td>40</td>\n",
              "      <td>23.4</td>\n",
              "      <td>12.5</td>\n",
              "      <td>12.0</td>\n",
              "      <td>372000</td>\n",
              "      <td>69.000000</td>\n",
              "      <td>15.3</td>\n",
              "      <td>0.6</td>\n",
              "      <td>38.0</td>\n",
              "      <td>3.1</td>\n",
              "      <td>136</td>\n",
              "      <td>4.0</td>\n",
              "      <td>GROUP I (PHARYNGITIS)</td>\n",
              "    </tr>\n",
              "    <tr>\n",
              "      <th>167</th>\n",
              "      <td>0</td>\n",
              "      <td>0</td>\n",
              "      <td>0.0</td>\n",
              "      <td>12.6</td>\n",
              "      <td>16.4</td>\n",
              "      <td>499000</td>\n",
              "      <td>93.199997</td>\n",
              "      <td>10.4</td>\n",
              "      <td>0.5</td>\n",
              "      <td>23.6</td>\n",
              "      <td>6.2</td>\n",
              "      <td>142</td>\n",
              "      <td>4.0</td>\n",
              "      <td>GROUP III (RHD)</td>\n",
              "    </tr>\n",
              "  </tbody>\n",
              "</table>"
            ],
            "text/plain": [
              "<IPython.core.display.HTML object>"
            ]
          },
          "metadata": {}
        }
      ]
    },
    {
      "cell_type": "code",
      "source": [
        "xs,y = to.train.xs,to.train.y\n",
        "valid_xs,valid_y = to.valid.xs,to.valid.y"
      ],
      "metadata": {
        "id": "U7Waz0mLrogB"
      },
      "execution_count": 184,
      "outputs": []
    },
    {
      "cell_type": "code",
      "source": [
        "m = rf(xs, y);"
      ],
      "metadata": {
        "id": "4kpAKOxVrrTx"
      },
      "execution_count": 185,
      "outputs": []
    },
    {
      "cell_type": "code",
      "source": [
        "fi = rf_feat_importance(m, xs)\n",
        "fi[:10]"
      ],
      "metadata": {
        "colab": {
          "base_uri": "https://localhost:8080/",
          "height": 363
        },
        "id": "XsgkmmVCtCv5",
        "outputId": "de890ce8-cd45-4ff1-db2d-9f6b69b3852c"
      },
      "execution_count": 186,
      "outputs": [
        {
          "output_type": "execute_result",
          "data": {
            "text/html": [
              "\n",
              "  <div id=\"df-3d918370-0277-4a86-a352-f451f178101f\">\n",
              "    <div class=\"colab-df-container\">\n",
              "      <div>\n",
              "<style scoped>\n",
              "    .dataframe tbody tr th:only-of-type {\n",
              "        vertical-align: middle;\n",
              "    }\n",
              "\n",
              "    .dataframe tbody tr th {\n",
              "        vertical-align: top;\n",
              "    }\n",
              "\n",
              "    .dataframe thead th {\n",
              "        text-align: right;\n",
              "    }\n",
              "</style>\n",
              "<table border=\"1\" class=\"dataframe\">\n",
              "  <thead>\n",
              "    <tr style=\"text-align: right;\">\n",
              "      <th></th>\n",
              "      <th>cols</th>\n",
              "      <th>imp</th>\n",
              "    </tr>\n",
              "  </thead>\n",
              "  <tbody>\n",
              "    <tr>\n",
              "      <th>6</th>\n",
              "      <td>NEUTROPHIL</td>\n",
              "      <td>0.262845</td>\n",
              "    </tr>\n",
              "    <tr>\n",
              "      <th>1</th>\n",
              "      <td>ESR</td>\n",
              "      <td>0.255100</td>\n",
              "    </tr>\n",
              "    <tr>\n",
              "      <th>0</th>\n",
              "      <td>ASO</td>\n",
              "      <td>0.104016</td>\n",
              "    </tr>\n",
              "    <tr>\n",
              "      <th>3</th>\n",
              "      <td>HEMOGLOBIN</td>\n",
              "      <td>0.102904</td>\n",
              "    </tr>\n",
              "    <tr>\n",
              "      <th>2</th>\n",
              "      <td>CRP</td>\n",
              "      <td>0.091378</td>\n",
              "    </tr>\n",
              "    <tr>\n",
              "      <th>7</th>\n",
              "      <td>EOSINOPHIL</td>\n",
              "      <td>0.058500</td>\n",
              "    </tr>\n",
              "    <tr>\n",
              "      <th>5</th>\n",
              "      <td>PLATELETS</td>\n",
              "      <td>0.048516</td>\n",
              "    </tr>\n",
              "    <tr>\n",
              "      <th>10</th>\n",
              "      <td>MONOCYTE</td>\n",
              "      <td>0.030652</td>\n",
              "    </tr>\n",
              "    <tr>\n",
              "      <th>9</th>\n",
              "      <td>LYMPHOCYTE</td>\n",
              "      <td>0.022281</td>\n",
              "    </tr>\n",
              "    <tr>\n",
              "      <th>8</th>\n",
              "      <td>BASOPHIL</td>\n",
              "      <td>0.010978</td>\n",
              "    </tr>\n",
              "  </tbody>\n",
              "</table>\n",
              "</div>\n",
              "      <button class=\"colab-df-convert\" onclick=\"convertToInteractive('df-3d918370-0277-4a86-a352-f451f178101f')\"\n",
              "              title=\"Convert this dataframe to an interactive table.\"\n",
              "              style=\"display:none;\">\n",
              "        \n",
              "  <svg xmlns=\"http://www.w3.org/2000/svg\" height=\"24px\"viewBox=\"0 0 24 24\"\n",
              "       width=\"24px\">\n",
              "    <path d=\"M0 0h24v24H0V0z\" fill=\"none\"/>\n",
              "    <path d=\"M18.56 5.44l.94 2.06.94-2.06 2.06-.94-2.06-.94-.94-2.06-.94 2.06-2.06.94zm-11 1L8.5 8.5l.94-2.06 2.06-.94-2.06-.94L8.5 2.5l-.94 2.06-2.06.94zm10 10l.94 2.06.94-2.06 2.06-.94-2.06-.94-.94-2.06-.94 2.06-2.06.94z\"/><path d=\"M17.41 7.96l-1.37-1.37c-.4-.4-.92-.59-1.43-.59-.52 0-1.04.2-1.43.59L10.3 9.45l-7.72 7.72c-.78.78-.78 2.05 0 2.83L4 21.41c.39.39.9.59 1.41.59.51 0 1.02-.2 1.41-.59l7.78-7.78 2.81-2.81c.8-.78.8-2.07 0-2.86zM5.41 20L4 18.59l7.72-7.72 1.47 1.35L5.41 20z\"/>\n",
              "  </svg>\n",
              "      </button>\n",
              "      \n",
              "  <style>\n",
              "    .colab-df-container {\n",
              "      display:flex;\n",
              "      flex-wrap:wrap;\n",
              "      gap: 12px;\n",
              "    }\n",
              "\n",
              "    .colab-df-convert {\n",
              "      background-color: #E8F0FE;\n",
              "      border: none;\n",
              "      border-radius: 50%;\n",
              "      cursor: pointer;\n",
              "      display: none;\n",
              "      fill: #1967D2;\n",
              "      height: 32px;\n",
              "      padding: 0 0 0 0;\n",
              "      width: 32px;\n",
              "    }\n",
              "\n",
              "    .colab-df-convert:hover {\n",
              "      background-color: #E2EBFA;\n",
              "      box-shadow: 0px 1px 2px rgba(60, 64, 67, 0.3), 0px 1px 3px 1px rgba(60, 64, 67, 0.15);\n",
              "      fill: #174EA6;\n",
              "    }\n",
              "\n",
              "    [theme=dark] .colab-df-convert {\n",
              "      background-color: #3B4455;\n",
              "      fill: #D2E3FC;\n",
              "    }\n",
              "\n",
              "    [theme=dark] .colab-df-convert:hover {\n",
              "      background-color: #434B5C;\n",
              "      box-shadow: 0px 1px 3px 1px rgba(0, 0, 0, 0.15);\n",
              "      filter: drop-shadow(0px 1px 2px rgba(0, 0, 0, 0.3));\n",
              "      fill: #FFFFFF;\n",
              "    }\n",
              "  </style>\n",
              "\n",
              "      <script>\n",
              "        const buttonEl =\n",
              "          document.querySelector('#df-3d918370-0277-4a86-a352-f451f178101f button.colab-df-convert');\n",
              "        buttonEl.style.display =\n",
              "          google.colab.kernel.accessAllowed ? 'block' : 'none';\n",
              "\n",
              "        async function convertToInteractive(key) {\n",
              "          const element = document.querySelector('#df-3d918370-0277-4a86-a352-f451f178101f');\n",
              "          const dataTable =\n",
              "            await google.colab.kernel.invokeFunction('convertToInteractive',\n",
              "                                                     [key], {});\n",
              "          if (!dataTable) return;\n",
              "\n",
              "          const docLinkHtml = 'Like what you see? Visit the ' +\n",
              "            '<a target=\"_blank\" href=https://colab.research.google.com/notebooks/data_table.ipynb>data table notebook</a>'\n",
              "            + ' to learn more about interactive tables.';\n",
              "          element.innerHTML = '';\n",
              "          dataTable['output_type'] = 'display_data';\n",
              "          await google.colab.output.renderOutput(dataTable, element);\n",
              "          const docLink = document.createElement('div');\n",
              "          docLink.innerHTML = docLinkHtml;\n",
              "          element.appendChild(docLink);\n",
              "        }\n",
              "      </script>\n",
              "    </div>\n",
              "  </div>\n",
              "  "
            ],
            "text/plain": [
              "          cols       imp\n",
              "6   NEUTROPHIL  0.262845\n",
              "1          ESR  0.255100\n",
              "0          ASO  0.104016\n",
              "3   HEMOGLOBIN  0.102904\n",
              "2          CRP  0.091378\n",
              "7   EOSINOPHIL  0.058500\n",
              "5    PLATELETS  0.048516\n",
              "10    MONOCYTE  0.030652\n",
              "9   LYMPHOCYTE  0.022281\n",
              "8     BASOPHIL  0.010978"
            ]
          },
          "metadata": {},
          "execution_count": 186
        }
      ]
    },
    {
      "cell_type": "code",
      "source": [
        "plot_fi(fi[:30]);"
      ],
      "metadata": {
        "colab": {
          "base_uri": "https://localhost:8080/",
          "height": 431
        },
        "id": "z5Y3ETfNtFfa",
        "outputId": "41c47625-7f91-4799-aa4c-5c9c267faa90"
      },
      "execution_count": 187,
      "outputs": [
        {
          "output_type": "display_data",
          "data": {
            "image/png": "[encoded data removed]",
            "text/plain": [
              "<Figure size 864x504 with 1 Axes>"
            ]
          },
          "metadata": {
            "needs_background": "light"
          }
        }
      ]
    },
    {
      "cell_type": "code",
      "source": [
        "(accuracy,precision,recall,f1) = get_metrics(m,valid_xs,valid_y)"
      ],
      "metadata": {
        "id": "iqTUP1XJtHBB"
      },
      "execution_count": 188,
      "outputs": []
    },
    {
      "cell_type": "code",
      "source": [
        "(accuracy,precision,recall,f1)"
      ],
      "metadata": {
        "colab": {
          "base_uri": "https://localhost:8080/"
        },
        "id": "vr90Xkh_tJ25",
        "outputId": "8fbb947b-b53a-4764-a5e6-d7a3f7e7c8ea"
      },
      "execution_count": 189,
      "outputs": [
        {
          "output_type": "execute_result",
          "data": {
            "text/plain": [
              "(0.9351851851851852,\n",
              " 0.9055882352941176,\n",
              " 0.8971291866028709,\n",
              " 0.8997632945100467)"
            ]
          },
          "metadata": {},
          "execution_count": 189
        }
      ]
    },
    {
      "cell_type": "code",
      "source": [
        "preds = m.predict_proba(valid_xs)\n",
        "true_y = valid_y\n",
        "roc_auc_score(true_y,preds,multi_class='ovr')"
      ],
      "metadata": {
        "colab": {
          "base_uri": "https://localhost:8080/"
        },
        "id": "x6FCBgvJtLyR",
        "outputId": "07bf821d-feb8-4a0d-964b-8847599b4570"
      },
      "execution_count": 190,
      "outputs": [
        {
          "output_type": "execute_result",
          "data": {
            "text/plain": [
              "0.9941358728424142"
            ]
          },
          "metadata": {},
          "execution_count": 190
        }
      ]
    },
    {
      "cell_type": "code",
      "source": [
        "#Considerable drop in metrics"
      ],
      "metadata": {
        "id": "9L5RP9aFtPTR"
      },
      "execution_count": 191,
      "outputs": []
    },
    {
      "cell_type": "code",
      "source": [
        "#Model 2 - ONLY ECHO "
      ],
      "metadata": {
        "id": "62zx6qxEtUjK"
      },
      "execution_count": null,
      "outputs": []
    },
    {
      "cell_type": "code",
      "source": [
        "cat = ['PAH',\n",
        " 'CONC',\n",
        " 'MR',\n",
        " 'AR',\n",
        " 'TR',\n",
        " 'PR',\n",
        " 'PE']\n",
        "cont = ['LA',\n",
        " 'AO',\n",
        " 'LVIDd',\n",
        " 'LVIDs',\n",
        " 'LVPWd',\n",
        " 'LVPWs',\n",
        " 'IVSDd',\n",
        " 'IVSDs',\n",
        " 'EF',\n",
        " 'FS',\n",
        " 'SV',\n",
        " 'EDV',\n",
        " 'ESV',\n",
        " 'RWT',\n",
        " 'PASP']"
      ],
      "metadata": {
        "id": "Tdqq9noVtZlC"
      },
      "execution_count": 192,
      "outputs": []
    },
    {
      "cell_type": "code",
      "source": [
        "to = TabularPandas(df, procs, cat, cont, y_names=dependant_variable,y_block=CategoryBlock(), splits=splits)\n",
        "to.show(3)\n"
      ],
      "metadata": {
        "colab": {
          "base_uri": "https://localhost:8080/",
          "height": 143
        },
        "id": "xyRNqBV9tz9x",
        "outputId": "434355f3-cc9b-45a3-c390-d9859a9563ae"
      },
      "execution_count": 193,
      "outputs": [
        {
          "output_type": "display_data",
          "data": {
            "text/html": [
              "<table border=\"1\" class=\"dataframe\">\n",
              "  <thead>\n",
              "    <tr style=\"text-align: right;\">\n",
              "      <th></th>\n",
              "      <th>PAH</th>\n",
              "      <th>CONC</th>\n",
              "      <th>MR</th>\n",
              "      <th>AR</th>\n",
              "      <th>TR</th>\n",
              "      <th>PR</th>\n",
              "      <th>PE</th>\n",
              "      <th>LA</th>\n",
              "      <th>AO</th>\n",
              "      <th>LVIDd</th>\n",
              "      <th>LVIDs</th>\n",
              "      <th>LVPWd</th>\n",
              "      <th>LVPWs</th>\n",
              "      <th>IVSDd</th>\n",
              "      <th>IVSDs</th>\n",
              "      <th>EF</th>\n",
              "      <th>FS</th>\n",
              "      <th>SV</th>\n",
              "      <th>EDV</th>\n",
              "      <th>ESV</th>\n",
              "      <th>RWT</th>\n",
              "      <th>PASP</th>\n",
              "      <th>GROUP</th>\n",
              "    </tr>\n",
              "  </thead>\n",
              "  <tbody>\n",
              "    <tr>\n",
              "      <th>271</th>\n",
              "      <td>NIL</td>\n",
              "      <td>NO</td>\n",
              "      <td>NIL</td>\n",
              "      <td>NIL</td>\n",
              "      <td>TRIVIAL</td>\n",
              "      <td>NIL</td>\n",
              "      <td>NIL</td>\n",
              "      <td>3.0</td>\n",
              "      <td>2.5</td>\n",
              "      <td>4.5</td>\n",
              "      <td>3.2</td>\n",
              "      <td>1.1</td>\n",
              "      <td>1.4</td>\n",
              "      <td>1.0</td>\n",
              "      <td>1.4</td>\n",
              "      <td>56</td>\n",
              "      <td>29</td>\n",
              "      <td>59</td>\n",
              "      <td>92</td>\n",
              "      <td>41</td>\n",
              "      <td>0.49</td>\n",
              "      <td>30</td>\n",
              "      <td>GROUP IV (CONTROL)</td>\n",
              "    </tr>\n",
              "    <tr>\n",
              "      <th>46</th>\n",
              "      <td>NIL</td>\n",
              "      <td>NO</td>\n",
              "      <td>NIL</td>\n",
              "      <td>NIL</td>\n",
              "      <td>NIL</td>\n",
              "      <td>NIL</td>\n",
              "      <td>NIL</td>\n",
              "      <td>3.0</td>\n",
              "      <td>2.8</td>\n",
              "      <td>4.1</td>\n",
              "      <td>3.1</td>\n",
              "      <td>1.1</td>\n",
              "      <td>1.3</td>\n",
              "      <td>1.1</td>\n",
              "      <td>1.3</td>\n",
              "      <td>60</td>\n",
              "      <td>30</td>\n",
              "      <td>34</td>\n",
              "      <td>72</td>\n",
              "      <td>39</td>\n",
              "      <td>0.54</td>\n",
              "      <td>29</td>\n",
              "      <td>GROUP I (PHARYNGITIS)</td>\n",
              "    </tr>\n",
              "    <tr>\n",
              "      <th>167</th>\n",
              "      <td>MILD</td>\n",
              "      <td>YES</td>\n",
              "      <td>MILD</td>\n",
              "      <td>MODERATE</td>\n",
              "      <td>MILD</td>\n",
              "      <td>NIL</td>\n",
              "      <td>NIL</td>\n",
              "      <td>3.4</td>\n",
              "      <td>2.9</td>\n",
              "      <td>4.7</td>\n",
              "      <td>3.3</td>\n",
              "      <td>1.2</td>\n",
              "      <td>1.3</td>\n",
              "      <td>1.2</td>\n",
              "      <td>1.5</td>\n",
              "      <td>56</td>\n",
              "      <td>29</td>\n",
              "      <td>56</td>\n",
              "      <td>101</td>\n",
              "      <td>50</td>\n",
              "      <td>0.51</td>\n",
              "      <td>48</td>\n",
              "      <td>GROUP III (RHD)</td>\n",
              "    </tr>\n",
              "  </tbody>\n",
              "</table>"
            ],
            "text/plain": [
              "<IPython.core.display.HTML object>"
            ]
          },
          "metadata": {}
        }
      ]
    },
    {
      "cell_type": "code",
      "source": [
        "xs,y = to.train.xs,to.train.y\n",
        "valid_xs,valid_y = to.valid.xs,to.valid.y"
      ],
      "metadata": {
        "id": "buyHnkfIt31q"
      },
      "execution_count": 194,
      "outputs": []
    },
    {
      "cell_type": "code",
      "source": [
        "m = rf(xs, y);"
      ],
      "metadata": {
        "id": "ZH90w5bct7-q"
      },
      "execution_count": 195,
      "outputs": []
    },
    {
      "cell_type": "code",
      "source": [
        "fi = rf_feat_importance(m, xs)\n",
        "fi[:10]"
      ],
      "metadata": {
        "colab": {
          "base_uri": "https://localhost:8080/",
          "height": 363
        },
        "id": "ZmpWGDlft9kJ",
        "outputId": "45c4297c-7318-4d10-ccc7-b9ab7484a84d"
      },
      "execution_count": 196,
      "outputs": [
        {
          "output_type": "execute_result",
          "data": {
            "text/html": [
              "\n",
              "  <div id=\"df-97856d4b-3384-44dd-870a-58c9cc01711c\">\n",
              "    <div class=\"colab-df-container\">\n",
              "      <div>\n",
              "<style scoped>\n",
              "    .dataframe tbody tr th:only-of-type {\n",
              "        vertical-align: middle;\n",
              "    }\n",
              "\n",
              "    .dataframe tbody tr th {\n",
              "        vertical-align: top;\n",
              "    }\n",
              "\n",
              "    .dataframe thead th {\n",
              "        text-align: right;\n",
              "    }\n",
              "</style>\n",
              "<table border=\"1\" class=\"dataframe\">\n",
              "  <thead>\n",
              "    <tr style=\"text-align: right;\">\n",
              "      <th></th>\n",
              "      <th>cols</th>\n",
              "      <th>imp</th>\n",
              "    </tr>\n",
              "  </thead>\n",
              "  <tbody>\n",
              "    <tr>\n",
              "      <th>7</th>\n",
              "      <td>LA</td>\n",
              "      <td>0.358887</td>\n",
              "    </tr>\n",
              "    <tr>\n",
              "      <th>4</th>\n",
              "      <td>TR</td>\n",
              "      <td>0.126964</td>\n",
              "    </tr>\n",
              "    <tr>\n",
              "      <th>21</th>\n",
              "      <td>PASP</td>\n",
              "      <td>0.099888</td>\n",
              "    </tr>\n",
              "    <tr>\n",
              "      <th>15</th>\n",
              "      <td>EF</td>\n",
              "      <td>0.085006</td>\n",
              "    </tr>\n",
              "    <tr>\n",
              "      <th>16</th>\n",
              "      <td>FS</td>\n",
              "      <td>0.073882</td>\n",
              "    </tr>\n",
              "    <tr>\n",
              "      <th>2</th>\n",
              "      <td>MR</td>\n",
              "      <td>0.054514</td>\n",
              "    </tr>\n",
              "    <tr>\n",
              "      <th>18</th>\n",
              "      <td>EDV</td>\n",
              "      <td>0.030556</td>\n",
              "    </tr>\n",
              "    <tr>\n",
              "      <th>20</th>\n",
              "      <td>RWT</td>\n",
              "      <td>0.030454</td>\n",
              "    </tr>\n",
              "    <tr>\n",
              "      <th>17</th>\n",
              "      <td>SV</td>\n",
              "      <td>0.018566</td>\n",
              "    </tr>\n",
              "    <tr>\n",
              "      <th>8</th>\n",
              "      <td>AO</td>\n",
              "      <td>0.018290</td>\n",
              "    </tr>\n",
              "  </tbody>\n",
              "</table>\n",
              "</div>\n",
              "      <button class=\"colab-df-convert\" onclick=\"convertToInteractive('df-97856d4b-3384-44dd-870a-58c9cc01711c')\"\n",
              "              title=\"Convert this dataframe to an interactive table.\"\n",
              "              style=\"display:none;\">\n",
              "        \n",
              "  <svg xmlns=\"http://www.w3.org/2000/svg\" height=\"24px\"viewBox=\"0 0 24 24\"\n",
              "       width=\"24px\">\n",
              "    <path d=\"M0 0h24v24H0V0z\" fill=\"none\"/>\n",
              "    <path d=\"M18.56 5.44l.94 2.06.94-2.06 2.06-.94-2.06-.94-.94-2.06-.94 2.06-2.06.94zm-11 1L8.5 8.5l.94-2.06 2.06-.94-2.06-.94L8.5 2.5l-.94 2.06-2.06.94zm10 10l.94 2.06.94-2.06 2.06-.94-2.06-.94-.94-2.06-.94 2.06-2.06.94z\"/><path d=\"M17.41 7.96l-1.37-1.37c-.4-.4-.92-.59-1.43-.59-.52 0-1.04.2-1.43.59L10.3 9.45l-7.72 7.72c-.78.78-.78 2.05 0 2.83L4 21.41c.39.39.9.59 1.41.59.51 0 1.02-.2 1.41-.59l7.78-7.78 2.81-2.81c.8-.78.8-2.07 0-2.86zM5.41 20L4 18.59l7.72-7.72 1.47 1.35L5.41 20z\"/>\n",
              "  </svg>\n",
              "      </button>\n",
              "      \n",
              "  <style>\n",
              "    .colab-df-container {\n",
              "      display:flex;\n",
              "      flex-wrap:wrap;\n",
              "      gap: 12px;\n",
              "    }\n",
              "\n",
              "    .colab-df-convert {\n",
              "      background-color: #E8F0FE;\n",
              "      border: none;\n",
              "      border-radius: 50%;\n",
              "      cursor: pointer;\n",
              "      display: none;\n",
              "      fill: #1967D2;\n",
              "      height: 32px;\n",
              "      padding: 0 0 0 0;\n",
              "      width: 32px;\n",
              "    }\n",
              "\n",
              "    .colab-df-convert:hover {\n",
              "      background-color: #E2EBFA;\n",
              "      box-shadow: 0px 1px 2px rgba(60, 64, 67, 0.3), 0px 1px 3px 1px rgba(60, 64, 67, 0.15);\n",
              "      fill: #174EA6;\n",
              "    }\n",
              "\n",
              "    [theme=dark] .colab-df-convert {\n",
              "      background-color: #3B4455;\n",
              "      fill: #D2E3FC;\n",
              "    }\n",
              "\n",
              "    [theme=dark] .colab-df-convert:hover {\n",
              "      background-color: #434B5C;\n",
              "      box-shadow: 0px 1px 3px 1px rgba(0, 0, 0, 0.15);\n",
              "      filter: drop-shadow(0px 1px 2px rgba(0, 0, 0, 0.3));\n",
              "      fill: #FFFFFF;\n",
              "    }\n",
              "  </style>\n",
              "\n",
              "      <script>\n",
              "        const buttonEl =\n",
              "          document.querySelector('#df-97856d4b-3384-44dd-870a-58c9cc01711c button.colab-df-convert');\n",
              "        buttonEl.style.display =\n",
              "          google.colab.kernel.accessAllowed ? 'block' : 'none';\n",
              "\n",
              "        async function convertToInteractive(key) {\n",
              "          const element = document.querySelector('#df-97856d4b-3384-44dd-870a-58c9cc01711c');\n",
              "          const dataTable =\n",
              "            await google.colab.kernel.invokeFunction('convertToInteractive',\n",
              "                                                     [key], {});\n",
              "          if (!dataTable) return;\n",
              "\n",
              "          const docLinkHtml = 'Like what you see? Visit the ' +\n",
              "            '<a target=\"_blank\" href=https://colab.research.google.com/notebooks/data_table.ipynb>data table notebook</a>'\n",
              "            + ' to learn more about interactive tables.';\n",
              "          element.innerHTML = '';\n",
              "          dataTable['output_type'] = 'display_data';\n",
              "          await google.colab.output.renderOutput(dataTable, element);\n",
              "          const docLink = document.createElement('div');\n",
              "          docLink.innerHTML = docLinkHtml;\n",
              "          element.appendChild(docLink);\n",
              "        }\n",
              "      </script>\n",
              "    </div>\n",
              "  </div>\n",
              "  "
            ],
            "text/plain": [
              "    cols       imp\n",
              "7     LA  0.358887\n",
              "4     TR  0.126964\n",
              "21  PASP  0.099888\n",
              "15    EF  0.085006\n",
              "16    FS  0.073882\n",
              "2     MR  0.054514\n",
              "18   EDV  0.030556\n",
              "20   RWT  0.030454\n",
              "17    SV  0.018566\n",
              "8     AO  0.018290"
            ]
          },
          "metadata": {},
          "execution_count": 196
        }
      ]
    },
    {
      "cell_type": "code",
      "source": [
        "plot_fi(fi[:30]);"
      ],
      "metadata": {
        "colab": {
          "base_uri": "https://localhost:8080/",
          "height": 431
        },
        "id": "ZCC1OVYtt_WB",
        "outputId": "86c0692e-2419-43f7-fe79-e6c76eb81eaf"
      },
      "execution_count": 197,
      "outputs": [
        {
          "output_type": "display_data",
          "data": {
            "image/png": "[encoded data removed]",
            "text/plain": [
              "<Figure size 864x504 with 1 Axes>"
            ]
          },
          "metadata": {
            "needs_background": "light"
          }
        }
      ]
    },
    {
      "cell_type": "code",
      "source": [
        "(accuracy,precision,recall,f1) = get_metrics(m,valid_xs,valid_y)\n",
        "(accuracy,precision,recall,f1)"
      ],
      "metadata": {
        "colab": {
          "base_uri": "https://localhost:8080/"
        },
        "id": "5RfD49u8uDPh",
        "outputId": "4a2ff1a5-2db4-468f-d807-d0f992b42e09"
      },
      "execution_count": 199,
      "outputs": [
        {
          "output_type": "execute_result",
          "data": {
            "text/plain": [
              "(0.7777777777777778,\n",
              " 0.7885416666666667,\n",
              " 0.6401515151515151,\n",
              " 0.6775210084033614)"
            ]
          },
          "metadata": {},
          "execution_count": 199
        }
      ]
    },
    {
      "cell_type": "code",
      "source": [
        "preds = m.predict_proba(valid_xs)\n",
        "true_y = valid_y\n",
        "roc_auc_score(true_y,preds,multi_class='ovr')"
      ],
      "metadata": {
        "colab": {
          "base_uri": "https://localhost:8080/"
        },
        "id": "GQINSWvRuFbh",
        "outputId": "5326b253-7e29-47fc-ab86-617e0a668850"
      },
      "execution_count": 200,
      "outputs": [
        {
          "output_type": "execute_result",
          "data": {
            "text/plain": [
              "0.918684541703506"
            ]
          },
          "metadata": {},
          "execution_count": 200
        }
      ]
    },
    {
      "cell_type": "code",
      "source": [
        "# Only echo parameters gives poor result"
      ],
      "metadata": {
        "id": "Sust1QNDuLJy"
      },
      "execution_count": 201,
      "outputs": []
    },
    {
      "cell_type": "code",
      "source": [
        "#Model 3 - SYMPTOMS"
      ],
      "metadata": {
        "id": "DHaOBSzxuOKC"
      },
      "execution_count": 202,
      "outputs": []
    },
    {
      "cell_type": "code",
      "source": [
        " cont = []\n",
        " cat=['DOE I - II',\n",
        " 'DOE III - IV',\n",
        " 'FEVER',\n",
        " 'COLD & COUGH',\n",
        " 'SORETHROAT',\n",
        " 'CHEST PAIN',\n",
        " 'JOINT PAIN',\n",
        " 'PALPITATION',\n",
        " 'GIDDINESS',\n",
        " 'PEDAL EDMA']"
      ],
      "metadata": {
        "id": "UWMQPlS6uQe6"
      },
      "execution_count": 205,
      "outputs": []
    },
    {
      "cell_type": "code",
      "source": [
        "to = TabularPandas(df, procs, cat, cont, y_names=dependant_variable,y_block=CategoryBlock(), splits=splits)\n",
        "to.show(3)"
      ],
      "metadata": {
        "colab": {
          "base_uri": "https://localhost:8080/",
          "height": 143
        },
        "id": "jDAJMe_Budpx",
        "outputId": "67c23643-a24a-4170-c243-a77c96730b54"
      },
      "execution_count": 206,
      "outputs": [
        {
          "output_type": "display_data",
          "data": {
            "text/html": [
              "<table border=\"1\" class=\"dataframe\">\n",
              "  <thead>\n",
              "    <tr style=\"text-align: right;\">\n",
              "      <th></th>\n",
              "      <th>DOE I - II</th>\n",
              "      <th>DOE III - IV</th>\n",
              "      <th>FEVER</th>\n",
              "      <th>COLD &amp; COUGH</th>\n",
              "      <th>SORETHROAT</th>\n",
              "      <th>CHEST PAIN</th>\n",
              "      <th>JOINT PAIN</th>\n",
              "      <th>PALPITATION</th>\n",
              "      <th>GIDDINESS</th>\n",
              "      <th>PEDAL EDMA</th>\n",
              "      <th>GROUP</th>\n",
              "    </tr>\n",
              "  </thead>\n",
              "  <tbody>\n",
              "    <tr>\n",
              "      <th>271</th>\n",
              "      <td>NO</td>\n",
              "      <td>NO</td>\n",
              "      <td>NO</td>\n",
              "      <td>NO</td>\n",
              "      <td>NO</td>\n",
              "      <td>NO</td>\n",
              "      <td>YES</td>\n",
              "      <td>NO</td>\n",
              "      <td>NO</td>\n",
              "      <td>NO</td>\n",
              "      <td>GROUP IV (CONTROL)</td>\n",
              "    </tr>\n",
              "    <tr>\n",
              "      <th>46</th>\n",
              "      <td>NO</td>\n",
              "      <td>YES</td>\n",
              "      <td>YES</td>\n",
              "      <td>NO</td>\n",
              "      <td>YES</td>\n",
              "      <td>YES</td>\n",
              "      <td>NO</td>\n",
              "      <td>NO</td>\n",
              "      <td>NO</td>\n",
              "      <td>NO</td>\n",
              "      <td>GROUP I (PHARYNGITIS)</td>\n",
              "    </tr>\n",
              "    <tr>\n",
              "      <th>167</th>\n",
              "      <td>NO</td>\n",
              "      <td>NO</td>\n",
              "      <td>NO</td>\n",
              "      <td>NO</td>\n",
              "      <td>NO</td>\n",
              "      <td>NO</td>\n",
              "      <td>NO</td>\n",
              "      <td>NO</td>\n",
              "      <td>NO</td>\n",
              "      <td>NO</td>\n",
              "      <td>GROUP III (RHD)</td>\n",
              "    </tr>\n",
              "  </tbody>\n",
              "</table>"
            ],
            "text/plain": [
              "<IPython.core.display.HTML object>"
            ]
          },
          "metadata": {}
        }
      ]
    },
    {
      "cell_type": "code",
      "source": [
        "xs,y = to.train.xs,to.train.y\n",
        "valid_xs,valid_y = to.valid.xs,to.valid.y\n",
        "m = rf(xs, y);\n",
        "fi = rf_feat_importance(m, xs)\n",
        "fi[:10]"
      ],
      "metadata": {
        "colab": {
          "base_uri": "https://localhost:8080/",
          "height": 363
        },
        "id": "tyLCVIwxud8R",
        "outputId": "22c938f2-ec8b-4475-a55d-9c5a4ac5db46"
      },
      "execution_count": 207,
      "outputs": [
        {
          "output_type": "execute_result",
          "data": {
            "text/html": [
              "\n",
              "  <div id=\"df-54c87427-e54c-4e98-bd5b-512dc510efdf\">\n",
              "    <div class=\"colab-df-container\">\n",
              "      <div>\n",
              "<style scoped>\n",
              "    .dataframe tbody tr th:only-of-type {\n",
              "        vertical-align: middle;\n",
              "    }\n",
              "\n",
              "    .dataframe tbody tr th {\n",
              "        vertical-align: top;\n",
              "    }\n",
              "\n",
              "    .dataframe thead th {\n",
              "        text-align: right;\n",
              "    }\n",
              "</style>\n",
              "<table border=\"1\" class=\"dataframe\">\n",
              "  <thead>\n",
              "    <tr style=\"text-align: right;\">\n",
              "      <th></th>\n",
              "      <th>cols</th>\n",
              "      <th>imp</th>\n",
              "    </tr>\n",
              "  </thead>\n",
              "  <tbody>\n",
              "    <tr>\n",
              "      <th>4</th>\n",
              "      <td>SORETHROAT</td>\n",
              "      <td>0.323753</td>\n",
              "    </tr>\n",
              "    <tr>\n",
              "      <th>1</th>\n",
              "      <td>DOE III - IV</td>\n",
              "      <td>0.204651</td>\n",
              "    </tr>\n",
              "    <tr>\n",
              "      <th>3</th>\n",
              "      <td>COLD &amp; COUGH</td>\n",
              "      <td>0.143201</td>\n",
              "    </tr>\n",
              "    <tr>\n",
              "      <th>2</th>\n",
              "      <td>FEVER</td>\n",
              "      <td>0.082568</td>\n",
              "    </tr>\n",
              "    <tr>\n",
              "      <th>6</th>\n",
              "      <td>JOINT PAIN</td>\n",
              "      <td>0.079746</td>\n",
              "    </tr>\n",
              "    <tr>\n",
              "      <th>5</th>\n",
              "      <td>CHEST PAIN</td>\n",
              "      <td>0.061846</td>\n",
              "    </tr>\n",
              "    <tr>\n",
              "      <th>0</th>\n",
              "      <td>DOE I - II</td>\n",
              "      <td>0.036355</td>\n",
              "    </tr>\n",
              "    <tr>\n",
              "      <th>7</th>\n",
              "      <td>PALPITATION</td>\n",
              "      <td>0.029437</td>\n",
              "    </tr>\n",
              "    <tr>\n",
              "      <th>9</th>\n",
              "      <td>PEDAL EDMA</td>\n",
              "      <td>0.025458</td>\n",
              "    </tr>\n",
              "    <tr>\n",
              "      <th>8</th>\n",
              "      <td>GIDDINESS</td>\n",
              "      <td>0.012986</td>\n",
              "    </tr>\n",
              "  </tbody>\n",
              "</table>\n",
              "</div>\n",
              "      <button class=\"colab-df-convert\" onclick=\"convertToInteractive('df-54c87427-e54c-4e98-bd5b-512dc510efdf')\"\n",
              "              title=\"Convert this dataframe to an interactive table.\"\n",
              "              style=\"display:none;\">\n",
              "        \n",
              "  <svg xmlns=\"http://www.w3.org/2000/svg\" height=\"24px\"viewBox=\"0 0 24 24\"\n",
              "       width=\"24px\">\n",
              "    <path d=\"M0 0h24v24H0V0z\" fill=\"none\"/>\n",
              "    <path d=\"M18.56 5.44l.94 2.06.94-2.06 2.06-.94-2.06-.94-.94-2.06-.94 2.06-2.06.94zm-11 1L8.5 8.5l.94-2.06 2.06-.94-2.06-.94L8.5 2.5l-.94 2.06-2.06.94zm10 10l.94 2.06.94-2.06 2.06-.94-2.06-.94-.94-2.06-.94 2.06-2.06.94z\"/><path d=\"M17.41 7.96l-1.37-1.37c-.4-.4-.92-.59-1.43-.59-.52 0-1.04.2-1.43.59L10.3 9.45l-7.72 7.72c-.78.78-.78 2.05 0 2.83L4 21.41c.39.39.9.59 1.41.59.51 0 1.02-.2 1.41-.59l7.78-7.78 2.81-2.81c.8-.78.8-2.07 0-2.86zM5.41 20L4 18.59l7.72-7.72 1.47 1.35L5.41 20z\"/>\n",
              "  </svg>\n",
              "      </button>\n",
              "      \n",
              "  <style>\n",
              "    .colab-df-container {\n",
              "      display:flex;\n",
              "      flex-wrap:wrap;\n",
              "      gap: 12px;\n",
              "    }\n",
              "\n",
              "    .colab-df-convert {\n",
              "      background-color: #E8F0FE;\n",
              "      border: none;\n",
              "      border-radius: 50%;\n",
              "      cursor: pointer;\n",
              "      display: none;\n",
              "      fill: #1967D2;\n",
              "      height: 32px;\n",
              "      padding: 0 0 0 0;\n",
              "      width: 32px;\n",
              "    }\n",
              "\n",
              "    .colab-df-convert:hover {\n",
              "      background-color: #E2EBFA;\n",
              "      box-shadow: 0px 1px 2px rgba(60, 64, 67, 0.3), 0px 1px 3px 1px rgba(60, 64, 67, 0.15);\n",
              "      fill: #174EA6;\n",
              "    }\n",
              "\n",
              "    [theme=dark] .colab-df-convert {\n",
              "      background-color: #3B4455;\n",
              "      fill: #D2E3FC;\n",
              "    }\n",
              "\n",
              "    [theme=dark] .colab-df-convert:hover {\n",
              "      background-color: #434B5C;\n",
              "      box-shadow: 0px 1px 3px 1px rgba(0, 0, 0, 0.15);\n",
              "      filter: drop-shadow(0px 1px 2px rgba(0, 0, 0, 0.3));\n",
              "      fill: #FFFFFF;\n",
              "    }\n",
              "  </style>\n",
              "\n",
              "      <script>\n",
              "        const buttonEl =\n",
              "          document.querySelector('#df-54c87427-e54c-4e98-bd5b-512dc510efdf button.colab-df-convert');\n",
              "        buttonEl.style.display =\n",
              "          google.colab.kernel.accessAllowed ? 'block' : 'none';\n",
              "\n",
              "        async function convertToInteractive(key) {\n",
              "          const element = document.querySelector('#df-54c87427-e54c-4e98-bd5b-512dc510efdf');\n",
              "          const dataTable =\n",
              "            await google.colab.kernel.invokeFunction('convertToInteractive',\n",
              "                                                     [key], {});\n",
              "          if (!dataTable) return;\n",
              "\n",
              "          const docLinkHtml = 'Like what you see? Visit the ' +\n",
              "            '<a target=\"_blank\" href=https://colab.research.google.com/notebooks/data_table.ipynb>data table notebook</a>'\n",
              "            + ' to learn more about interactive tables.';\n",
              "          element.innerHTML = '';\n",
              "          dataTable['output_type'] = 'display_data';\n",
              "          await google.colab.output.renderOutput(dataTable, element);\n",
              "          const docLink = document.createElement('div');\n",
              "          docLink.innerHTML = docLinkHtml;\n",
              "          element.appendChild(docLink);\n",
              "        }\n",
              "      </script>\n",
              "    </div>\n",
              "  </div>\n",
              "  "
            ],
            "text/plain": [
              "           cols       imp\n",
              "4    SORETHROAT  0.323753\n",
              "1  DOE III - IV  0.204651\n",
              "3  COLD & COUGH  0.143201\n",
              "2         FEVER  0.082568\n",
              "6    JOINT PAIN  0.079746\n",
              "5    CHEST PAIN  0.061846\n",
              "0    DOE I - II  0.036355\n",
              "7   PALPITATION  0.029437\n",
              "9    PEDAL EDMA  0.025458\n",
              "8     GIDDINESS  0.012986"
            ]
          },
          "metadata": {},
          "execution_count": 207
        }
      ]
    },
    {
      "cell_type": "code",
      "source": [
        "plot_fi(fi[:30]);"
      ],
      "metadata": {
        "colab": {
          "base_uri": "https://localhost:8080/",
          "height": 431
        },
        "id": "ZparFh8XuktB",
        "outputId": "186679d1-5d4a-4442-b5cd-8fef2494ee64"
      },
      "execution_count": 208,
      "outputs": [
        {
          "output_type": "display_data",
          "data": {
            "image/png": "[encoded data removed]",
            "text/plain": [
              "<Figure size 864x504 with 1 Axes>"
            ]
          },
          "metadata": {
            "needs_background": "light"
          }
        }
      ]
    },
    {
      "cell_type": "code",
      "source": [
        "(accuracy,precision,recall,f1) = get_metrics(m,valid_xs,valid_y)\n",
        "(accuracy,precision,recall,f1)"
      ],
      "metadata": {
        "colab": {
          "base_uri": "https://localhost:8080/"
        },
        "id": "hQcLrbzSuoYK",
        "outputId": "84f9ef48-d240-4e57-e3b2-9453911d316a"
      },
      "execution_count": 209,
      "outputs": [
        {
          "output_type": "execute_result",
          "data": {
            "text/plain": [
              "(0.7592592592592593,\n",
              " 0.7364583333333333,\n",
              " 0.6245348219032429,\n",
              " 0.6194796136205112)"
            ]
          },
          "metadata": {},
          "execution_count": 209
        }
      ]
    },
    {
      "cell_type": "code",
      "source": [
        "preds = m.predict_proba(valid_xs)\n",
        "true_y = valid_y\n",
        "roc_auc_score(true_y,preds,multi_class='ovr')"
      ],
      "metadata": {
        "colab": {
          "base_uri": "https://localhost:8080/"
        },
        "id": "_10ToOfhupw6",
        "outputId": "3256011d-7a7c-4b06-c2a7-c918c32fd053"
      },
      "execution_count": 210,
      "outputs": [
        {
          "output_type": "execute_result",
          "data": {
            "text/plain": [
              "0.9046149976577549"
            ]
          },
          "metadata": {},
          "execution_count": 210
        }
      ]
    },
    {
      "cell_type": "code",
      "source": [
        "# Again, poor results\n",
        "\n",
        "# Model 4 - SST2 with BLOOD"
      ],
      "metadata": {
        "id": "ZVXu-HO6urpy"
      },
      "execution_count": null,
      "outputs": []
    },
    {
      "cell_type": "code",
      "source": [
        "cat = []\n",
        "cont = ['ASO','ESR','CRP','HEMOGLOBIN','RED BLOOD CELL DISTRIBUTION WIDTH',\n",
        "        'PLATELETS',\n",
        " 'NEUTROPHIL',\n",
        " 'EOSINOPHIL',\n",
        " 'BASOPHIL',\n",
        " 'LYMPHOCYTE',\n",
        " 'MONOCYTE',\n",
        " 'SODIUM',\n",
        " 'POTASSIUM','sST2']"
      ],
      "metadata": {
        "id": "TI7qenl6u2S6"
      },
      "execution_count": 211,
      "outputs": []
    },
    {
      "cell_type": "code",
      "source": [
        "to = TabularPandas(df, procs, cat, cont, y_names=dependant_variable,y_block=CategoryBlock(), splits=splits)\n",
        "to.show(3)"
      ],
      "metadata": {
        "colab": {
          "base_uri": "https://localhost:8080/",
          "height": 143
        },
        "id": "7vAMAwRMvA0g",
        "outputId": "5801c25d-a412-4275-9fc3-fb8b02a3e27c"
      },
      "execution_count": 212,
      "outputs": [
        {
          "output_type": "display_data",
          "data": {
            "text/html": [
              "<table border=\"1\" class=\"dataframe\">\n",
              "  <thead>\n",
              "    <tr style=\"text-align: right;\">\n",
              "      <th></th>\n",
              "      <th>ASO</th>\n",
              "      <th>ESR</th>\n",
              "      <th>CRP</th>\n",
              "      <th>HEMOGLOBIN</th>\n",
              "      <th>RED BLOOD CELL DISTRIBUTION WIDTH</th>\n",
              "      <th>PLATELETS</th>\n",
              "      <th>NEUTROPHIL</th>\n",
              "      <th>EOSINOPHIL</th>\n",
              "      <th>BASOPHIL</th>\n",
              "      <th>LYMPHOCYTE</th>\n",
              "      <th>MONOCYTE</th>\n",
              "      <th>SODIUM</th>\n",
              "      <th>POTASSIUM</th>\n",
              "      <th>sST2</th>\n",
              "      <th>GROUP</th>\n",
              "    </tr>\n",
              "  </thead>\n",
              "  <tbody>\n",
              "    <tr>\n",
              "      <th>271</th>\n",
              "      <td>0</td>\n",
              "      <td>0</td>\n",
              "      <td>0.0</td>\n",
              "      <td>14.1</td>\n",
              "      <td>10.9</td>\n",
              "      <td>251000</td>\n",
              "      <td>55.000000</td>\n",
              "      <td>5.0</td>\n",
              "      <td>0.2</td>\n",
              "      <td>21.0</td>\n",
              "      <td>9.0</td>\n",
              "      <td>139</td>\n",
              "      <td>3.9</td>\n",
              "      <td>7.5</td>\n",
              "      <td>GROUP IV (CONTROL)</td>\n",
              "    </tr>\n",
              "    <tr>\n",
              "      <th>46</th>\n",
              "      <td>800</td>\n",
              "      <td>40</td>\n",
              "      <td>23.4</td>\n",
              "      <td>12.5</td>\n",
              "      <td>12.0</td>\n",
              "      <td>372000</td>\n",
              "      <td>69.000000</td>\n",
              "      <td>15.3</td>\n",
              "      <td>0.6</td>\n",
              "      <td>38.0</td>\n",
              "      <td>3.1</td>\n",
              "      <td>136</td>\n",
              "      <td>4.0</td>\n",
              "      <td>15.3</td>\n",
              "      <td>GROUP I (PHARYNGITIS)</td>\n",
              "    </tr>\n",
              "    <tr>\n",
              "      <th>167</th>\n",
              "      <td>0</td>\n",
              "      <td>0</td>\n",
              "      <td>0.0</td>\n",
              "      <td>12.6</td>\n",
              "      <td>16.4</td>\n",
              "      <td>499000</td>\n",
              "      <td>93.199997</td>\n",
              "      <td>10.4</td>\n",
              "      <td>0.5</td>\n",
              "      <td>23.6</td>\n",
              "      <td>6.2</td>\n",
              "      <td>142</td>\n",
              "      <td>4.0</td>\n",
              "      <td>23.5</td>\n",
              "      <td>GROUP III (RHD)</td>\n",
              "    </tr>\n",
              "  </tbody>\n",
              "</table>"
            ],
            "text/plain": [
              "<IPython.core.display.HTML object>"
            ]
          },
          "metadata": {}
        }
      ]
    },
    {
      "cell_type": "code",
      "source": [
        "xs,y = to.train.xs,to.train.y\n",
        "valid_xs,valid_y = to.valid.xs,to.valid.y\n",
        "m = rf(xs, y);\n",
        "fi = rf_feat_importance(m, xs)\n",
        "fi[:10]"
      ],
      "metadata": {
        "colab": {
          "base_uri": "https://localhost:8080/",
          "height": 363
        },
        "id": "-Coqhi8VvC_p",
        "outputId": "dd9c896a-7372-4c2e-d50b-a31d6c1952ef"
      },
      "execution_count": 213,
      "outputs": [
        {
          "output_type": "execute_result",
          "data": {
            "text/html": [
              "\n",
              "  <div id=\"df-c5929486-73db-45ac-b9d9-790aa4c0a338\">\n",
              "    <div class=\"colab-df-container\">\n",
              "      <div>\n",
              "<style scoped>\n",
              "    .dataframe tbody tr th:only-of-type {\n",
              "        vertical-align: middle;\n",
              "    }\n",
              "\n",
              "    .dataframe tbody tr th {\n",
              "        vertical-align: top;\n",
              "    }\n",
              "\n",
              "    .dataframe thead th {\n",
              "        text-align: right;\n",
              "    }\n",
              "</style>\n",
              "<table border=\"1\" class=\"dataframe\">\n",
              "  <thead>\n",
              "    <tr style=\"text-align: right;\">\n",
              "      <th></th>\n",
              "      <th>cols</th>\n",
              "      <th>imp</th>\n",
              "    </tr>\n",
              "  </thead>\n",
              "  <tbody>\n",
              "    <tr>\n",
              "      <th>13</th>\n",
              "      <td>sST2</td>\n",
              "      <td>0.347701</td>\n",
              "    </tr>\n",
              "    <tr>\n",
              "      <th>1</th>\n",
              "      <td>ESR</td>\n",
              "      <td>0.207097</td>\n",
              "    </tr>\n",
              "    <tr>\n",
              "      <th>6</th>\n",
              "      <td>NEUTROPHIL</td>\n",
              "      <td>0.162590</td>\n",
              "    </tr>\n",
              "    <tr>\n",
              "      <th>2</th>\n",
              "      <td>CRP</td>\n",
              "      <td>0.084164</td>\n",
              "    </tr>\n",
              "    <tr>\n",
              "      <th>3</th>\n",
              "      <td>HEMOGLOBIN</td>\n",
              "      <td>0.071370</td>\n",
              "    </tr>\n",
              "    <tr>\n",
              "      <th>0</th>\n",
              "      <td>ASO</td>\n",
              "      <td>0.061371</td>\n",
              "    </tr>\n",
              "    <tr>\n",
              "      <th>7</th>\n",
              "      <td>EOSINOPHIL</td>\n",
              "      <td>0.036731</td>\n",
              "    </tr>\n",
              "    <tr>\n",
              "      <th>10</th>\n",
              "      <td>MONOCYTE</td>\n",
              "      <td>0.010571</td>\n",
              "    </tr>\n",
              "    <tr>\n",
              "      <th>8</th>\n",
              "      <td>BASOPHIL</td>\n",
              "      <td>0.006826</td>\n",
              "    </tr>\n",
              "    <tr>\n",
              "      <th>4</th>\n",
              "      <td>RED BLOOD CELL DISTRIBUTION WIDTH</td>\n",
              "      <td>0.004964</td>\n",
              "    </tr>\n",
              "  </tbody>\n",
              "</table>\n",
              "</div>\n",
              "      <button class=\"colab-df-convert\" onclick=\"convertToInteractive('df-c5929486-73db-45ac-b9d9-790aa4c0a338')\"\n",
              "              title=\"Convert this dataframe to an interactive table.\"\n",
              "              style=\"display:none;\">\n",
              "        \n",
              "  <svg xmlns=\"http://www.w3.org/2000/svg\" height=\"24px\"viewBox=\"0 0 24 24\"\n",
              "       width=\"24px\">\n",
              "    <path d=\"M0 0h24v24H0V0z\" fill=\"none\"/>\n",
              "    <path d=\"M18.56 5.44l.94 2.06.94-2.06 2.06-.94-2.06-.94-.94-2.06-.94 2.06-2.06.94zm-11 1L8.5 8.5l.94-2.06 2.06-.94-2.06-.94L8.5 2.5l-.94 2.06-2.06.94zm10 10l.94 2.06.94-2.06 2.06-.94-2.06-.94-.94-2.06-.94 2.06-2.06.94z\"/><path d=\"M17.41 7.96l-1.37-1.37c-.4-.4-.92-.59-1.43-.59-.52 0-1.04.2-1.43.59L10.3 9.45l-7.72 7.72c-.78.78-.78 2.05 0 2.83L4 21.41c.39.39.9.59 1.41.59.51 0 1.02-.2 1.41-.59l7.78-7.78 2.81-2.81c.8-.78.8-2.07 0-2.86zM5.41 20L4 18.59l7.72-7.72 1.47 1.35L5.41 20z\"/>\n",
              "  </svg>\n",
              "      </button>\n",
              "      \n",
              "  <style>\n",
              "    .colab-df-container {\n",
              "      display:flex;\n",
              "      flex-wrap:wrap;\n",
              "      gap: 12px;\n",
              "    }\n",
              "\n",
              "    .colab-df-convert {\n",
              "      background-color: #E8F0FE;\n",
              "      border: none;\n",
              "      border-radius: 50%;\n",
              "      cursor: pointer;\n",
              "      display: none;\n",
              "      fill: #1967D2;\n",
              "      height: 32px;\n",
              "      padding: 0 0 0 0;\n",
              "      width: 32px;\n",
              "    }\n",
              "\n",
              "    .colab-df-convert:hover {\n",
              "      background-color: #E2EBFA;\n",
              "      box-shadow: 0px 1px 2px rgba(60, 64, 67, 0.3), 0px 1px 3px 1px rgba(60, 64, 67, 0.15);\n",
              "      fill: #174EA6;\n",
              "    }\n",
              "\n",
              "    [theme=dark] .colab-df-convert {\n",
              "      background-color: #3B4455;\n",
              "      fill: #D2E3FC;\n",
              "    }\n",
              "\n",
              "    [theme=dark] .colab-df-convert:hover {\n",
              "      background-color: #434B5C;\n",
              "      box-shadow: 0px 1px 3px 1px rgba(0, 0, 0, 0.15);\n",
              "      filter: drop-shadow(0px 1px 2px rgba(0, 0, 0, 0.3));\n",
              "      fill: #FFFFFF;\n",
              "    }\n",
              "  </style>\n",
              "\n",
              "      <script>\n",
              "        const buttonEl =\n",
              "          document.querySelector('#df-c5929486-73db-45ac-b9d9-790aa4c0a338 button.colab-df-convert');\n",
              "        buttonEl.style.display =\n",
              "          google.colab.kernel.accessAllowed ? 'block' : 'none';\n",
              "\n",
              "        async function convertToInteractive(key) {\n",
              "          const element = document.querySelector('#df-c5929486-73db-45ac-b9d9-790aa4c0a338');\n",
              "          const dataTable =\n",
              "            await google.colab.kernel.invokeFunction('convertToInteractive',\n",
              "                                                     [key], {});\n",
              "          if (!dataTable) return;\n",
              "\n",
              "          const docLinkHtml = 'Like what you see? Visit the ' +\n",
              "            '<a target=\"_blank\" href=https://colab.research.google.com/notebooks/data_table.ipynb>data table notebook</a>'\n",
              "            + ' to learn more about interactive tables.';\n",
              "          element.innerHTML = '';\n",
              "          dataTable['output_type'] = 'display_data';\n",
              "          await google.colab.output.renderOutput(dataTable, element);\n",
              "          const docLink = document.createElement('div');\n",
              "          docLink.innerHTML = docLinkHtml;\n",
              "          element.appendChild(docLink);\n",
              "        }\n",
              "      </script>\n",
              "    </div>\n",
              "  </div>\n",
              "  "
            ],
            "text/plain": [
              "                                 cols       imp\n",
              "13                               sST2  0.347701\n",
              "1                                 ESR  0.207097\n",
              "6                          NEUTROPHIL  0.162590\n",
              "2                                 CRP  0.084164\n",
              "3                          HEMOGLOBIN  0.071370\n",
              "0                                 ASO  0.061371\n",
              "7                          EOSINOPHIL  0.036731\n",
              "10                           MONOCYTE  0.010571\n",
              "8                            BASOPHIL  0.006826\n",
              "4   RED BLOOD CELL DISTRIBUTION WIDTH  0.004964"
            ]
          },
          "metadata": {},
          "execution_count": 213
        }
      ]
    },
    {
      "cell_type": "code",
      "source": [
        "plot_fi(fi[:30]);"
      ],
      "metadata": {
        "colab": {
          "base_uri": "https://localhost:8080/",
          "height": 431
        },
        "id": "0T5LvZfyvFa5",
        "outputId": "9e05ded2-c57f-45cb-8707-b7d47b117a1b"
      },
      "execution_count": 214,
      "outputs": [
        {
          "output_type": "display_data",
          "data": {
            "image/png": "[encoded data removed]",
            "text/plain": [
              "<Figure size 864x504 with 1 Axes>"
            ]
          },
          "metadata": {
            "needs_background": "light"
          }
        }
      ]
    },
    {
      "cell_type": "code",
      "source": [
        "(accuracy,precision,recall,f1) = get_metrics(m,valid_xs,valid_y)\n",
        "(accuracy,precision,recall,f1)"
      ],
      "metadata": {
        "colab": {
          "base_uri": "https://localhost:8080/"
        },
        "id": "66d87jqjvHw5",
        "outputId": "9041c6aa-516e-4305-c3fd-2119c228599b"
      },
      "execution_count": 215,
      "outputs": [
        {
          "output_type": "execute_result",
          "data": {
            "text/plain": [
              "(0.9629629629629629,\n",
              " 0.9330808080808082,\n",
              " 0.9476342371079213,\n",
              " 0.9399263897147698)"
            ]
          },
          "metadata": {},
          "execution_count": 215
        }
      ]
    },
    {
      "cell_type": "code",
      "source": [
        "preds = m.predict_proba(valid_xs)\n",
        "true_y = valid_y\n",
        "roc_auc_score(true_y,preds,multi_class='ovr')"
      ],
      "metadata": {
        "colab": {
          "base_uri": "https://localhost:8080/"
        },
        "id": "toFei2PcvJQh",
        "outputId": "c7a8f7be-57dd-46de-c050-41690dafd681"
      },
      "execution_count": 216,
      "outputs": [
        {
          "output_type": "execute_result",
          "data": {
            "text/plain": [
              "0.9953153198787739"
            ]
          },
          "metadata": {},
          "execution_count": 216
        }
      ]
    },
    {
      "cell_type": "code",
      "source": [
        "#Better results\n",
        "\n",
        "# Model 5 - SST2 with echo"
      ],
      "metadata": {
        "id": "CCNCe4T3vLaT"
      },
      "execution_count": 217,
      "outputs": []
    },
    {
      "cell_type": "code",
      "source": [
        "cat = ['PAH',\n",
        " 'CONC',\n",
        " 'MR',\n",
        " 'AR',\n",
        " 'TR',\n",
        " 'PR',\n",
        " 'PE']\n",
        "cont = ['LA',\n",
        " 'AO',\n",
        " 'LVIDd',\n",
        " 'LVIDs',\n",
        " 'LVPWd',\n",
        " 'LVPWs',\n",
        " 'IVSDd',\n",
        " 'IVSDs',\n",
        " 'EF',\n",
        " 'FS',\n",
        " 'SV',\n",
        " 'EDV',\n",
        " 'ESV',\n",
        " 'RWT',\n",
        " 'PASP','sST2']"
      ],
      "metadata": {
        "id": "NL_xeT4CvWaS"
      },
      "execution_count": 218,
      "outputs": []
    },
    {
      "cell_type": "code",
      "source": [
        "to = TabularPandas(df, procs, cat, cont, y_names=dependant_variable,y_block=CategoryBlock(), splits=splits)\n",
        "to.show(3)"
      ],
      "metadata": {
        "colab": {
          "base_uri": "https://localhost:8080/",
          "height": 143
        },
        "id": "fEYlQFkUvYFC",
        "outputId": "358512e9-bfcf-438d-9d72-13cadb62ccac"
      },
      "execution_count": 219,
      "outputs": [
        {
          "output_type": "display_data",
          "data": {
            "text/html": [
              "<table border=\"1\" class=\"dataframe\">\n",
              "  <thead>\n",
              "    <tr style=\"text-align: right;\">\n",
              "      <th></th>\n",
              "      <th>PAH</th>\n",
              "      <th>CONC</th>\n",
              "      <th>MR</th>\n",
              "      <th>AR</th>\n",
              "      <th>TR</th>\n",
              "      <th>PR</th>\n",
              "      <th>PE</th>\n",
              "      <th>LA</th>\n",
              "      <th>AO</th>\n",
              "      <th>LVIDd</th>\n",
              "      <th>LVIDs</th>\n",
              "      <th>LVPWd</th>\n",
              "      <th>LVPWs</th>\n",
              "      <th>IVSDd</th>\n",
              "      <th>IVSDs</th>\n",
              "      <th>EF</th>\n",
              "      <th>FS</th>\n",
              "      <th>SV</th>\n",
              "      <th>EDV</th>\n",
              "      <th>ESV</th>\n",
              "      <th>RWT</th>\n",
              "      <th>PASP</th>\n",
              "      <th>sST2</th>\n",
              "      <th>GROUP</th>\n",
              "    </tr>\n",
              "  </thead>\n",
              "  <tbody>\n",
              "    <tr>\n",
              "      <th>271</th>\n",
              "      <td>NIL</td>\n",
              "      <td>NO</td>\n",
              "      <td>NIL</td>\n",
              "      <td>NIL</td>\n",
              "      <td>TRIVIAL</td>\n",
              "      <td>NIL</td>\n",
              "      <td>NIL</td>\n",
              "      <td>3.0</td>\n",
              "      <td>2.5</td>\n",
              "      <td>4.5</td>\n",
              "      <td>3.2</td>\n",
              "      <td>1.1</td>\n",
              "      <td>1.4</td>\n",
              "      <td>1.0</td>\n",
              "      <td>1.4</td>\n",
              "      <td>56</td>\n",
              "      <td>29</td>\n",
              "      <td>59</td>\n",
              "      <td>92</td>\n",
              "      <td>41</td>\n",
              "      <td>0.49</td>\n",
              "      <td>30</td>\n",
              "      <td>7.5</td>\n",
              "      <td>GROUP IV (CONTROL)</td>\n",
              "    </tr>\n",
              "    <tr>\n",
              "      <th>46</th>\n",
              "      <td>NIL</td>\n",
              "      <td>NO</td>\n",
              "      <td>NIL</td>\n",
              "      <td>NIL</td>\n",
              "      <td>NIL</td>\n",
              "      <td>NIL</td>\n",
              "      <td>NIL</td>\n",
              "      <td>3.0</td>\n",
              "      <td>2.8</td>\n",
              "      <td>4.1</td>\n",
              "      <td>3.1</td>\n",
              "      <td>1.1</td>\n",
              "      <td>1.3</td>\n",
              "      <td>1.1</td>\n",
              "      <td>1.3</td>\n",
              "      <td>60</td>\n",
              "      <td>30</td>\n",
              "      <td>34</td>\n",
              "      <td>72</td>\n",
              "      <td>39</td>\n",
              "      <td>0.54</td>\n",
              "      <td>29</td>\n",
              "      <td>15.3</td>\n",
              "      <td>GROUP I (PHARYNGITIS)</td>\n",
              "    </tr>\n",
              "    <tr>\n",
              "      <th>167</th>\n",
              "      <td>MILD</td>\n",
              "      <td>YES</td>\n",
              "      <td>MILD</td>\n",
              "      <td>MODERATE</td>\n",
              "      <td>MILD</td>\n",
              "      <td>NIL</td>\n",
              "      <td>NIL</td>\n",
              "      <td>3.4</td>\n",
              "      <td>2.9</td>\n",
              "      <td>4.7</td>\n",
              "      <td>3.3</td>\n",
              "      <td>1.2</td>\n",
              "      <td>1.3</td>\n",
              "      <td>1.2</td>\n",
              "      <td>1.5</td>\n",
              "      <td>56</td>\n",
              "      <td>29</td>\n",
              "      <td>56</td>\n",
              "      <td>101</td>\n",
              "      <td>50</td>\n",
              "      <td>0.51</td>\n",
              "      <td>48</td>\n",
              "      <td>23.5</td>\n",
              "      <td>GROUP III (RHD)</td>\n",
              "    </tr>\n",
              "  </tbody>\n",
              "</table>"
            ],
            "text/plain": [
              "<IPython.core.display.HTML object>"
            ]
          },
          "metadata": {}
        }
      ]
    },
    {
      "cell_type": "code",
      "source": [
        "xs,y = to.train.xs,to.train.y\n",
        "valid_xs,valid_y = to.valid.xs,to.valid.y\n",
        "m = rf(xs, y);\n",
        "fi = rf_feat_importance(m, xs)\n",
        "fi[:10]"
      ],
      "metadata": {
        "colab": {
          "base_uri": "https://localhost:8080/",
          "height": 363
        },
        "id": "7CkfnazDvZx6",
        "outputId": "2916a1f1-16dd-4489-faaf-10c264a2f11e"
      },
      "execution_count": 220,
      "outputs": [
        {
          "output_type": "execute_result",
          "data": {
            "text/html": [
              "\n",
              "  <div id=\"df-8adf36d5-60cb-42fd-a0f4-bbea77d50b9a\">\n",
              "    <div class=\"colab-df-container\">\n",
              "      <div>\n",
              "<style scoped>\n",
              "    .dataframe tbody tr th:only-of-type {\n",
              "        vertical-align: middle;\n",
              "    }\n",
              "\n",
              "    .dataframe tbody tr th {\n",
              "        vertical-align: top;\n",
              "    }\n",
              "\n",
              "    .dataframe thead th {\n",
              "        text-align: right;\n",
              "    }\n",
              "</style>\n",
              "<table border=\"1\" class=\"dataframe\">\n",
              "  <thead>\n",
              "    <tr style=\"text-align: right;\">\n",
              "      <th></th>\n",
              "      <th>cols</th>\n",
              "      <th>imp</th>\n",
              "    </tr>\n",
              "  </thead>\n",
              "  <tbody>\n",
              "    <tr>\n",
              "      <th>22</th>\n",
              "      <td>sST2</td>\n",
              "      <td>0.484786</td>\n",
              "    </tr>\n",
              "    <tr>\n",
              "      <th>7</th>\n",
              "      <td>LA</td>\n",
              "      <td>0.163611</td>\n",
              "    </tr>\n",
              "    <tr>\n",
              "      <th>15</th>\n",
              "      <td>EF</td>\n",
              "      <td>0.075973</td>\n",
              "    </tr>\n",
              "    <tr>\n",
              "      <th>21</th>\n",
              "      <td>PASP</td>\n",
              "      <td>0.062989</td>\n",
              "    </tr>\n",
              "    <tr>\n",
              "      <th>4</th>\n",
              "      <td>TR</td>\n",
              "      <td>0.062283</td>\n",
              "    </tr>\n",
              "    <tr>\n",
              "      <th>16</th>\n",
              "      <td>FS</td>\n",
              "      <td>0.039121</td>\n",
              "    </tr>\n",
              "    <tr>\n",
              "      <th>18</th>\n",
              "      <td>EDV</td>\n",
              "      <td>0.017358</td>\n",
              "    </tr>\n",
              "    <tr>\n",
              "      <th>19</th>\n",
              "      <td>ESV</td>\n",
              "      <td>0.013507</td>\n",
              "    </tr>\n",
              "    <tr>\n",
              "      <th>2</th>\n",
              "      <td>MR</td>\n",
              "      <td>0.013150</td>\n",
              "    </tr>\n",
              "    <tr>\n",
              "      <th>8</th>\n",
              "      <td>AO</td>\n",
              "      <td>0.011449</td>\n",
              "    </tr>\n",
              "  </tbody>\n",
              "</table>\n",
              "</div>\n",
              "      <button class=\"colab-df-convert\" onclick=\"convertToInteractive('df-8adf36d5-60cb-42fd-a0f4-bbea77d50b9a')\"\n",
              "              title=\"Convert this dataframe to an interactive table.\"\n",
              "              style=\"display:none;\">\n",
              "        \n",
              "  <svg xmlns=\"http://www.w3.org/2000/svg\" height=\"24px\"viewBox=\"0 0 24 24\"\n",
              "       width=\"24px\">\n",
              "    <path d=\"M0 0h24v24H0V0z\" fill=\"none\"/>\n",
              "    <path d=\"M18.56 5.44l.94 2.06.94-2.06 2.06-.94-2.06-.94-.94-2.06-.94 2.06-2.06.94zm-11 1L8.5 8.5l.94-2.06 2.06-.94-2.06-.94L8.5 2.5l-.94 2.06-2.06.94zm10 10l.94 2.06.94-2.06 2.06-.94-2.06-.94-.94-2.06-.94 2.06-2.06.94z\"/><path d=\"M17.41 7.96l-1.37-1.37c-.4-.4-.92-.59-1.43-.59-.52 0-1.04.2-1.43.59L10.3 9.45l-7.72 7.72c-.78.78-.78 2.05 0 2.83L4 21.41c.39.39.9.59 1.41.59.51 0 1.02-.2 1.41-.59l7.78-7.78 2.81-2.81c.8-.78.8-2.07 0-2.86zM5.41 20L4 18.59l7.72-7.72 1.47 1.35L5.41 20z\"/>\n",
              "  </svg>\n",
              "      </button>\n",
              "      \n",
              "  <style>\n",
              "    .colab-df-container {\n",
              "      display:flex;\n",
              "      flex-wrap:wrap;\n",
              "      gap: 12px;\n",
              "    }\n",
              "\n",
              "    .colab-df-convert {\n",
              "      background-color: #E8F0FE;\n",
              "      border: none;\n",
              "      border-radius: 50%;\n",
              "      cursor: pointer;\n",
              "      display: none;\n",
              "      fill: #1967D2;\n",
              "      height: 32px;\n",
              "      padding: 0 0 0 0;\n",
              "      width: 32px;\n",
              "    }\n",
              "\n",
              "    .colab-df-convert:hover {\n",
              "      background-color: #E2EBFA;\n",
              "      box-shadow: 0px 1px 2px rgba(60, 64, 67, 0.3), 0px 1px 3px 1px rgba(60, 64, 67, 0.15);\n",
              "      fill: #174EA6;\n",
              "    }\n",
              "\n",
              "    [theme=dark] .colab-df-convert {\n",
              "      background-color: #3B4455;\n",
              "      fill: #D2E3FC;\n",
              "    }\n",
              "\n",
              "    [theme=dark] .colab-df-convert:hover {\n",
              "      background-color: #434B5C;\n",
              "      box-shadow: 0px 1px 3px 1px rgba(0, 0, 0, 0.15);\n",
              "      filter: drop-shadow(0px 1px 2px rgba(0, 0, 0, 0.3));\n",
              "      fill: #FFFFFF;\n",
              "    }\n",
              "  </style>\n",
              "\n",
              "      <script>\n",
              "        const buttonEl =\n",
              "          document.querySelector('#df-8adf36d5-60cb-42fd-a0f4-bbea77d50b9a button.colab-df-convert');\n",
              "        buttonEl.style.display =\n",
              "          google.colab.kernel.accessAllowed ? 'block' : 'none';\n",
              "\n",
              "        async function convertToInteractive(key) {\n",
              "          const element = document.querySelector('#df-8adf36d5-60cb-42fd-a0f4-bbea77d50b9a');\n",
              "          const dataTable =\n",
              "            await google.colab.kernel.invokeFunction('convertToInteractive',\n",
              "                                                     [key], {});\n",
              "          if (!dataTable) return;\n",
              "\n",
              "          const docLinkHtml = 'Like what you see? Visit the ' +\n",
              "            '<a target=\"_blank\" href=https://colab.research.google.com/notebooks/data_table.ipynb>data table notebook</a>'\n",
              "            + ' to learn more about interactive tables.';\n",
              "          element.innerHTML = '';\n",
              "          dataTable['output_type'] = 'display_data';\n",
              "          await google.colab.output.renderOutput(dataTable, element);\n",
              "          const docLink = document.createElement('div');\n",
              "          docLink.innerHTML = docLinkHtml;\n",
              "          element.appendChild(docLink);\n",
              "        }\n",
              "      </script>\n",
              "    </div>\n",
              "  </div>\n",
              "  "
            ],
            "text/plain": [
              "    cols       imp\n",
              "22  sST2  0.484786\n",
              "7     LA  0.163611\n",
              "15    EF  0.075973\n",
              "21  PASP  0.062989\n",
              "4     TR  0.062283\n",
              "16    FS  0.039121\n",
              "18   EDV  0.017358\n",
              "19   ESV  0.013507\n",
              "2     MR  0.013150\n",
              "8     AO  0.011449"
            ]
          },
          "metadata": {},
          "execution_count": 220
        }
      ]
    },
    {
      "cell_type": "code",
      "source": [
        "plot_fi(fi[:30]);"
      ],
      "metadata": {
        "colab": {
          "base_uri": "https://localhost:8080/",
          "height": 431
        },
        "id": "BiE0Dt2_vbK6",
        "outputId": "bf499818-9454-40c7-9d8d-881c2c33932e"
      },
      "execution_count": 221,
      "outputs": [
        {
          "output_type": "display_data",
          "data": {
            "image/png": "[encoded data removed]",
            "text/plain": [
              "<Figure size 864x504 with 1 Axes>"
            ]
          },
          "metadata": {
            "needs_background": "light"
          }
        }
      ]
    },
    {
      "cell_type": "code",
      "source": [
        "(accuracy,precision,recall,f1) = get_metrics(m,valid_xs,valid_y)\n",
        "(accuracy,precision,recall,f1)"
      ],
      "metadata": {
        "colab": {
          "base_uri": "https://localhost:8080/"
        },
        "id": "IDuQVY2WvcaK",
        "outputId": "cacd0af2-f8ac-4abe-a232-5068202a27a8"
      },
      "execution_count": 222,
      "outputs": [
        {
          "output_type": "execute_result",
          "data": {
            "text/plain": [
              "(0.8518518518518519,\n",
              " 0.8999999999999999,\n",
              " 0.8156565656565656,\n",
              " 0.8079562468484542)"
            ]
          },
          "metadata": {},
          "execution_count": 222
        }
      ]
    },
    {
      "cell_type": "code",
      "source": [
        "preds = m.predict_proba(valid_xs)\n",
        "true_y = valid_y\n",
        "roc_auc_score(true_y,preds,multi_class='ovr')"
      ],
      "metadata": {
        "colab": {
          "base_uri": "https://localhost:8080/"
        },
        "id": "2sBK3ZGLvfrM",
        "outputId": "cc27a9f3-5f0e-4865-ae98-2201cdc0a281"
      },
      "execution_count": 223,
      "outputs": [
        {
          "output_type": "execute_result",
          "data": {
            "text/plain": [
              "0.9445623052635074"
            ]
          },
          "metadata": {},
          "execution_count": 223
        }
      ]
    },
    {
      "cell_type": "code",
      "source": [
        "# sST2 with blood is better than sST2 with echo\n",
        "\n",
        "# Model - 6 sST2 with Symptoms\n"
      ],
      "metadata": {
        "id": "Rwh7C5buviPC"
      },
      "execution_count": 224,
      "outputs": []
    },
    {
      "cell_type": "code",
      "source": [
        " cont = ['sST2']\n",
        " cat=['DOE I - II',\n",
        " 'DOE III - IV',\n",
        " 'FEVER',\n",
        " 'COLD & COUGH',\n",
        " 'SORETHROAT',\n",
        " 'CHEST PAIN',\n",
        " 'JOINT PAIN',\n",
        " 'PALPITATION',\n",
        " 'GIDDINESS',\n",
        " 'PEDAL EDMA']"
      ],
      "metadata": {
        "id": "BQb1NCmKvsyp"
      },
      "execution_count": 225,
      "outputs": []
    },
    {
      "cell_type": "code",
      "source": [
        "to = TabularPandas(df, procs, cat, cont, y_names=dependant_variable,y_block=CategoryBlock(), splits=splits)\n",
        "to.show(3)"
      ],
      "metadata": {
        "colab": {
          "base_uri": "https://localhost:8080/",
          "height": 143
        },
        "id": "280Wo0YQvw2B",
        "outputId": "59d36b60-30e0-4d84-80f4-11786cade683"
      },
      "execution_count": 226,
      "outputs": [
        {
          "output_type": "display_data",
          "data": {
            "text/html": [
              "<table border=\"1\" class=\"dataframe\">\n",
              "  <thead>\n",
              "    <tr style=\"text-align: right;\">\n",
              "      <th></th>\n",
              "      <th>DOE I - II</th>\n",
              "      <th>DOE III - IV</th>\n",
              "      <th>FEVER</th>\n",
              "      <th>COLD &amp; COUGH</th>\n",
              "      <th>SORETHROAT</th>\n",
              "      <th>CHEST PAIN</th>\n",
              "      <th>JOINT PAIN</th>\n",
              "      <th>PALPITATION</th>\n",
              "      <th>GIDDINESS</th>\n",
              "      <th>PEDAL EDMA</th>\n",
              "      <th>sST2</th>\n",
              "      <th>GROUP</th>\n",
              "    </tr>\n",
              "  </thead>\n",
              "  <tbody>\n",
              "    <tr>\n",
              "      <th>271</th>\n",
              "      <td>NO</td>\n",
              "      <td>NO</td>\n",
              "      <td>NO</td>\n",
              "      <td>NO</td>\n",
              "      <td>NO</td>\n",
              "      <td>NO</td>\n",
              "      <td>YES</td>\n",
              "      <td>NO</td>\n",
              "      <td>NO</td>\n",
              "      <td>NO</td>\n",
              "      <td>7.5</td>\n",
              "      <td>GROUP IV (CONTROL)</td>\n",
              "    </tr>\n",
              "    <tr>\n",
              "      <th>46</th>\n",
              "      <td>NO</td>\n",
              "      <td>YES</td>\n",
              "      <td>YES</td>\n",
              "      <td>NO</td>\n",
              "      <td>YES</td>\n",
              "      <td>YES</td>\n",
              "      <td>NO</td>\n",
              "      <td>NO</td>\n",
              "      <td>NO</td>\n",
              "      <td>NO</td>\n",
              "      <td>15.3</td>\n",
              "      <td>GROUP I (PHARYNGITIS)</td>\n",
              "    </tr>\n",
              "    <tr>\n",
              "      <th>167</th>\n",
              "      <td>NO</td>\n",
              "      <td>NO</td>\n",
              "      <td>NO</td>\n",
              "      <td>NO</td>\n",
              "      <td>NO</td>\n",
              "      <td>NO</td>\n",
              "      <td>NO</td>\n",
              "      <td>NO</td>\n",
              "      <td>NO</td>\n",
              "      <td>NO</td>\n",
              "      <td>23.5</td>\n",
              "      <td>GROUP III (RHD)</td>\n",
              "    </tr>\n",
              "  </tbody>\n",
              "</table>"
            ],
            "text/plain": [
              "<IPython.core.display.HTML object>"
            ]
          },
          "metadata": {}
        }
      ]
    },
    {
      "cell_type": "code",
      "source": [
        "xs,y = to.train.xs,to.train.y\n",
        "valid_xs,valid_y = to.valid.xs,to.valid.y\n",
        "m = rf(xs, y);\n",
        "fi = rf_feat_importance(m, xs)\n",
        "fi[:10]"
      ],
      "metadata": {
        "colab": {
          "base_uri": "https://localhost:8080/",
          "height": 363
        },
        "id": "7m_0ZqKGvyNV",
        "outputId": "92070d37-4f70-4ff2-a324-ce1d2ae82245"
      },
      "execution_count": 227,
      "outputs": [
        {
          "output_type": "execute_result",
          "data": {
            "text/html": [
              "\n",
              "  <div id=\"df-c234f9b4-2d40-46c2-8d82-8404dafbcb04\">\n",
              "    <div class=\"colab-df-container\">\n",
              "      <div>\n",
              "<style scoped>\n",
              "    .dataframe tbody tr th:only-of-type {\n",
              "        vertical-align: middle;\n",
              "    }\n",
              "\n",
              "    .dataframe tbody tr th {\n",
              "        vertical-align: top;\n",
              "    }\n",
              "\n",
              "    .dataframe thead th {\n",
              "        text-align: right;\n",
              "    }\n",
              "</style>\n",
              "<table border=\"1\" class=\"dataframe\">\n",
              "  <thead>\n",
              "    <tr style=\"text-align: right;\">\n",
              "      <th></th>\n",
              "      <th>cols</th>\n",
              "      <th>imp</th>\n",
              "    </tr>\n",
              "  </thead>\n",
              "  <tbody>\n",
              "    <tr>\n",
              "      <th>10</th>\n",
              "      <td>sST2</td>\n",
              "      <td>0.619168</td>\n",
              "    </tr>\n",
              "    <tr>\n",
              "      <th>4</th>\n",
              "      <td>SORETHROAT</td>\n",
              "      <td>0.158529</td>\n",
              "    </tr>\n",
              "    <tr>\n",
              "      <th>6</th>\n",
              "      <td>JOINT PAIN</td>\n",
              "      <td>0.068261</td>\n",
              "    </tr>\n",
              "    <tr>\n",
              "      <th>3</th>\n",
              "      <td>COLD &amp; COUGH</td>\n",
              "      <td>0.050618</td>\n",
              "    </tr>\n",
              "    <tr>\n",
              "      <th>1</th>\n",
              "      <td>DOE III - IV</td>\n",
              "      <td>0.049923</td>\n",
              "    </tr>\n",
              "    <tr>\n",
              "      <th>2</th>\n",
              "      <td>FEVER</td>\n",
              "      <td>0.027313</td>\n",
              "    </tr>\n",
              "    <tr>\n",
              "      <th>7</th>\n",
              "      <td>PALPITATION</td>\n",
              "      <td>0.008144</td>\n",
              "    </tr>\n",
              "    <tr>\n",
              "      <th>5</th>\n",
              "      <td>CHEST PAIN</td>\n",
              "      <td>0.006676</td>\n",
              "    </tr>\n",
              "    <tr>\n",
              "      <th>0</th>\n",
              "      <td>DOE I - II</td>\n",
              "      <td>0.006155</td>\n",
              "    </tr>\n",
              "    <tr>\n",
              "      <th>9</th>\n",
              "      <td>PEDAL EDMA</td>\n",
              "      <td>0.005133</td>\n",
              "    </tr>\n",
              "  </tbody>\n",
              "</table>\n",
              "</div>\n",
              "      <button class=\"colab-df-convert\" onclick=\"convertToInteractive('df-c234f9b4-2d40-46c2-8d82-8404dafbcb04')\"\n",
              "              title=\"Convert this dataframe to an interactive table.\"\n",
              "              style=\"display:none;\">\n",
              "        \n",
              "  <svg xmlns=\"http://www.w3.org/2000/svg\" height=\"24px\"viewBox=\"0 0 24 24\"\n",
              "       width=\"24px\">\n",
              "    <path d=\"M0 0h24v24H0V0z\" fill=\"none\"/>\n",
              "    <path d=\"M18.56 5.44l.94 2.06.94-2.06 2.06-.94-2.06-.94-.94-2.06-.94 2.06-2.06.94zm-11 1L8.5 8.5l.94-2.06 2.06-.94-2.06-.94L8.5 2.5l-.94 2.06-2.06.94zm10 10l.94 2.06.94-2.06 2.06-.94-2.06-.94-.94-2.06-.94 2.06-2.06.94z\"/><path d=\"M17.41 7.96l-1.37-1.37c-.4-.4-.92-.59-1.43-.59-.52 0-1.04.2-1.43.59L10.3 9.45l-7.72 7.72c-.78.78-.78 2.05 0 2.83L4 21.41c.39.39.9.59 1.41.59.51 0 1.02-.2 1.41-.59l7.78-7.78 2.81-2.81c.8-.78.8-2.07 0-2.86zM5.41 20L4 18.59l7.72-7.72 1.47 1.35L5.41 20z\"/>\n",
              "  </svg>\n",
              "      </button>\n",
              "      \n",
              "  <style>\n",
              "    .colab-df-container {\n",
              "      display:flex;\n",
              "      flex-wrap:wrap;\n",
              "      gap: 12px;\n",
              "    }\n",
              "\n",
              "    .colab-df-convert {\n",
              "      background-color: #E8F0FE;\n",
              "      border: none;\n",
              "      border-radius: 50%;\n",
              "      cursor: pointer;\n",
              "      display: none;\n",
              "      fill: #1967D2;\n",
              "      height: 32px;\n",
              "      padding: 0 0 0 0;\n",
              "      width: 32px;\n",
              "    }\n",
              "\n",
              "    .colab-df-convert:hover {\n",
              "      background-color: #E2EBFA;\n",
              "      box-shadow: 0px 1px 2px rgba(60, 64, 67, 0.3), 0px 1px 3px 1px rgba(60, 64, 67, 0.15);\n",
              "      fill: #174EA6;\n",
              "    }\n",
              "\n",
              "    [theme=dark] .colab-df-convert {\n",
              "      background-color: #3B4455;\n",
              "      fill: #D2E3FC;\n",
              "    }\n",
              "\n",
              "    [theme=dark] .colab-df-convert:hover {\n",
              "      background-color: #434B5C;\n",
              "      box-shadow: 0px 1px 3px 1px rgba(0, 0, 0, 0.15);\n",
              "      filter: drop-shadow(0px 1px 2px rgba(0, 0, 0, 0.3));\n",
              "      fill: #FFFFFF;\n",
              "    }\n",
              "  </style>\n",
              "\n",
              "      <script>\n",
              "        const buttonEl =\n",
              "          document.querySelector('#df-c234f9b4-2d40-46c2-8d82-8404dafbcb04 button.colab-df-convert');\n",
              "        buttonEl.style.display =\n",
              "          google.colab.kernel.accessAllowed ? 'block' : 'none';\n",
              "\n",
              "        async function convertToInteractive(key) {\n",
              "          const element = document.querySelector('#df-c234f9b4-2d40-46c2-8d82-8404dafbcb04');\n",
              "          const dataTable =\n",
              "            await google.colab.kernel.invokeFunction('convertToInteractive',\n",
              "                                                     [key], {});\n",
              "          if (!dataTable) return;\n",
              "\n",
              "          const docLinkHtml = 'Like what you see? Visit the ' +\n",
              "            '<a target=\"_blank\" href=https://colab.research.google.com/notebooks/data_table.ipynb>data table notebook</a>'\n",
              "            + ' to learn more about interactive tables.';\n",
              "          element.innerHTML = '';\n",
              "          dataTable['output_type'] = 'display_data';\n",
              "          await google.colab.output.renderOutput(dataTable, element);\n",
              "          const docLink = document.createElement('div');\n",
              "          docLink.innerHTML = docLinkHtml;\n",
              "          element.appendChild(docLink);\n",
              "        }\n",
              "      </script>\n",
              "    </div>\n",
              "  </div>\n",
              "  "
            ],
            "text/plain": [
              "            cols       imp\n",
              "10          sST2  0.619168\n",
              "4     SORETHROAT  0.158529\n",
              "6     JOINT PAIN  0.068261\n",
              "3   COLD & COUGH  0.050618\n",
              "1   DOE III - IV  0.049923\n",
              "2          FEVER  0.027313\n",
              "7    PALPITATION  0.008144\n",
              "5     CHEST PAIN  0.006676\n",
              "0     DOE I - II  0.006155\n",
              "9     PEDAL EDMA  0.005133"
            ]
          },
          "metadata": {},
          "execution_count": 227
        }
      ]
    },
    {
      "cell_type": "code",
      "source": [
        "plot_fi(fi[:30]);"
      ],
      "metadata": {
        "colab": {
          "base_uri": "https://localhost:8080/",
          "height": 431
        },
        "id": "PhAJ3x3xvzyB",
        "outputId": "dc817a91-a045-4f77-a974-37f6f10deb87"
      },
      "execution_count": 228,
      "outputs": [
        {
          "output_type": "display_data",
          "data": {
            "image/png": "[encoded data removed]",
            "text/plain": [
              "<Figure size 864x504 with 1 Axes>"
            ]
          },
          "metadata": {
            "needs_background": "light"
          }
        }
      ]
    },
    {
      "cell_type": "code",
      "source": [
        "(accuracy,precision,recall,f1) = get_metrics(m,valid_xs,valid_y)\n",
        "(accuracy,precision,recall,f1)"
      ],
      "metadata": {
        "colab": {
          "base_uri": "https://localhost:8080/"
        },
        "id": "cHhB2p-_v1W5",
        "outputId": "1d1257fa-0661-4ff4-c3a5-532a5046c2a5"
      },
      "execution_count": 229,
      "outputs": [
        {
          "output_type": "execute_result",
          "data": {
            "text/plain": [
              "(0.9074074074074074, 0.8616452991452992, 0.893474215842637, 0.8751565062270088)"
            ]
          },
          "metadata": {},
          "execution_count": 229
        }
      ]
    },
    {
      "cell_type": "code",
      "source": [
        "preds = m.predict_proba(valid_xs)\n",
        "true_y = valid_y\n",
        "roc_auc_score(true_y,preds,multi_class='ovr')"
      ],
      "metadata": {
        "colab": {
          "base_uri": "https://localhost:8080/"
        },
        "id": "GZN2oTmEv2-h",
        "outputId": "9edf2b3f-d4dc-4e88-f192-c3626e79b375"
      },
      "execution_count": 230,
      "outputs": [
        {
          "output_type": "execute_result",
          "data": {
            "text/plain": [
              "0.9882696879797449"
            ]
          },
          "metadata": {},
          "execution_count": 230
        }
      ]
    },
    {
      "cell_type": "code",
      "source": [
        "\n",
        "# Lets plot all 7 models results\n",
        "\n",
        "import matplotlib.pyplot as plt"
      ],
      "metadata": {
        "id": "raRLLFf_v5fJ"
      },
      "execution_count": 231,
      "outputs": []
    },
    {
      "cell_type": "code",
      "source": [
        "barWidth = 0.05\n",
        "fig = plt.subplots(figsize =(12, 8))\n",
        " \n",
        "# set height of bar\n",
        "A = [0.9351851851851852, 0.9055882352941176, 0.8971291866028709, 0.8997632945100467]\n",
        "B = [0.7777777777777778, 0.7885416666666667, 0.6401515151515151, 0.6775210084033614]\n",
        "C = [0.7592592592592593, 0.7364583333333333, 0.6245348219032429, 0.6194796136205112]\n",
        "D = [0.9629629629629629, 0.9330808080808082, 0.9476342371079213, 0.9399263897147698]\n",
        "E = [0.8518518518518519, 0.8999999999999999, 0.8156565656565656, 0.8079562468484542]\n",
        "F = [0.9074074074074074, 0.8616452991452992, 0.893474215842637, 0.8751565062270088]\n",
        "O = [0.9907407407407407, 0.9891304347826086, 0.9956140350877193, 0.9922320550639134]\n",
        " \n",
        "# Set position of bar on X axis\n",
        "br1 = np.arange(len(A))\n",
        "br2 = [x + barWidth for x in br1]\n",
        "br3 = [x + barWidth for x in br2]\n",
        "br4 = [x + barWidth for x in br3]\n",
        "br5 = [x + barWidth for x in br4]\n",
        "br6 = [x + barWidth for x in br5]\n",
        "br7 = [x + barWidth for x in br6]\n",
        " \n",
        "# Make the plot\n",
        "plt.bar(br1, A, color ='r', width = barWidth,\n",
        "        edgecolor ='grey', label ='A')\n",
        "plt.bar(br2, B, color ='g', width = barWidth,\n",
        "        edgecolor ='grey', label ='B')\n",
        "plt.bar(br3, C, color ='b', width = barWidth,\n",
        "        edgecolor ='grey', label ='C')\n",
        "plt.bar(br4, D, color ='c', width = barWidth,\n",
        "        edgecolor ='grey', label ='D')\n",
        "plt.bar(br5, E, color ='m', width = barWidth,\n",
        "        edgecolor ='grey', label ='E')\n",
        "plt.bar(br6, F, color ='y', width = barWidth,\n",
        "        edgecolor ='grey', label ='F')\n",
        "plt.bar(br7, O, color ='k', width = barWidth,\n",
        "        edgecolor ='grey', label ='O')\n",
        "\n",
        " \n",
        "# Adding Xticks\n",
        "plt.xlabel('Models', fontweight ='bold', fontsize = 15)\n",
        "plt.ylabel('Score', fontweight ='bold', fontsize = 15)\n",
        "plt.xticks([r + barWidth for r in range(len(A))],\n",
        "        ['Accuracy','Precision','Recall','F1'])\n",
        " \n",
        "plt.legend()\n",
        "plt.show()"
      ],
      "metadata": {
        "colab": {
          "base_uri": "https://localhost:8080/",
          "height": 505
        },
        "id": "EYAhJeaowI2K",
        "outputId": "3d22010f-9b0f-4e42-cc88-6d4986f897ec"
      },
      "execution_count": 237,
      "outputs": [
        {
          "output_type": "display_data",
          "data": {
            "image/png": "[encoded data removed]",
            "text/plain": [
              "<Figure size 864x576 with 1 Axes>"
            ]
          },
          "metadata": {
            "needs_background": "light"
          }
        }
      ]
    },
    {
      "cell_type": "code",
      "source": [
        "Model C is the poorest (Only symptoms), Model O is the best (all features), Model D is reasonable"
      ],
      "metadata": {
        "id": "qzSyxbD0wKhJ"
      },
      "execution_count": null,
      "outputs": []
    }
  ]
}